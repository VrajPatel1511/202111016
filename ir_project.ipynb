{
  "nbformat": 4,
  "nbformat_minor": 0,
  "metadata": {
    "colab": {
      "name": "ir_project.ipynb",
      "provenance": [],
      "collapsed_sections": []
    },
    "kernelspec": {
      "name": "python3",
      "display_name": "Python 3"
    },
    "language_info": {
      "name": "python"
    },
    "widgets": {
      "application/vnd.jupyter.widget-state+json": {
        "cee1a780d2d349e2854252a09a41d278": {
          "model_module": "@jupyter-widgets/controls",
          "model_name": "HBoxModel",
          "model_module_version": "1.5.0",
          "state": {
            "_dom_classes": [],
            "_model_module": "@jupyter-widgets/controls",
            "_model_module_version": "1.5.0",
            "_model_name": "HBoxModel",
            "_view_count": null,
            "_view_module": "@jupyter-widgets/controls",
            "_view_module_version": "1.5.0",
            "_view_name": "HBoxView",
            "box_style": "",
            "children": [
              "IPY_MODEL_528675a59f984f4e9f9da58f21d57f6e",
              "IPY_MODEL_9337875fd6a14755b7e18fb6fe1ff268",
              "IPY_MODEL_16223f896b1d435b94c2b8a99fafb2ed"
            ],
            "layout": "IPY_MODEL_32f9dec6f9c94029863d665422dd7b44"
          }
        },
        "528675a59f984f4e9f9da58f21d57f6e": {
          "model_module": "@jupyter-widgets/controls",
          "model_name": "HTMLModel",
          "model_module_version": "1.5.0",
          "state": {
            "_dom_classes": [],
            "_model_module": "@jupyter-widgets/controls",
            "_model_module_version": "1.5.0",
            "_model_name": "HTMLModel",
            "_view_count": null,
            "_view_module": "@jupyter-widgets/controls",
            "_view_module_version": "1.5.0",
            "_view_name": "HTMLView",
            "description": "",
            "description_tooltip": null,
            "layout": "IPY_MODEL_2dc92eb6137b46c281dfc0ac7cc58071",
            "placeholder": "​",
            "style": "IPY_MODEL_f01d7ac0709444d297e6dfb620e61199",
            "value": "Downloading: 100%"
          }
        },
        "9337875fd6a14755b7e18fb6fe1ff268": {
          "model_module": "@jupyter-widgets/controls",
          "model_name": "FloatProgressModel",
          "model_module_version": "1.5.0",
          "state": {
            "_dom_classes": [],
            "_model_module": "@jupyter-widgets/controls",
            "_model_module_version": "1.5.0",
            "_model_name": "FloatProgressModel",
            "_view_count": null,
            "_view_module": "@jupyter-widgets/controls",
            "_view_module_version": "1.5.0",
            "_view_name": "ProgressView",
            "bar_style": "success",
            "description": "",
            "description_tooltip": null,
            "layout": "IPY_MODEL_1ef0a15d9a15406dae0786de1aa5bec0",
            "max": 28,
            "min": 0,
            "orientation": "horizontal",
            "style": "IPY_MODEL_5e1aaf28ad4b485fa7e914bf36daa4fb",
            "value": 28
          }
        },
        "16223f896b1d435b94c2b8a99fafb2ed": {
          "model_module": "@jupyter-widgets/controls",
          "model_name": "HTMLModel",
          "model_module_version": "1.5.0",
          "state": {
            "_dom_classes": [],
            "_model_module": "@jupyter-widgets/controls",
            "_model_module_version": "1.5.0",
            "_model_name": "HTMLModel",
            "_view_count": null,
            "_view_module": "@jupyter-widgets/controls",
            "_view_module_version": "1.5.0",
            "_view_name": "HTMLView",
            "description": "",
            "description_tooltip": null,
            "layout": "IPY_MODEL_b19994bceeba47c48425cdd1f79b154d",
            "placeholder": "​",
            "style": "IPY_MODEL_99d0492428f442baa622c47129d302d7",
            "value": " 28.0/28.0 [00:00&lt;00:00, 226B/s]"
          }
        },
        "32f9dec6f9c94029863d665422dd7b44": {
          "model_module": "@jupyter-widgets/base",
          "model_name": "LayoutModel",
          "model_module_version": "1.2.0",
          "state": {
            "_model_module": "@jupyter-widgets/base",
            "_model_module_version": "1.2.0",
            "_model_name": "LayoutModel",
            "_view_count": null,
            "_view_module": "@jupyter-widgets/base",
            "_view_module_version": "1.2.0",
            "_view_name": "LayoutView",
            "align_content": null,
            "align_items": null,
            "align_self": null,
            "border": null,
            "bottom": null,
            "display": null,
            "flex": null,
            "flex_flow": null,
            "grid_area": null,
            "grid_auto_columns": null,
            "grid_auto_flow": null,
            "grid_auto_rows": null,
            "grid_column": null,
            "grid_gap": null,
            "grid_row": null,
            "grid_template_areas": null,
            "grid_template_columns": null,
            "grid_template_rows": null,
            "height": null,
            "justify_content": null,
            "justify_items": null,
            "left": null,
            "margin": null,
            "max_height": null,
            "max_width": null,
            "min_height": null,
            "min_width": null,
            "object_fit": null,
            "object_position": null,
            "order": null,
            "overflow": null,
            "overflow_x": null,
            "overflow_y": null,
            "padding": null,
            "right": null,
            "top": null,
            "visibility": null,
            "width": null
          }
        },
        "2dc92eb6137b46c281dfc0ac7cc58071": {
          "model_module": "@jupyter-widgets/base",
          "model_name": "LayoutModel",
          "model_module_version": "1.2.0",
          "state": {
            "_model_module": "@jupyter-widgets/base",
            "_model_module_version": "1.2.0",
            "_model_name": "LayoutModel",
            "_view_count": null,
            "_view_module": "@jupyter-widgets/base",
            "_view_module_version": "1.2.0",
            "_view_name": "LayoutView",
            "align_content": null,
            "align_items": null,
            "align_self": null,
            "border": null,
            "bottom": null,
            "display": null,
            "flex": null,
            "flex_flow": null,
            "grid_area": null,
            "grid_auto_columns": null,
            "grid_auto_flow": null,
            "grid_auto_rows": null,
            "grid_column": null,
            "grid_gap": null,
            "grid_row": null,
            "grid_template_areas": null,
            "grid_template_columns": null,
            "grid_template_rows": null,
            "height": null,
            "justify_content": null,
            "justify_items": null,
            "left": null,
            "margin": null,
            "max_height": null,
            "max_width": null,
            "min_height": null,
            "min_width": null,
            "object_fit": null,
            "object_position": null,
            "order": null,
            "overflow": null,
            "overflow_x": null,
            "overflow_y": null,
            "padding": null,
            "right": null,
            "top": null,
            "visibility": null,
            "width": null
          }
        },
        "f01d7ac0709444d297e6dfb620e61199": {
          "model_module": "@jupyter-widgets/controls",
          "model_name": "DescriptionStyleModel",
          "model_module_version": "1.5.0",
          "state": {
            "_model_module": "@jupyter-widgets/controls",
            "_model_module_version": "1.5.0",
            "_model_name": "DescriptionStyleModel",
            "_view_count": null,
            "_view_module": "@jupyter-widgets/base",
            "_view_module_version": "1.2.0",
            "_view_name": "StyleView",
            "description_width": ""
          }
        },
        "1ef0a15d9a15406dae0786de1aa5bec0": {
          "model_module": "@jupyter-widgets/base",
          "model_name": "LayoutModel",
          "model_module_version": "1.2.0",
          "state": {
            "_model_module": "@jupyter-widgets/base",
            "_model_module_version": "1.2.0",
            "_model_name": "LayoutModel",
            "_view_count": null,
            "_view_module": "@jupyter-widgets/base",
            "_view_module_version": "1.2.0",
            "_view_name": "LayoutView",
            "align_content": null,
            "align_items": null,
            "align_self": null,
            "border": null,
            "bottom": null,
            "display": null,
            "flex": null,
            "flex_flow": null,
            "grid_area": null,
            "grid_auto_columns": null,
            "grid_auto_flow": null,
            "grid_auto_rows": null,
            "grid_column": null,
            "grid_gap": null,
            "grid_row": null,
            "grid_template_areas": null,
            "grid_template_columns": null,
            "grid_template_rows": null,
            "height": null,
            "justify_content": null,
            "justify_items": null,
            "left": null,
            "margin": null,
            "max_height": null,
            "max_width": null,
            "min_height": null,
            "min_width": null,
            "object_fit": null,
            "object_position": null,
            "order": null,
            "overflow": null,
            "overflow_x": null,
            "overflow_y": null,
            "padding": null,
            "right": null,
            "top": null,
            "visibility": null,
            "width": null
          }
        },
        "5e1aaf28ad4b485fa7e914bf36daa4fb": {
          "model_module": "@jupyter-widgets/controls",
          "model_name": "ProgressStyleModel",
          "model_module_version": "1.5.0",
          "state": {
            "_model_module": "@jupyter-widgets/controls",
            "_model_module_version": "1.5.0",
            "_model_name": "ProgressStyleModel",
            "_view_count": null,
            "_view_module": "@jupyter-widgets/base",
            "_view_module_version": "1.2.0",
            "_view_name": "StyleView",
            "bar_color": null,
            "description_width": ""
          }
        },
        "b19994bceeba47c48425cdd1f79b154d": {
          "model_module": "@jupyter-widgets/base",
          "model_name": "LayoutModel",
          "model_module_version": "1.2.0",
          "state": {
            "_model_module": "@jupyter-widgets/base",
            "_model_module_version": "1.2.0",
            "_model_name": "LayoutModel",
            "_view_count": null,
            "_view_module": "@jupyter-widgets/base",
            "_view_module_version": "1.2.0",
            "_view_name": "LayoutView",
            "align_content": null,
            "align_items": null,
            "align_self": null,
            "border": null,
            "bottom": null,
            "display": null,
            "flex": null,
            "flex_flow": null,
            "grid_area": null,
            "grid_auto_columns": null,
            "grid_auto_flow": null,
            "grid_auto_rows": null,
            "grid_column": null,
            "grid_gap": null,
            "grid_row": null,
            "grid_template_areas": null,
            "grid_template_columns": null,
            "grid_template_rows": null,
            "height": null,
            "justify_content": null,
            "justify_items": null,
            "left": null,
            "margin": null,
            "max_height": null,
            "max_width": null,
            "min_height": null,
            "min_width": null,
            "object_fit": null,
            "object_position": null,
            "order": null,
            "overflow": null,
            "overflow_x": null,
            "overflow_y": null,
            "padding": null,
            "right": null,
            "top": null,
            "visibility": null,
            "width": null
          }
        },
        "99d0492428f442baa622c47129d302d7": {
          "model_module": "@jupyter-widgets/controls",
          "model_name": "DescriptionStyleModel",
          "model_module_version": "1.5.0",
          "state": {
            "_model_module": "@jupyter-widgets/controls",
            "_model_module_version": "1.5.0",
            "_model_name": "DescriptionStyleModel",
            "_view_count": null,
            "_view_module": "@jupyter-widgets/base",
            "_view_module_version": "1.2.0",
            "_view_name": "StyleView",
            "description_width": ""
          }
        },
        "93e393ccd58b4101984819ad5de17d8b": {
          "model_module": "@jupyter-widgets/controls",
          "model_name": "HBoxModel",
          "model_module_version": "1.5.0",
          "state": {
            "_dom_classes": [],
            "_model_module": "@jupyter-widgets/controls",
            "_model_module_version": "1.5.0",
            "_model_name": "HBoxModel",
            "_view_count": null,
            "_view_module": "@jupyter-widgets/controls",
            "_view_module_version": "1.5.0",
            "_view_name": "HBoxView",
            "box_style": "",
            "children": [
              "IPY_MODEL_7052136164b94cb49388fd708170e416",
              "IPY_MODEL_fa6922a4525b42f8b1674b169846fc64",
              "IPY_MODEL_bfb285c3fee1409a88665a847cec2c24"
            ],
            "layout": "IPY_MODEL_35fe04bd6c7a42ff99b5961d36db10c7"
          }
        },
        "7052136164b94cb49388fd708170e416": {
          "model_module": "@jupyter-widgets/controls",
          "model_name": "HTMLModel",
          "model_module_version": "1.5.0",
          "state": {
            "_dom_classes": [],
            "_model_module": "@jupyter-widgets/controls",
            "_model_module_version": "1.5.0",
            "_model_name": "HTMLModel",
            "_view_count": null,
            "_view_module": "@jupyter-widgets/controls",
            "_view_module_version": "1.5.0",
            "_view_name": "HTMLView",
            "description": "",
            "description_tooltip": null,
            "layout": "IPY_MODEL_d2805b6ac6d44341812cba58252db2d6",
            "placeholder": "​",
            "style": "IPY_MODEL_5c5d9e4e13e145c9a654ce9c9b178f71",
            "value": "Downloading: 100%"
          }
        },
        "fa6922a4525b42f8b1674b169846fc64": {
          "model_module": "@jupyter-widgets/controls",
          "model_name": "FloatProgressModel",
          "model_module_version": "1.5.0",
          "state": {
            "_dom_classes": [],
            "_model_module": "@jupyter-widgets/controls",
            "_model_module_version": "1.5.0",
            "_model_name": "FloatProgressModel",
            "_view_count": null,
            "_view_module": "@jupyter-widgets/controls",
            "_view_module_version": "1.5.0",
            "_view_name": "ProgressView",
            "bar_style": "success",
            "description": "",
            "description_tooltip": null,
            "layout": "IPY_MODEL_6b00e8c1f91c4f4cb80794c2ea3a0bf7",
            "max": 483,
            "min": 0,
            "orientation": "horizontal",
            "style": "IPY_MODEL_cf49ab907a5046c0b0ef8a6c3cccfd6f",
            "value": 483
          }
        },
        "bfb285c3fee1409a88665a847cec2c24": {
          "model_module": "@jupyter-widgets/controls",
          "model_name": "HTMLModel",
          "model_module_version": "1.5.0",
          "state": {
            "_dom_classes": [],
            "_model_module": "@jupyter-widgets/controls",
            "_model_module_version": "1.5.0",
            "_model_name": "HTMLModel",
            "_view_count": null,
            "_view_module": "@jupyter-widgets/controls",
            "_view_module_version": "1.5.0",
            "_view_name": "HTMLView",
            "description": "",
            "description_tooltip": null,
            "layout": "IPY_MODEL_c93e7259e035453d916460bcecd5b3ab",
            "placeholder": "​",
            "style": "IPY_MODEL_ffe11fee2d1c4e1d92003619a8dde173",
            "value": " 483/483 [00:00&lt;00:00, 5.08kB/s]"
          }
        },
        "35fe04bd6c7a42ff99b5961d36db10c7": {
          "model_module": "@jupyter-widgets/base",
          "model_name": "LayoutModel",
          "model_module_version": "1.2.0",
          "state": {
            "_model_module": "@jupyter-widgets/base",
            "_model_module_version": "1.2.0",
            "_model_name": "LayoutModel",
            "_view_count": null,
            "_view_module": "@jupyter-widgets/base",
            "_view_module_version": "1.2.0",
            "_view_name": "LayoutView",
            "align_content": null,
            "align_items": null,
            "align_self": null,
            "border": null,
            "bottom": null,
            "display": null,
            "flex": null,
            "flex_flow": null,
            "grid_area": null,
            "grid_auto_columns": null,
            "grid_auto_flow": null,
            "grid_auto_rows": null,
            "grid_column": null,
            "grid_gap": null,
            "grid_row": null,
            "grid_template_areas": null,
            "grid_template_columns": null,
            "grid_template_rows": null,
            "height": null,
            "justify_content": null,
            "justify_items": null,
            "left": null,
            "margin": null,
            "max_height": null,
            "max_width": null,
            "min_height": null,
            "min_width": null,
            "object_fit": null,
            "object_position": null,
            "order": null,
            "overflow": null,
            "overflow_x": null,
            "overflow_y": null,
            "padding": null,
            "right": null,
            "top": null,
            "visibility": null,
            "width": null
          }
        },
        "d2805b6ac6d44341812cba58252db2d6": {
          "model_module": "@jupyter-widgets/base",
          "model_name": "LayoutModel",
          "model_module_version": "1.2.0",
          "state": {
            "_model_module": "@jupyter-widgets/base",
            "_model_module_version": "1.2.0",
            "_model_name": "LayoutModel",
            "_view_count": null,
            "_view_module": "@jupyter-widgets/base",
            "_view_module_version": "1.2.0",
            "_view_name": "LayoutView",
            "align_content": null,
            "align_items": null,
            "align_self": null,
            "border": null,
            "bottom": null,
            "display": null,
            "flex": null,
            "flex_flow": null,
            "grid_area": null,
            "grid_auto_columns": null,
            "grid_auto_flow": null,
            "grid_auto_rows": null,
            "grid_column": null,
            "grid_gap": null,
            "grid_row": null,
            "grid_template_areas": null,
            "grid_template_columns": null,
            "grid_template_rows": null,
            "height": null,
            "justify_content": null,
            "justify_items": null,
            "left": null,
            "margin": null,
            "max_height": null,
            "max_width": null,
            "min_height": null,
            "min_width": null,
            "object_fit": null,
            "object_position": null,
            "order": null,
            "overflow": null,
            "overflow_x": null,
            "overflow_y": null,
            "padding": null,
            "right": null,
            "top": null,
            "visibility": null,
            "width": null
          }
        },
        "5c5d9e4e13e145c9a654ce9c9b178f71": {
          "model_module": "@jupyter-widgets/controls",
          "model_name": "DescriptionStyleModel",
          "model_module_version": "1.5.0",
          "state": {
            "_model_module": "@jupyter-widgets/controls",
            "_model_module_version": "1.5.0",
            "_model_name": "DescriptionStyleModel",
            "_view_count": null,
            "_view_module": "@jupyter-widgets/base",
            "_view_module_version": "1.2.0",
            "_view_name": "StyleView",
            "description_width": ""
          }
        },
        "6b00e8c1f91c4f4cb80794c2ea3a0bf7": {
          "model_module": "@jupyter-widgets/base",
          "model_name": "LayoutModel",
          "model_module_version": "1.2.0",
          "state": {
            "_model_module": "@jupyter-widgets/base",
            "_model_module_version": "1.2.0",
            "_model_name": "LayoutModel",
            "_view_count": null,
            "_view_module": "@jupyter-widgets/base",
            "_view_module_version": "1.2.0",
            "_view_name": "LayoutView",
            "align_content": null,
            "align_items": null,
            "align_self": null,
            "border": null,
            "bottom": null,
            "display": null,
            "flex": null,
            "flex_flow": null,
            "grid_area": null,
            "grid_auto_columns": null,
            "grid_auto_flow": null,
            "grid_auto_rows": null,
            "grid_column": null,
            "grid_gap": null,
            "grid_row": null,
            "grid_template_areas": null,
            "grid_template_columns": null,
            "grid_template_rows": null,
            "height": null,
            "justify_content": null,
            "justify_items": null,
            "left": null,
            "margin": null,
            "max_height": null,
            "max_width": null,
            "min_height": null,
            "min_width": null,
            "object_fit": null,
            "object_position": null,
            "order": null,
            "overflow": null,
            "overflow_x": null,
            "overflow_y": null,
            "padding": null,
            "right": null,
            "top": null,
            "visibility": null,
            "width": null
          }
        },
        "cf49ab907a5046c0b0ef8a6c3cccfd6f": {
          "model_module": "@jupyter-widgets/controls",
          "model_name": "ProgressStyleModel",
          "model_module_version": "1.5.0",
          "state": {
            "_model_module": "@jupyter-widgets/controls",
            "_model_module_version": "1.5.0",
            "_model_name": "ProgressStyleModel",
            "_view_count": null,
            "_view_module": "@jupyter-widgets/base",
            "_view_module_version": "1.2.0",
            "_view_name": "StyleView",
            "bar_color": null,
            "description_width": ""
          }
        },
        "c93e7259e035453d916460bcecd5b3ab": {
          "model_module": "@jupyter-widgets/base",
          "model_name": "LayoutModel",
          "model_module_version": "1.2.0",
          "state": {
            "_model_module": "@jupyter-widgets/base",
            "_model_module_version": "1.2.0",
            "_model_name": "LayoutModel",
            "_view_count": null,
            "_view_module": "@jupyter-widgets/base",
            "_view_module_version": "1.2.0",
            "_view_name": "LayoutView",
            "align_content": null,
            "align_items": null,
            "align_self": null,
            "border": null,
            "bottom": null,
            "display": null,
            "flex": null,
            "flex_flow": null,
            "grid_area": null,
            "grid_auto_columns": null,
            "grid_auto_flow": null,
            "grid_auto_rows": null,
            "grid_column": null,
            "grid_gap": null,
            "grid_row": null,
            "grid_template_areas": null,
            "grid_template_columns": null,
            "grid_template_rows": null,
            "height": null,
            "justify_content": null,
            "justify_items": null,
            "left": null,
            "margin": null,
            "max_height": null,
            "max_width": null,
            "min_height": null,
            "min_width": null,
            "object_fit": null,
            "object_position": null,
            "order": null,
            "overflow": null,
            "overflow_x": null,
            "overflow_y": null,
            "padding": null,
            "right": null,
            "top": null,
            "visibility": null,
            "width": null
          }
        },
        "ffe11fee2d1c4e1d92003619a8dde173": {
          "model_module": "@jupyter-widgets/controls",
          "model_name": "DescriptionStyleModel",
          "model_module_version": "1.5.0",
          "state": {
            "_model_module": "@jupyter-widgets/controls",
            "_model_module_version": "1.5.0",
            "_model_name": "DescriptionStyleModel",
            "_view_count": null,
            "_view_module": "@jupyter-widgets/base",
            "_view_module_version": "1.2.0",
            "_view_name": "StyleView",
            "description_width": ""
          }
        },
        "74bdfa59e2f94e1e9522ef67760b6b52": {
          "model_module": "@jupyter-widgets/controls",
          "model_name": "HBoxModel",
          "model_module_version": "1.5.0",
          "state": {
            "_dom_classes": [],
            "_model_module": "@jupyter-widgets/controls",
            "_model_module_version": "1.5.0",
            "_model_name": "HBoxModel",
            "_view_count": null,
            "_view_module": "@jupyter-widgets/controls",
            "_view_module_version": "1.5.0",
            "_view_name": "HBoxView",
            "box_style": "",
            "children": [
              "IPY_MODEL_f1ca76d5a70040ddb740cd0c46fc5b55",
              "IPY_MODEL_c27899fce78d4a7695dd6721bd8f84d7",
              "IPY_MODEL_93ce2598def14e868b81033b3a65429b"
            ],
            "layout": "IPY_MODEL_54b1c4fc98af473f8becf0e969ab89ea"
          }
        },
        "f1ca76d5a70040ddb740cd0c46fc5b55": {
          "model_module": "@jupyter-widgets/controls",
          "model_name": "HTMLModel",
          "model_module_version": "1.5.0",
          "state": {
            "_dom_classes": [],
            "_model_module": "@jupyter-widgets/controls",
            "_model_module_version": "1.5.0",
            "_model_name": "HTMLModel",
            "_view_count": null,
            "_view_module": "@jupyter-widgets/controls",
            "_view_module_version": "1.5.0",
            "_view_name": "HTMLView",
            "description": "",
            "description_tooltip": null,
            "layout": "IPY_MODEL_f5506ae2ecbc4d94be05e00da51791a9",
            "placeholder": "​",
            "style": "IPY_MODEL_fb52697dfdb44c16b14500ebe3e9bae2",
            "value": "Downloading: 100%"
          }
        },
        "c27899fce78d4a7695dd6721bd8f84d7": {
          "model_module": "@jupyter-widgets/controls",
          "model_name": "FloatProgressModel",
          "model_module_version": "1.5.0",
          "state": {
            "_dom_classes": [],
            "_model_module": "@jupyter-widgets/controls",
            "_model_module_version": "1.5.0",
            "_model_name": "FloatProgressModel",
            "_view_count": null,
            "_view_module": "@jupyter-widgets/controls",
            "_view_module_version": "1.5.0",
            "_view_name": "ProgressView",
            "bar_style": "success",
            "description": "",
            "description_tooltip": null,
            "layout": "IPY_MODEL_5e2c28f2bd39406691acc245e1762b3e",
            "max": 231508,
            "min": 0,
            "orientation": "horizontal",
            "style": "IPY_MODEL_6ca2bbbc2c9845cebc2ca1a62678d100",
            "value": 231508
          }
        },
        "93ce2598def14e868b81033b3a65429b": {
          "model_module": "@jupyter-widgets/controls",
          "model_name": "HTMLModel",
          "model_module_version": "1.5.0",
          "state": {
            "_dom_classes": [],
            "_model_module": "@jupyter-widgets/controls",
            "_model_module_version": "1.5.0",
            "_model_name": "HTMLModel",
            "_view_count": null,
            "_view_module": "@jupyter-widgets/controls",
            "_view_module_version": "1.5.0",
            "_view_name": "HTMLView",
            "description": "",
            "description_tooltip": null,
            "layout": "IPY_MODEL_cbeaa8aa38ad4584b951c672ff859352",
            "placeholder": "​",
            "style": "IPY_MODEL_eeee85e139124f5594cf04b6e5020f6d",
            "value": " 226k/226k [00:00&lt;00:00, 820kB/s]"
          }
        },
        "54b1c4fc98af473f8becf0e969ab89ea": {
          "model_module": "@jupyter-widgets/base",
          "model_name": "LayoutModel",
          "model_module_version": "1.2.0",
          "state": {
            "_model_module": "@jupyter-widgets/base",
            "_model_module_version": "1.2.0",
            "_model_name": "LayoutModel",
            "_view_count": null,
            "_view_module": "@jupyter-widgets/base",
            "_view_module_version": "1.2.0",
            "_view_name": "LayoutView",
            "align_content": null,
            "align_items": null,
            "align_self": null,
            "border": null,
            "bottom": null,
            "display": null,
            "flex": null,
            "flex_flow": null,
            "grid_area": null,
            "grid_auto_columns": null,
            "grid_auto_flow": null,
            "grid_auto_rows": null,
            "grid_column": null,
            "grid_gap": null,
            "grid_row": null,
            "grid_template_areas": null,
            "grid_template_columns": null,
            "grid_template_rows": null,
            "height": null,
            "justify_content": null,
            "justify_items": null,
            "left": null,
            "margin": null,
            "max_height": null,
            "max_width": null,
            "min_height": null,
            "min_width": null,
            "object_fit": null,
            "object_position": null,
            "order": null,
            "overflow": null,
            "overflow_x": null,
            "overflow_y": null,
            "padding": null,
            "right": null,
            "top": null,
            "visibility": null,
            "width": null
          }
        },
        "f5506ae2ecbc4d94be05e00da51791a9": {
          "model_module": "@jupyter-widgets/base",
          "model_name": "LayoutModel",
          "model_module_version": "1.2.0",
          "state": {
            "_model_module": "@jupyter-widgets/base",
            "_model_module_version": "1.2.0",
            "_model_name": "LayoutModel",
            "_view_count": null,
            "_view_module": "@jupyter-widgets/base",
            "_view_module_version": "1.2.0",
            "_view_name": "LayoutView",
            "align_content": null,
            "align_items": null,
            "align_self": null,
            "border": null,
            "bottom": null,
            "display": null,
            "flex": null,
            "flex_flow": null,
            "grid_area": null,
            "grid_auto_columns": null,
            "grid_auto_flow": null,
            "grid_auto_rows": null,
            "grid_column": null,
            "grid_gap": null,
            "grid_row": null,
            "grid_template_areas": null,
            "grid_template_columns": null,
            "grid_template_rows": null,
            "height": null,
            "justify_content": null,
            "justify_items": null,
            "left": null,
            "margin": null,
            "max_height": null,
            "max_width": null,
            "min_height": null,
            "min_width": null,
            "object_fit": null,
            "object_position": null,
            "order": null,
            "overflow": null,
            "overflow_x": null,
            "overflow_y": null,
            "padding": null,
            "right": null,
            "top": null,
            "visibility": null,
            "width": null
          }
        },
        "fb52697dfdb44c16b14500ebe3e9bae2": {
          "model_module": "@jupyter-widgets/controls",
          "model_name": "DescriptionStyleModel",
          "model_module_version": "1.5.0",
          "state": {
            "_model_module": "@jupyter-widgets/controls",
            "_model_module_version": "1.5.0",
            "_model_name": "DescriptionStyleModel",
            "_view_count": null,
            "_view_module": "@jupyter-widgets/base",
            "_view_module_version": "1.2.0",
            "_view_name": "StyleView",
            "description_width": ""
          }
        },
        "5e2c28f2bd39406691acc245e1762b3e": {
          "model_module": "@jupyter-widgets/base",
          "model_name": "LayoutModel",
          "model_module_version": "1.2.0",
          "state": {
            "_model_module": "@jupyter-widgets/base",
            "_model_module_version": "1.2.0",
            "_model_name": "LayoutModel",
            "_view_count": null,
            "_view_module": "@jupyter-widgets/base",
            "_view_module_version": "1.2.0",
            "_view_name": "LayoutView",
            "align_content": null,
            "align_items": null,
            "align_self": null,
            "border": null,
            "bottom": null,
            "display": null,
            "flex": null,
            "flex_flow": null,
            "grid_area": null,
            "grid_auto_columns": null,
            "grid_auto_flow": null,
            "grid_auto_rows": null,
            "grid_column": null,
            "grid_gap": null,
            "grid_row": null,
            "grid_template_areas": null,
            "grid_template_columns": null,
            "grid_template_rows": null,
            "height": null,
            "justify_content": null,
            "justify_items": null,
            "left": null,
            "margin": null,
            "max_height": null,
            "max_width": null,
            "min_height": null,
            "min_width": null,
            "object_fit": null,
            "object_position": null,
            "order": null,
            "overflow": null,
            "overflow_x": null,
            "overflow_y": null,
            "padding": null,
            "right": null,
            "top": null,
            "visibility": null,
            "width": null
          }
        },
        "6ca2bbbc2c9845cebc2ca1a62678d100": {
          "model_module": "@jupyter-widgets/controls",
          "model_name": "ProgressStyleModel",
          "model_module_version": "1.5.0",
          "state": {
            "_model_module": "@jupyter-widgets/controls",
            "_model_module_version": "1.5.0",
            "_model_name": "ProgressStyleModel",
            "_view_count": null,
            "_view_module": "@jupyter-widgets/base",
            "_view_module_version": "1.2.0",
            "_view_name": "StyleView",
            "bar_color": null,
            "description_width": ""
          }
        },
        "cbeaa8aa38ad4584b951c672ff859352": {
          "model_module": "@jupyter-widgets/base",
          "model_name": "LayoutModel",
          "model_module_version": "1.2.0",
          "state": {
            "_model_module": "@jupyter-widgets/base",
            "_model_module_version": "1.2.0",
            "_model_name": "LayoutModel",
            "_view_count": null,
            "_view_module": "@jupyter-widgets/base",
            "_view_module_version": "1.2.0",
            "_view_name": "LayoutView",
            "align_content": null,
            "align_items": null,
            "align_self": null,
            "border": null,
            "bottom": null,
            "display": null,
            "flex": null,
            "flex_flow": null,
            "grid_area": null,
            "grid_auto_columns": null,
            "grid_auto_flow": null,
            "grid_auto_rows": null,
            "grid_column": null,
            "grid_gap": null,
            "grid_row": null,
            "grid_template_areas": null,
            "grid_template_columns": null,
            "grid_template_rows": null,
            "height": null,
            "justify_content": null,
            "justify_items": null,
            "left": null,
            "margin": null,
            "max_height": null,
            "max_width": null,
            "min_height": null,
            "min_width": null,
            "object_fit": null,
            "object_position": null,
            "order": null,
            "overflow": null,
            "overflow_x": null,
            "overflow_y": null,
            "padding": null,
            "right": null,
            "top": null,
            "visibility": null,
            "width": null
          }
        },
        "eeee85e139124f5594cf04b6e5020f6d": {
          "model_module": "@jupyter-widgets/controls",
          "model_name": "DescriptionStyleModel",
          "model_module_version": "1.5.0",
          "state": {
            "_model_module": "@jupyter-widgets/controls",
            "_model_module_version": "1.5.0",
            "_model_name": "DescriptionStyleModel",
            "_view_count": null,
            "_view_module": "@jupyter-widgets/base",
            "_view_module_version": "1.2.0",
            "_view_name": "StyleView",
            "description_width": ""
          }
        },
        "64843e032c3d46ff844bacf9bf45f4fb": {
          "model_module": "@jupyter-widgets/controls",
          "model_name": "HBoxModel",
          "model_module_version": "1.5.0",
          "state": {
            "_dom_classes": [],
            "_model_module": "@jupyter-widgets/controls",
            "_model_module_version": "1.5.0",
            "_model_name": "HBoxModel",
            "_view_count": null,
            "_view_module": "@jupyter-widgets/controls",
            "_view_module_version": "1.5.0",
            "_view_name": "HBoxView",
            "box_style": "",
            "children": [
              "IPY_MODEL_3c55a893ff4647f2a4fde929b109f79d",
              "IPY_MODEL_43fe589912b441809d744041a056c3b5",
              "IPY_MODEL_13146b59c3494fe28a002660f8c1653e"
            ],
            "layout": "IPY_MODEL_087c800d420b4fed97d689280c10b872"
          }
        },
        "3c55a893ff4647f2a4fde929b109f79d": {
          "model_module": "@jupyter-widgets/controls",
          "model_name": "HTMLModel",
          "model_module_version": "1.5.0",
          "state": {
            "_dom_classes": [],
            "_model_module": "@jupyter-widgets/controls",
            "_model_module_version": "1.5.0",
            "_model_name": "HTMLModel",
            "_view_count": null,
            "_view_module": "@jupyter-widgets/controls",
            "_view_module_version": "1.5.0",
            "_view_name": "HTMLView",
            "description": "",
            "description_tooltip": null,
            "layout": "IPY_MODEL_007e1f4ee66849c1bef8d69f70d31088",
            "placeholder": "​",
            "style": "IPY_MODEL_3989329d05b84785b55969b5a4fb48bf",
            "value": "Downloading: 100%"
          }
        },
        "43fe589912b441809d744041a056c3b5": {
          "model_module": "@jupyter-widgets/controls",
          "model_name": "FloatProgressModel",
          "model_module_version": "1.5.0",
          "state": {
            "_dom_classes": [],
            "_model_module": "@jupyter-widgets/controls",
            "_model_module_version": "1.5.0",
            "_model_name": "FloatProgressModel",
            "_view_count": null,
            "_view_module": "@jupyter-widgets/controls",
            "_view_module_version": "1.5.0",
            "_view_name": "ProgressView",
            "bar_style": "success",
            "description": "",
            "description_tooltip": null,
            "layout": "IPY_MODEL_25e14084693646b78f8ead006a82c00c",
            "max": 466062,
            "min": 0,
            "orientation": "horizontal",
            "style": "IPY_MODEL_fa674cf617ed4ade8ca6622dcad9fbb5",
            "value": 466062
          }
        },
        "13146b59c3494fe28a002660f8c1653e": {
          "model_module": "@jupyter-widgets/controls",
          "model_name": "HTMLModel",
          "model_module_version": "1.5.0",
          "state": {
            "_dom_classes": [],
            "_model_module": "@jupyter-widgets/controls",
            "_model_module_version": "1.5.0",
            "_model_name": "HTMLModel",
            "_view_count": null,
            "_view_module": "@jupyter-widgets/controls",
            "_view_module_version": "1.5.0",
            "_view_name": "HTMLView",
            "description": "",
            "description_tooltip": null,
            "layout": "IPY_MODEL_6c84f23258ed4707b71815c018793e86",
            "placeholder": "​",
            "style": "IPY_MODEL_9a077cb4ca394c6bb4658c810da6a19a",
            "value": " 455k/455k [00:00&lt;00:00, 891kB/s]"
          }
        },
        "087c800d420b4fed97d689280c10b872": {
          "model_module": "@jupyter-widgets/base",
          "model_name": "LayoutModel",
          "model_module_version": "1.2.0",
          "state": {
            "_model_module": "@jupyter-widgets/base",
            "_model_module_version": "1.2.0",
            "_model_name": "LayoutModel",
            "_view_count": null,
            "_view_module": "@jupyter-widgets/base",
            "_view_module_version": "1.2.0",
            "_view_name": "LayoutView",
            "align_content": null,
            "align_items": null,
            "align_self": null,
            "border": null,
            "bottom": null,
            "display": null,
            "flex": null,
            "flex_flow": null,
            "grid_area": null,
            "grid_auto_columns": null,
            "grid_auto_flow": null,
            "grid_auto_rows": null,
            "grid_column": null,
            "grid_gap": null,
            "grid_row": null,
            "grid_template_areas": null,
            "grid_template_columns": null,
            "grid_template_rows": null,
            "height": null,
            "justify_content": null,
            "justify_items": null,
            "left": null,
            "margin": null,
            "max_height": null,
            "max_width": null,
            "min_height": null,
            "min_width": null,
            "object_fit": null,
            "object_position": null,
            "order": null,
            "overflow": null,
            "overflow_x": null,
            "overflow_y": null,
            "padding": null,
            "right": null,
            "top": null,
            "visibility": null,
            "width": null
          }
        },
        "007e1f4ee66849c1bef8d69f70d31088": {
          "model_module": "@jupyter-widgets/base",
          "model_name": "LayoutModel",
          "model_module_version": "1.2.0",
          "state": {
            "_model_module": "@jupyter-widgets/base",
            "_model_module_version": "1.2.0",
            "_model_name": "LayoutModel",
            "_view_count": null,
            "_view_module": "@jupyter-widgets/base",
            "_view_module_version": "1.2.0",
            "_view_name": "LayoutView",
            "align_content": null,
            "align_items": null,
            "align_self": null,
            "border": null,
            "bottom": null,
            "display": null,
            "flex": null,
            "flex_flow": null,
            "grid_area": null,
            "grid_auto_columns": null,
            "grid_auto_flow": null,
            "grid_auto_rows": null,
            "grid_column": null,
            "grid_gap": null,
            "grid_row": null,
            "grid_template_areas": null,
            "grid_template_columns": null,
            "grid_template_rows": null,
            "height": null,
            "justify_content": null,
            "justify_items": null,
            "left": null,
            "margin": null,
            "max_height": null,
            "max_width": null,
            "min_height": null,
            "min_width": null,
            "object_fit": null,
            "object_position": null,
            "order": null,
            "overflow": null,
            "overflow_x": null,
            "overflow_y": null,
            "padding": null,
            "right": null,
            "top": null,
            "visibility": null,
            "width": null
          }
        },
        "3989329d05b84785b55969b5a4fb48bf": {
          "model_module": "@jupyter-widgets/controls",
          "model_name": "DescriptionStyleModel",
          "model_module_version": "1.5.0",
          "state": {
            "_model_module": "@jupyter-widgets/controls",
            "_model_module_version": "1.5.0",
            "_model_name": "DescriptionStyleModel",
            "_view_count": null,
            "_view_module": "@jupyter-widgets/base",
            "_view_module_version": "1.2.0",
            "_view_name": "StyleView",
            "description_width": ""
          }
        },
        "25e14084693646b78f8ead006a82c00c": {
          "model_module": "@jupyter-widgets/base",
          "model_name": "LayoutModel",
          "model_module_version": "1.2.0",
          "state": {
            "_model_module": "@jupyter-widgets/base",
            "_model_module_version": "1.2.0",
            "_model_name": "LayoutModel",
            "_view_count": null,
            "_view_module": "@jupyter-widgets/base",
            "_view_module_version": "1.2.0",
            "_view_name": "LayoutView",
            "align_content": null,
            "align_items": null,
            "align_self": null,
            "border": null,
            "bottom": null,
            "display": null,
            "flex": null,
            "flex_flow": null,
            "grid_area": null,
            "grid_auto_columns": null,
            "grid_auto_flow": null,
            "grid_auto_rows": null,
            "grid_column": null,
            "grid_gap": null,
            "grid_row": null,
            "grid_template_areas": null,
            "grid_template_columns": null,
            "grid_template_rows": null,
            "height": null,
            "justify_content": null,
            "justify_items": null,
            "left": null,
            "margin": null,
            "max_height": null,
            "max_width": null,
            "min_height": null,
            "min_width": null,
            "object_fit": null,
            "object_position": null,
            "order": null,
            "overflow": null,
            "overflow_x": null,
            "overflow_y": null,
            "padding": null,
            "right": null,
            "top": null,
            "visibility": null,
            "width": null
          }
        },
        "fa674cf617ed4ade8ca6622dcad9fbb5": {
          "model_module": "@jupyter-widgets/controls",
          "model_name": "ProgressStyleModel",
          "model_module_version": "1.5.0",
          "state": {
            "_model_module": "@jupyter-widgets/controls",
            "_model_module_version": "1.5.0",
            "_model_name": "ProgressStyleModel",
            "_view_count": null,
            "_view_module": "@jupyter-widgets/base",
            "_view_module_version": "1.2.0",
            "_view_name": "StyleView",
            "bar_color": null,
            "description_width": ""
          }
        },
        "6c84f23258ed4707b71815c018793e86": {
          "model_module": "@jupyter-widgets/base",
          "model_name": "LayoutModel",
          "model_module_version": "1.2.0",
          "state": {
            "_model_module": "@jupyter-widgets/base",
            "_model_module_version": "1.2.0",
            "_model_name": "LayoutModel",
            "_view_count": null,
            "_view_module": "@jupyter-widgets/base",
            "_view_module_version": "1.2.0",
            "_view_name": "LayoutView",
            "align_content": null,
            "align_items": null,
            "align_self": null,
            "border": null,
            "bottom": null,
            "display": null,
            "flex": null,
            "flex_flow": null,
            "grid_area": null,
            "grid_auto_columns": null,
            "grid_auto_flow": null,
            "grid_auto_rows": null,
            "grid_column": null,
            "grid_gap": null,
            "grid_row": null,
            "grid_template_areas": null,
            "grid_template_columns": null,
            "grid_template_rows": null,
            "height": null,
            "justify_content": null,
            "justify_items": null,
            "left": null,
            "margin": null,
            "max_height": null,
            "max_width": null,
            "min_height": null,
            "min_width": null,
            "object_fit": null,
            "object_position": null,
            "order": null,
            "overflow": null,
            "overflow_x": null,
            "overflow_y": null,
            "padding": null,
            "right": null,
            "top": null,
            "visibility": null,
            "width": null
          }
        },
        "9a077cb4ca394c6bb4658c810da6a19a": {
          "model_module": "@jupyter-widgets/controls",
          "model_name": "DescriptionStyleModel",
          "model_module_version": "1.5.0",
          "state": {
            "_model_module": "@jupyter-widgets/controls",
            "_model_module_version": "1.5.0",
            "_model_name": "DescriptionStyleModel",
            "_view_count": null,
            "_view_module": "@jupyter-widgets/base",
            "_view_module_version": "1.2.0",
            "_view_name": "StyleView",
            "description_width": ""
          }
        }
      }
    }
  },
  "cells": [
    {
      "cell_type": "code",
      "execution_count": 2,
      "metadata": {
        "colab": {
          "base_uri": "https://localhost:8080/"
        },
        "id": "g5p4Ux_n9eAC",
        "outputId": "7d9b337b-9dea-4b7f-c959-a5d7727e4374"
      },
      "outputs": [
        {
          "output_type": "stream",
          "name": "stdout",
          "text": [
            "[nltk_data] Downloading package punkt to /root/nltk_data...\n",
            "[nltk_data]   Unzipping tokenizers/punkt.zip.\n",
            "[nltk_data] Downloading package stopwords to /root/nltk_data...\n",
            "[nltk_data]   Unzipping corpora/stopwords.zip.\n",
            "[nltk_data] Downloading package wordnet to /root/nltk_data...\n",
            "[nltk_data]   Unzipping corpora/wordnet.zip.\n"
          ]
        }
      ],
      "source": [
        "from bs4 import BeautifulSoup\n",
        "import os\n",
        "import pandas as pd\n",
        "import nltk\n",
        "nltk.download('punkt')\n",
        "from nltk.corpus import stopwords\n",
        "nltk.download('stopwords')\n",
        "from nltk.stem import PorterStemmer\n",
        "nltk.download('wordnet')\n",
        "from nltk.stem import WordNetLemmatizer\n",
        "import math\n",
        "import re\n",
        "import pickle"
      ]
    },
    {
      "cell_type": "code",
      "source": [
        "!pip install talib-binary"
      ],
      "metadata": {
        "colab": {
          "base_uri": "https://localhost:8080/"
        },
        "id": "GwWLM5qyf9xn",
        "outputId": "e552aab6-9379-4887-a685-ba01f644a844"
      },
      "execution_count": null,
      "outputs": [
        {
          "output_type": "stream",
          "name": "stdout",
          "text": [
            "Collecting talib-binary\n",
            "  Downloading talib_binary-0.4.19-cp37-cp37m-manylinux1_x86_64.whl (2.4 MB)\n",
            "\u001b[K     |████████████████████████████████| 2.4 MB 5.4 MB/s \n",
            "\u001b[?25hRequirement already satisfied: numpy in /usr/local/lib/python3.7/dist-packages (from talib-binary) (1.21.6)\n",
            "Installing collected packages: talib-binary\n",
            "Successfully installed talib-binary-0.4.19\n"
          ]
        }
      ]
    },
    {
      "cell_type": "code",
      "source": [
        "import talib as tb"
      ],
      "metadata": {
        "id": "Sq5CC0mUgMzp"
      },
      "execution_count": null,
      "outputs": []
    },
    {
      "cell_type": "code",
      "source": [
        "pip install transformers"
      ],
      "metadata": {
        "colab": {
          "base_uri": "https://localhost:8080/"
        },
        "id": "UGYpQ4hQqt4x",
        "outputId": "0d4f93a3-d0b6-43d2-a0e4-22e49167b02a"
      },
      "execution_count": null,
      "outputs": [
        {
          "output_type": "stream",
          "name": "stdout",
          "text": [
            "Collecting transformers\n",
            "  Downloading transformers-4.18.0-py3-none-any.whl (4.0 MB)\n",
            "\u001b[K     |████████████████████████████████| 4.0 MB 5.4 MB/s \n",
            "\u001b[?25hCollecting pyyaml>=5.1\n",
            "  Downloading PyYAML-6.0-cp37-cp37m-manylinux_2_5_x86_64.manylinux1_x86_64.manylinux_2_12_x86_64.manylinux2010_x86_64.whl (596 kB)\n",
            "\u001b[K     |████████████████████████████████| 596 kB 41.3 MB/s \n",
            "\u001b[?25hRequirement already satisfied: importlib-metadata in /usr/local/lib/python3.7/dist-packages (from transformers) (4.11.3)\n",
            "Collecting tokenizers!=0.11.3,<0.13,>=0.11.1\n",
            "  Downloading tokenizers-0.12.1-cp37-cp37m-manylinux_2_12_x86_64.manylinux2010_x86_64.whl (6.6 MB)\n",
            "\u001b[K     |████████████████████████████████| 6.6 MB 21.3 MB/s \n",
            "\u001b[?25hCollecting sacremoses\n",
            "  Downloading sacremoses-0.0.49-py3-none-any.whl (895 kB)\n",
            "\u001b[K     |████████████████████████████████| 895 kB 41.8 MB/s \n",
            "\u001b[?25hCollecting huggingface-hub<1.0,>=0.1.0\n",
            "  Downloading huggingface_hub-0.5.1-py3-none-any.whl (77 kB)\n",
            "\u001b[K     |████████████████████████████████| 77 kB 5.8 MB/s \n",
            "\u001b[?25hRequirement already satisfied: tqdm>=4.27 in /usr/local/lib/python3.7/dist-packages (from transformers) (4.64.0)\n",
            "Requirement already satisfied: regex!=2019.12.17 in /usr/local/lib/python3.7/dist-packages (from transformers) (2019.12.20)\n",
            "Requirement already satisfied: numpy>=1.17 in /usr/local/lib/python3.7/dist-packages (from transformers) (1.21.6)\n",
            "Requirement already satisfied: packaging>=20.0 in /usr/local/lib/python3.7/dist-packages (from transformers) (21.3)\n",
            "Requirement already satisfied: filelock in /usr/local/lib/python3.7/dist-packages (from transformers) (3.6.0)\n",
            "Requirement already satisfied: requests in /usr/local/lib/python3.7/dist-packages (from transformers) (2.23.0)\n",
            "Requirement already satisfied: typing-extensions>=3.7.4.3 in /usr/local/lib/python3.7/dist-packages (from huggingface-hub<1.0,>=0.1.0->transformers) (4.1.1)\n",
            "Requirement already satisfied: pyparsing!=3.0.5,>=2.0.2 in /usr/local/lib/python3.7/dist-packages (from packaging>=20.0->transformers) (3.0.8)\n",
            "Requirement already satisfied: zipp>=0.5 in /usr/local/lib/python3.7/dist-packages (from importlib-metadata->transformers) (3.8.0)\n",
            "Requirement already satisfied: idna<3,>=2.5 in /usr/local/lib/python3.7/dist-packages (from requests->transformers) (2.10)\n",
            "Requirement already satisfied: certifi>=2017.4.17 in /usr/local/lib/python3.7/dist-packages (from requests->transformers) (2021.10.8)\n",
            "Requirement already satisfied: urllib3!=1.25.0,!=1.25.1,<1.26,>=1.21.1 in /usr/local/lib/python3.7/dist-packages (from requests->transformers) (1.24.3)\n",
            "Requirement already satisfied: chardet<4,>=3.0.2 in /usr/local/lib/python3.7/dist-packages (from requests->transformers) (3.0.4)\n",
            "Requirement already satisfied: joblib in /usr/local/lib/python3.7/dist-packages (from sacremoses->transformers) (1.1.0)\n",
            "Requirement already satisfied: six in /usr/local/lib/python3.7/dist-packages (from sacremoses->transformers) (1.15.0)\n",
            "Requirement already satisfied: click in /usr/local/lib/python3.7/dist-packages (from sacremoses->transformers) (7.1.2)\n",
            "Installing collected packages: pyyaml, tokenizers, sacremoses, huggingface-hub, transformers\n",
            "  Attempting uninstall: pyyaml\n",
            "    Found existing installation: PyYAML 3.13\n",
            "    Uninstalling PyYAML-3.13:\n",
            "      Successfully uninstalled PyYAML-3.13\n",
            "Successfully installed huggingface-hub-0.5.1 pyyaml-6.0 sacremoses-0.0.49 tokenizers-0.12.1 transformers-4.18.0\n"
          ]
        }
      ]
    },
    {
      "cell_type": "code",
      "source": [
        "import os\n",
        "import re\n",
        "import string\n",
        "import numpy as np\n",
        "import pandas as pd\n",
        "import matplotlib.pyplot as plt\n",
        "import seaborn as sns\n",
        "from tqdm import tqdm # Progress Bar\n",
        "import nltk\n",
        "from nltk.corpus import stopwords\n",
        "from nltk.stem.porter import PorterStemmer\n",
        "from sklearn.preprocessing import LabelEncoder\n",
        "from sklearn.feature_extraction.text import TfidfVectorizer\n",
        "from sklearn.naive_bayes import MultinomialNB\n",
        "from sklearn.pipeline import make_pipeline\n",
        "from sklearn.metrics import confusion_matrix, classification_report, accuracy_score\n",
        "# import transformers\n",
        "# from transformers import DistilBertTokenizer, TFDistilBertModel, DistilBertConfig\n",
        "# import tensorflow as tf\n",
        "# from tensorflow.keras.callbacks import ModelCheckpoint, ReduceLROnPlateau, EarlyStopping\n",
        "# import warnings\n",
        "# from transformers import logging as hf_logging\n",
        "# #hf_logging.set_verbosity_error() # Hidding Huggingface Warnings\n",
        "# warnings.filterwarnings(\"ignore\")"
      ],
      "metadata": {
        "id": "W-kTj-mtGciP"
      },
      "execution_count": 3,
      "outputs": []
    },
    {
      "cell_type": "code",
      "source": [
        "df = pd.read_csv('/content/drive/MyDrive/ir_project/data/News_data.csv')\n",
        "df.head()"
      ],
      "metadata": {
        "colab": {
          "base_uri": "https://localhost:8080/",
          "height": 461
        },
        "id": "gbzJ0WNS-NE_",
        "outputId": "8a1693fa-fb08-4f67-de73-cc37ea4899da"
      },
      "execution_count": 4,
      "outputs": [
        {
          "output_type": "stream",
          "name": "stderr",
          "text": [
            "/usr/local/lib/python3.7/dist-packages/IPython/core/interactiveshell.py:2882: DtypeWarning: Columns (1,2,3,4) have mixed types.Specify dtype option on import or set low_memory=False.\n",
            "  exec(code_obj, self.user_global_ns, self.user_ns)\n"
          ]
        },
        {
          "output_type": "execute_result",
          "data": {
            "text/plain": [
              "                                _id                       Date  \\\n",
              "0  0c527fa7eb018291956dee960b525e5a  2010-01-01T00:09:00+05:30   \n",
              "1  b4ef0747e88a8d93989041e053e6341b  2010-01-01T00:12:00+05:30   \n",
              "2  495032c67bf9e53dfbf5352154e78471  2010-01-01T00:18:00+05:30   \n",
              "3  ae0f4e9d7d5e46cfcc28817b06cf3ce7  2010-01-01T00:27:00+05:30   \n",
              "4  1a4fbde9cf9bc08c0b4280f36efc7127  2010-01-01T00:30:00+05:30   \n",
              "\n",
              "                                               Title  \\\n",
              "0  Companies adopt wierd names to catch consumer ...   \n",
              "1     3 Idiots set to be Bollywood’s biggest grosser   \n",
              "2  Bharti bags Bangladesh’s Warid for bargain pri...   \n",
              "3          Corporate air travel takes off once again   \n",
              "4  Global mediclaim policy awaits jet-setting exe...   \n",
              "\n",
              "                                             Article  \\\n",
              "0  NEW DELHI/BANGALORE: In New Delhi’s posh South...   \n",
              "1  NEW DELHI: Three idiots is on its way to becom...   \n",
              "2  India’s largest telecom company Bharti Airtel ...   \n",
              "3  MUMBAI: As global economy improves, corporate ...   \n",
              "4  MUMBAI: Globe trotting executives will no long...   \n",
              "\n",
              "                                                Link  \n",
              "0  https://economictimes.indiatimes.com/industry/...  \n",
              "1  https://economictimes.indiatimes.com/industry/...  \n",
              "2  https://economictimes.indiatimes.com/industry/...  \n",
              "3  https://economictimes.indiatimes.com/news/comp...  \n",
              "4  https://economictimes.indiatimes.com/news/comp...  "
            ],
            "text/html": [
              "\n",
              "  <div id=\"df-ea9d4f94-960d-46f4-8831-ab91cdf061c9\">\n",
              "    <div class=\"colab-df-container\">\n",
              "      <div>\n",
              "<style scoped>\n",
              "    .dataframe tbody tr th:only-of-type {\n",
              "        vertical-align: middle;\n",
              "    }\n",
              "\n",
              "    .dataframe tbody tr th {\n",
              "        vertical-align: top;\n",
              "    }\n",
              "\n",
              "    .dataframe thead th {\n",
              "        text-align: right;\n",
              "    }\n",
              "</style>\n",
              "<table border=\"1\" class=\"dataframe\">\n",
              "  <thead>\n",
              "    <tr style=\"text-align: right;\">\n",
              "      <th></th>\n",
              "      <th>_id</th>\n",
              "      <th>Date</th>\n",
              "      <th>Title</th>\n",
              "      <th>Article</th>\n",
              "      <th>Link</th>\n",
              "    </tr>\n",
              "  </thead>\n",
              "  <tbody>\n",
              "    <tr>\n",
              "      <th>0</th>\n",
              "      <td>0c527fa7eb018291956dee960b525e5a</td>\n",
              "      <td>2010-01-01T00:09:00+05:30</td>\n",
              "      <td>Companies adopt wierd names to catch consumer ...</td>\n",
              "      <td>NEW DELHI/BANGALORE: In New Delhi’s posh South...</td>\n",
              "      <td>https://economictimes.indiatimes.com/industry/...</td>\n",
              "    </tr>\n",
              "    <tr>\n",
              "      <th>1</th>\n",
              "      <td>b4ef0747e88a8d93989041e053e6341b</td>\n",
              "      <td>2010-01-01T00:12:00+05:30</td>\n",
              "      <td>3 Idiots set to be Bollywood’s biggest grosser</td>\n",
              "      <td>NEW DELHI: Three idiots is on its way to becom...</td>\n",
              "      <td>https://economictimes.indiatimes.com/industry/...</td>\n",
              "    </tr>\n",
              "    <tr>\n",
              "      <th>2</th>\n",
              "      <td>495032c67bf9e53dfbf5352154e78471</td>\n",
              "      <td>2010-01-01T00:18:00+05:30</td>\n",
              "      <td>Bharti bags Bangladesh’s Warid for bargain pri...</td>\n",
              "      <td>India’s largest telecom company Bharti Airtel ...</td>\n",
              "      <td>https://economictimes.indiatimes.com/industry/...</td>\n",
              "    </tr>\n",
              "    <tr>\n",
              "      <th>3</th>\n",
              "      <td>ae0f4e9d7d5e46cfcc28817b06cf3ce7</td>\n",
              "      <td>2010-01-01T00:27:00+05:30</td>\n",
              "      <td>Corporate air travel takes off once again</td>\n",
              "      <td>MUMBAI: As global economy improves, corporate ...</td>\n",
              "      <td>https://economictimes.indiatimes.com/news/comp...</td>\n",
              "    </tr>\n",
              "    <tr>\n",
              "      <th>4</th>\n",
              "      <td>1a4fbde9cf9bc08c0b4280f36efc7127</td>\n",
              "      <td>2010-01-01T00:30:00+05:30</td>\n",
              "      <td>Global mediclaim policy awaits jet-setting exe...</td>\n",
              "      <td>MUMBAI: Globe trotting executives will no long...</td>\n",
              "      <td>https://economictimes.indiatimes.com/news/comp...</td>\n",
              "    </tr>\n",
              "  </tbody>\n",
              "</table>\n",
              "</div>\n",
              "      <button class=\"colab-df-convert\" onclick=\"convertToInteractive('df-ea9d4f94-960d-46f4-8831-ab91cdf061c9')\"\n",
              "              title=\"Convert this dataframe to an interactive table.\"\n",
              "              style=\"display:none;\">\n",
              "        \n",
              "  <svg xmlns=\"http://www.w3.org/2000/svg\" height=\"24px\"viewBox=\"0 0 24 24\"\n",
              "       width=\"24px\">\n",
              "    <path d=\"M0 0h24v24H0V0z\" fill=\"none\"/>\n",
              "    <path d=\"M18.56 5.44l.94 2.06.94-2.06 2.06-.94-2.06-.94-.94-2.06-.94 2.06-2.06.94zm-11 1L8.5 8.5l.94-2.06 2.06-.94-2.06-.94L8.5 2.5l-.94 2.06-2.06.94zm10 10l.94 2.06.94-2.06 2.06-.94-2.06-.94-.94-2.06-.94 2.06-2.06.94z\"/><path d=\"M17.41 7.96l-1.37-1.37c-.4-.4-.92-.59-1.43-.59-.52 0-1.04.2-1.43.59L10.3 9.45l-7.72 7.72c-.78.78-.78 2.05 0 2.83L4 21.41c.39.39.9.59 1.41.59.51 0 1.02-.2 1.41-.59l7.78-7.78 2.81-2.81c.8-.78.8-2.07 0-2.86zM5.41 20L4 18.59l7.72-7.72 1.47 1.35L5.41 20z\"/>\n",
              "  </svg>\n",
              "      </button>\n",
              "      \n",
              "  <style>\n",
              "    .colab-df-container {\n",
              "      display:flex;\n",
              "      flex-wrap:wrap;\n",
              "      gap: 12px;\n",
              "    }\n",
              "\n",
              "    .colab-df-convert {\n",
              "      background-color: #E8F0FE;\n",
              "      border: none;\n",
              "      border-radius: 50%;\n",
              "      cursor: pointer;\n",
              "      display: none;\n",
              "      fill: #1967D2;\n",
              "      height: 32px;\n",
              "      padding: 0 0 0 0;\n",
              "      width: 32px;\n",
              "    }\n",
              "\n",
              "    .colab-df-convert:hover {\n",
              "      background-color: #E2EBFA;\n",
              "      box-shadow: 0px 1px 2px rgba(60, 64, 67, 0.3), 0px 1px 3px 1px rgba(60, 64, 67, 0.15);\n",
              "      fill: #174EA6;\n",
              "    }\n",
              "\n",
              "    [theme=dark] .colab-df-convert {\n",
              "      background-color: #3B4455;\n",
              "      fill: #D2E3FC;\n",
              "    }\n",
              "\n",
              "    [theme=dark] .colab-df-convert:hover {\n",
              "      background-color: #434B5C;\n",
              "      box-shadow: 0px 1px 3px 1px rgba(0, 0, 0, 0.15);\n",
              "      filter: drop-shadow(0px 1px 2px rgba(0, 0, 0, 0.3));\n",
              "      fill: #FFFFFF;\n",
              "    }\n",
              "  </style>\n",
              "\n",
              "      <script>\n",
              "        const buttonEl =\n",
              "          document.querySelector('#df-ea9d4f94-960d-46f4-8831-ab91cdf061c9 button.colab-df-convert');\n",
              "        buttonEl.style.display =\n",
              "          google.colab.kernel.accessAllowed ? 'block' : 'none';\n",
              "\n",
              "        async function convertToInteractive(key) {\n",
              "          const element = document.querySelector('#df-ea9d4f94-960d-46f4-8831-ab91cdf061c9');\n",
              "          const dataTable =\n",
              "            await google.colab.kernel.invokeFunction('convertToInteractive',\n",
              "                                                     [key], {});\n",
              "          if (!dataTable) return;\n",
              "\n",
              "          const docLinkHtml = 'Like what you see? Visit the ' +\n",
              "            '<a target=\"_blank\" href=https://colab.research.google.com/notebooks/data_table.ipynb>data table notebook</a>'\n",
              "            + ' to learn more about interactive tables.';\n",
              "          element.innerHTML = '';\n",
              "          dataTable['output_type'] = 'display_data';\n",
              "          await google.colab.output.renderOutput(dataTable, element);\n",
              "          const docLink = document.createElement('div');\n",
              "          docLink.innerHTML = docLinkHtml;\n",
              "          element.appendChild(docLink);\n",
              "        }\n",
              "      </script>\n",
              "    </div>\n",
              "  </div>\n",
              "  "
            ]
          },
          "metadata": {},
          "execution_count": 4
        }
      ]
    },
    {
      "cell_type": "code",
      "source": [
        "df.tail()"
      ],
      "metadata": {
        "colab": {
          "base_uri": "https://localhost:8080/",
          "height": 441
        },
        "id": "9oZ2OsH9z8h8",
        "outputId": "eb846d5d-81a2-4886-946b-c214f1a6990c"
      },
      "execution_count": 5,
      "outputs": [
        {
          "output_type": "execute_result",
          "data": {
            "text/plain": [
              "                                      _id                       Date  \\\n",
              "6319405  0ce4dd0b2011e25bab180bd0abdb593b  2011-01-03T15:01:56+05:30   \n",
              "6319406  983f3cc688b9f6769ac720115fe0f30c  2011-01-03T14:54:37+05:30   \n",
              "6319407  9150ec492c982894b25543941782b623  2011-01-03T14:04:30+05:30   \n",
              "6319408  f52aa3b0eca7e63b9d97fc5d6245de1f  2011-01-03T13:11:02+05:30   \n",
              "6319409  d9e3b942e0ac90e92a3950692586a074  2011-01-03T12:50:56+05:30   \n",
              "\n",
              "                                                     Title  \\\n",
              "6319405     Reliance Cap buys 26% Indiabulls stake in ICEX   \n",
              "6319406  Tata Motors extends open sales of Nano across ...   \n",
              "6319407  Larsen &amp;amp; Toubro bags order worth Rs 11...   \n",
              "6319408  State Bank of India revises base rate to 8.00%...   \n",
              "6319409  Lupin settles all ongoing litigation with Suno...   \n",
              "\n",
              "                                                   Article  \\\n",
              "6319405  Reliance Capital, the financial arm of Relianc...   \n",
              "6319406  Tata Motors today announced open sales of the ...   \n",
              "6319407  Larsen &amp;amp; Toubro Ltd has informed BSE r...   \n",
              "6319408  State Bank of India has informed BSE that the ...   \n",
              "6319409  Lupin Ltd has informed BSE regarding a Press R...   \n",
              "\n",
              "                                                      Link  \n",
              "6319405  https://www.moneycontrol.com/news/business/com...  \n",
              "6319406  https://www.moneycontrol.com/news/business/com...  \n",
              "6319407  https://www.moneycontrol.com/news/business/com...  \n",
              "6319408  https://www.moneycontrol.com/news/business/com...  \n",
              "6319409  https://www.moneycontrol.com/news/business/com...  "
            ],
            "text/html": [
              "\n",
              "  <div id=\"df-fa9f3e9c-ed0b-47c0-a57c-91ab23982fd4\">\n",
              "    <div class=\"colab-df-container\">\n",
              "      <div>\n",
              "<style scoped>\n",
              "    .dataframe tbody tr th:only-of-type {\n",
              "        vertical-align: middle;\n",
              "    }\n",
              "\n",
              "    .dataframe tbody tr th {\n",
              "        vertical-align: top;\n",
              "    }\n",
              "\n",
              "    .dataframe thead th {\n",
              "        text-align: right;\n",
              "    }\n",
              "</style>\n",
              "<table border=\"1\" class=\"dataframe\">\n",
              "  <thead>\n",
              "    <tr style=\"text-align: right;\">\n",
              "      <th></th>\n",
              "      <th>_id</th>\n",
              "      <th>Date</th>\n",
              "      <th>Title</th>\n",
              "      <th>Article</th>\n",
              "      <th>Link</th>\n",
              "    </tr>\n",
              "  </thead>\n",
              "  <tbody>\n",
              "    <tr>\n",
              "      <th>6319405</th>\n",
              "      <td>0ce4dd0b2011e25bab180bd0abdb593b</td>\n",
              "      <td>2011-01-03T15:01:56+05:30</td>\n",
              "      <td>Reliance Cap buys 26% Indiabulls stake in ICEX</td>\n",
              "      <td>Reliance Capital, the financial arm of Relianc...</td>\n",
              "      <td>https://www.moneycontrol.com/news/business/com...</td>\n",
              "    </tr>\n",
              "    <tr>\n",
              "      <th>6319406</th>\n",
              "      <td>983f3cc688b9f6769ac720115fe0f30c</td>\n",
              "      <td>2011-01-03T14:54:37+05:30</td>\n",
              "      <td>Tata Motors extends open sales of Nano across ...</td>\n",
              "      <td>Tata Motors today announced open sales of the ...</td>\n",
              "      <td>https://www.moneycontrol.com/news/business/com...</td>\n",
              "    </tr>\n",
              "    <tr>\n",
              "      <th>6319407</th>\n",
              "      <td>9150ec492c982894b25543941782b623</td>\n",
              "      <td>2011-01-03T14:04:30+05:30</td>\n",
              "      <td>Larsen &amp;amp;amp; Toubro bags order worth Rs 11...</td>\n",
              "      <td>Larsen &amp;amp;amp; Toubro Ltd has informed BSE r...</td>\n",
              "      <td>https://www.moneycontrol.com/news/business/com...</td>\n",
              "    </tr>\n",
              "    <tr>\n",
              "      <th>6319408</th>\n",
              "      <td>f52aa3b0eca7e63b9d97fc5d6245de1f</td>\n",
              "      <td>2011-01-03T13:11:02+05:30</td>\n",
              "      <td>State Bank of India revises base rate to 8.00%...</td>\n",
              "      <td>State Bank of India has informed BSE that the ...</td>\n",
              "      <td>https://www.moneycontrol.com/news/business/com...</td>\n",
              "    </tr>\n",
              "    <tr>\n",
              "      <th>6319409</th>\n",
              "      <td>d9e3b942e0ac90e92a3950692586a074</td>\n",
              "      <td>2011-01-03T12:50:56+05:30</td>\n",
              "      <td>Lupin settles all ongoing litigation with Suno...</td>\n",
              "      <td>Lupin Ltd has informed BSE regarding a Press R...</td>\n",
              "      <td>https://www.moneycontrol.com/news/business/com...</td>\n",
              "    </tr>\n",
              "  </tbody>\n",
              "</table>\n",
              "</div>\n",
              "      <button class=\"colab-df-convert\" onclick=\"convertToInteractive('df-fa9f3e9c-ed0b-47c0-a57c-91ab23982fd4')\"\n",
              "              title=\"Convert this dataframe to an interactive table.\"\n",
              "              style=\"display:none;\">\n",
              "        \n",
              "  <svg xmlns=\"http://www.w3.org/2000/svg\" height=\"24px\"viewBox=\"0 0 24 24\"\n",
              "       width=\"24px\">\n",
              "    <path d=\"M0 0h24v24H0V0z\" fill=\"none\"/>\n",
              "    <path d=\"M18.56 5.44l.94 2.06.94-2.06 2.06-.94-2.06-.94-.94-2.06-.94 2.06-2.06.94zm-11 1L8.5 8.5l.94-2.06 2.06-.94-2.06-.94L8.5 2.5l-.94 2.06-2.06.94zm10 10l.94 2.06.94-2.06 2.06-.94-2.06-.94-.94-2.06-.94 2.06-2.06.94z\"/><path d=\"M17.41 7.96l-1.37-1.37c-.4-.4-.92-.59-1.43-.59-.52 0-1.04.2-1.43.59L10.3 9.45l-7.72 7.72c-.78.78-.78 2.05 0 2.83L4 21.41c.39.39.9.59 1.41.59.51 0 1.02-.2 1.41-.59l7.78-7.78 2.81-2.81c.8-.78.8-2.07 0-2.86zM5.41 20L4 18.59l7.72-7.72 1.47 1.35L5.41 20z\"/>\n",
              "  </svg>\n",
              "      </button>\n",
              "      \n",
              "  <style>\n",
              "    .colab-df-container {\n",
              "      display:flex;\n",
              "      flex-wrap:wrap;\n",
              "      gap: 12px;\n",
              "    }\n",
              "\n",
              "    .colab-df-convert {\n",
              "      background-color: #E8F0FE;\n",
              "      border: none;\n",
              "      border-radius: 50%;\n",
              "      cursor: pointer;\n",
              "      display: none;\n",
              "      fill: #1967D2;\n",
              "      height: 32px;\n",
              "      padding: 0 0 0 0;\n",
              "      width: 32px;\n",
              "    }\n",
              "\n",
              "    .colab-df-convert:hover {\n",
              "      background-color: #E2EBFA;\n",
              "      box-shadow: 0px 1px 2px rgba(60, 64, 67, 0.3), 0px 1px 3px 1px rgba(60, 64, 67, 0.15);\n",
              "      fill: #174EA6;\n",
              "    }\n",
              "\n",
              "    [theme=dark] .colab-df-convert {\n",
              "      background-color: #3B4455;\n",
              "      fill: #D2E3FC;\n",
              "    }\n",
              "\n",
              "    [theme=dark] .colab-df-convert:hover {\n",
              "      background-color: #434B5C;\n",
              "      box-shadow: 0px 1px 3px 1px rgba(0, 0, 0, 0.15);\n",
              "      filter: drop-shadow(0px 1px 2px rgba(0, 0, 0, 0.3));\n",
              "      fill: #FFFFFF;\n",
              "    }\n",
              "  </style>\n",
              "\n",
              "      <script>\n",
              "        const buttonEl =\n",
              "          document.querySelector('#df-fa9f3e9c-ed0b-47c0-a57c-91ab23982fd4 button.colab-df-convert');\n",
              "        buttonEl.style.display =\n",
              "          google.colab.kernel.accessAllowed ? 'block' : 'none';\n",
              "\n",
              "        async function convertToInteractive(key) {\n",
              "          const element = document.querySelector('#df-fa9f3e9c-ed0b-47c0-a57c-91ab23982fd4');\n",
              "          const dataTable =\n",
              "            await google.colab.kernel.invokeFunction('convertToInteractive',\n",
              "                                                     [key], {});\n",
              "          if (!dataTable) return;\n",
              "\n",
              "          const docLinkHtml = 'Like what you see? Visit the ' +\n",
              "            '<a target=\"_blank\" href=https://colab.research.google.com/notebooks/data_table.ipynb>data table notebook</a>'\n",
              "            + ' to learn more about interactive tables.';\n",
              "          element.innerHTML = '';\n",
              "          dataTable['output_type'] = 'display_data';\n",
              "          await google.colab.output.renderOutput(dataTable, element);\n",
              "          const docLink = document.createElement('div');\n",
              "          docLink.innerHTML = docLinkHtml;\n",
              "          element.appendChild(docLink);\n",
              "        }\n",
              "      </script>\n",
              "    </div>\n",
              "  </div>\n",
              "  "
            ]
          },
          "metadata": {},
          "execution_count": 5
        }
      ]
    },
    {
      "cell_type": "code",
      "source": [
        "len(df)"
      ],
      "metadata": {
        "id": "-eAjbHZhxKfd",
        "colab": {
          "base_uri": "https://localhost:8080/"
        },
        "outputId": "364bcc43-9431-452f-cd57-c5d9740d616e"
      },
      "execution_count": null,
      "outputs": [
        {
          "output_type": "execute_result",
          "data": {
            "text/plain": [
              "6319410"
            ]
          },
          "metadata": {},
          "execution_count": 14
        }
      ]
    },
    {
      "cell_type": "code",
      "source": [
        "# Filter out and keep only necessary data i.e. financial news data \n",
        "regex1='https://economictimes.indiatimes.com/news/economy/.*'\n",
        "regex8='https://economictimes.indiatimes.com/news/company/.*'\n",
        "regex2='https://economictimes.indiatimes.com/industry/telecom/.*'\n",
        "regex3='https://economictimes.indiatimes.com/industry/energy/.*'\n",
        "regex4='https://economictimes.indiatimes.com/markets/stocks/.*'\n",
        "regex5='https://economictimes.indiatimes.com/markets/commodities/.*'\n",
        "regex6='https://economictimes.indiatimes.com/wealth/invest/.*'\n",
        "regex7='https://economictimes.indiatimes.com/tech/software/.*'\n",
        "regex9='https://economictimes.indiatimes.com/industry/indl-goods/.*'\n",
        "financial_df=df[df['Link'].str.match(regex1)|\n",
        "                              df['Link'].str.match(regex2)|df['Link'].str.match(regex3)|\n",
        "          df['Link'].str.match(regex4)|df['Link'].str.match(regex5)|df['Link'].str.match(regex6)|\n",
        "          df['Link'].str.match(regex7)|df['Link'].str.match(regex8)|df['Link'].str.match(regex9)]"
      ],
      "metadata": {
        "id": "x0qfC0bCxoll"
      },
      "execution_count": null,
      "outputs": []
    },
    {
      "cell_type": "code",
      "source": [
        "len(financial_df)"
      ],
      "metadata": {
        "id": "BwoMdk9jx6ju",
        "colab": {
          "base_uri": "https://localhost:8080/"
        },
        "outputId": "3d16f6e1-f036-4c7e-d83f-bcf369f8157f"
      },
      "execution_count": null,
      "outputs": [
        {
          "output_type": "execute_result",
          "data": {
            "text/plain": [
              "379162"
            ]
          },
          "metadata": {},
          "execution_count": 6
        }
      ]
    },
    {
      "cell_type": "code",
      "source": [
        "financial_df['Date']=pd.to_datetime(financial_df['Date'])"
      ],
      "metadata": {
        "id": "Gee7rgnIIxIV",
        "colab": {
          "base_uri": "https://localhost:8080/"
        },
        "outputId": "1f6ab633-b6d0-4b86-9bfb-c48e3b43e1db"
      },
      "execution_count": null,
      "outputs": [
        {
          "output_type": "stream",
          "name": "stderr",
          "text": [
            "/usr/local/lib/python3.7/dist-packages/ipykernel_launcher.py:1: SettingWithCopyWarning: \n",
            "A value is trying to be set on a copy of a slice from a DataFrame.\n",
            "Try using .loc[row_indexer,col_indexer] = value instead\n",
            "\n",
            "See the caveats in the documentation: https://pandas.pydata.org/pandas-docs/stable/user_guide/indexing.html#returning-a-view-versus-a-copy\n",
            "  \"\"\"Entry point for launching an IPython kernel.\n"
          ]
        }
      ]
    },
    {
      "cell_type": "code",
      "source": [
        "financial_d_groupedf=financial_df.groupby(pd.Grouper(key='Date', axis=0, \n",
        "                      freq='M'))"
      ],
      "metadata": {
        "id": "K9aYwyS2I5O0"
      },
      "execution_count": null,
      "outputs": []
    },
    {
      "cell_type": "code",
      "source": [
        ""
      ],
      "metadata": {
        "id": "dv9zoN8BA2W9"
      },
      "execution_count": null,
      "outputs": []
    },
    {
      "cell_type": "code",
      "source": [
        "financial_df.isna().sum()"
      ],
      "metadata": {
        "id": "uut7Ud7AHaiI",
        "colab": {
          "base_uri": "https://localhost:8080/"
        },
        "outputId": "11f3d0b2-3f0e-412b-e3b9-65fb1a82f7ac"
      },
      "execution_count": null,
      "outputs": [
        {
          "output_type": "execute_result",
          "data": {
            "text/plain": [
              "_id        0\n",
              "Date       0\n",
              "Title      0\n",
              "Article    0\n",
              "Link       0\n",
              "dtype: int64"
            ]
          },
          "metadata": {},
          "execution_count": 18
        }
      ]
    },
    {
      "cell_type": "code",
      "source": [
        "# Create headlines list having all values of title column stored as list in it \n",
        "headlines=list(financial_df['Title'])\n",
        "headlines_list = [i.strip(\"[]\").split(\", \") for i in headlines]"
      ],
      "metadata": {
        "id": "cBEP_QNBwpXs"
      },
      "execution_count": null,
      "outputs": []
    },
    {
      "cell_type": "code",
      "source": [
        "class PreProcessing():\n",
        "    def __init__(self, docs):\n",
        "        self.docs = docs\n",
        "\n",
        "    def text_cleaning(self):\n",
        "        new=[]\n",
        "        for text in self.docs:\n",
        "            for i in text:\n",
        "                x = re.sub(\"[^a-zA-Z]\", \" \", i)                  \n",
        "                new.append(re.sub(' +', ' ', x))                    \n",
        "        return new\n",
        "\n",
        "    def remove_stopwords(self):\n",
        "        without_sw=[]\n",
        "        clean_text=self.text_cleaning()\n",
        "        for strings in clean_text:                            \n",
        "            tokens = nltk.word_tokenize(strings)\n",
        "            stop_words = set(stopwords.words('english'))\n",
        "            tokens_without_sw = [word for word in tokens if not word.lower() in stop_words]   \n",
        "            without_sw.append(tokens_without_sw)\n",
        "        return without_sw\n",
        "\n",
        "    def stemming(self):\n",
        "        ps = PorterStemmer()\n",
        "        stemmed=[]\n",
        "        lst=self.remove_stopwords()                            \n",
        "        for strings in lst:\n",
        "            s=[]\n",
        "            for i in strings:\n",
        "                rootWord=ps.stem(i)\n",
        "                s.append(rootWord)\n",
        "            stemmed.append(s)\n",
        "        return stemmed"
      ],
      "metadata": {
        "id": "oQ5RvC0ROWEx"
      },
      "execution_count": null,
      "outputs": []
    },
    {
      "cell_type": "code",
      "source": [
        "pre_process=PreProcessing(headlines_list)\n",
        "pre_processed_headlines=pre_process.stemming()"
      ],
      "metadata": {
        "id": "E2IMwHaWXOlW"
      },
      "execution_count": null,
      "outputs": []
    },
    {
      "cell_type": "code",
      "source": [
        "pre_processed_headlines"
      ],
      "metadata": {
        "id": "MPMIKc6eejj7"
      },
      "execution_count": null,
      "outputs": []
    },
    {
      "cell_type": "code",
      "source": [
        "#save pre processed headlines for future use\n",
        "with open('/content/drive/MyDrive/ir_project/binaries/pre_processed_headlines', 'wb') as fileobj:\n",
        "  pickle.dump(financial_df, fileobj)"
      ],
      "metadata": {
        "id": "DHDlJvUCYl1n",
        "colab": {
          "base_uri": "https://localhost:8080/",
          "height": 200
        },
        "outputId": "056a5fb8-54e6-4813-c9d6-741d998c3e7c"
      },
      "execution_count": null,
      "outputs": [
        {
          "output_type": "error",
          "ename": "NameError",
          "evalue": "ignored",
          "traceback": [
            "\u001b[0;31m---------------------------------------------------------------------------\u001b[0m",
            "\u001b[0;31mNameError\u001b[0m                                 Traceback (most recent call last)",
            "\u001b[0;32m<ipython-input-4-147ff505f7d1>\u001b[0m in \u001b[0;36m<module>\u001b[0;34m()\u001b[0m\n\u001b[1;32m      1\u001b[0m \u001b[0;31m#save pre processed headlines for future use\u001b[0m\u001b[0;34m\u001b[0m\u001b[0;34m\u001b[0m\u001b[0;34m\u001b[0m\u001b[0m\n\u001b[1;32m      2\u001b[0m \u001b[0;32mwith\u001b[0m \u001b[0mopen\u001b[0m\u001b[0;34m(\u001b[0m\u001b[0;34m'/content/drive/MyDrive/ir_project/binaries/pre_processed_headlines'\u001b[0m\u001b[0;34m,\u001b[0m \u001b[0;34m'wb'\u001b[0m\u001b[0;34m)\u001b[0m \u001b[0;32mas\u001b[0m \u001b[0mfileobj\u001b[0m\u001b[0;34m:\u001b[0m\u001b[0;34m\u001b[0m\u001b[0;34m\u001b[0m\u001b[0m\n\u001b[0;32m----> 3\u001b[0;31m   \u001b[0mpickle\u001b[0m\u001b[0;34m.\u001b[0m\u001b[0mdump\u001b[0m\u001b[0;34m(\u001b[0m\u001b[0mfinancial_df\u001b[0m\u001b[0;34m,\u001b[0m \u001b[0mfileobj\u001b[0m\u001b[0;34m)\u001b[0m\u001b[0;34m\u001b[0m\u001b[0;34m\u001b[0m\u001b[0m\n\u001b[0m",
            "\u001b[0;31mNameError\u001b[0m: name 'financial_df' is not defined"
          ]
        }
      ]
    },
    {
      "cell_type": "code",
      "source": [
        "#get labelled data\n",
        "with open('/content/drive/MyDrive/ir_project/binaries/pre_processed_headlines', 'rb') as fileobj:\n",
        "  financial_df= pickle.load(fileobj)"
      ],
      "metadata": {
        "id": "FN4iCV_XHpNn"
      },
      "execution_count": null,
      "outputs": []
    },
    {
      "cell_type": "code",
      "source": [
        "df_nifty = pd.read_csv('/content/drive/MyDrive/ir_project/data/NIFTY_50.csv')\n",
        "df_nifty.head()"
      ],
      "metadata": {
        "id": "9kjMp9rwBMSi",
        "colab": {
          "base_uri": "https://localhost:8080/",
          "height": 206
        },
        "outputId": "bc0f9203-38b6-4167-b367-27b9044edb59"
      },
      "execution_count": null,
      "outputs": [
        {
          "output_type": "execute_result",
          "data": {
            "text/plain": [
              "   Unnamed: 0         Date     Open     High      Low    Close  Shares Traded  \\\n",
              "0           0  04-Jan-2010  5200.90  5238.45  5167.10  5232.20      148652424   \n",
              "1           1  05-Jan-2010  5277.15  5288.35  5242.40  5277.90      240844424   \n",
              "2           2  06-Jan-2010  5278.15  5310.85  5260.05  5281.80      216147837   \n",
              "3           3  07-Jan-2010  5281.80  5302.55  5244.75  5263.10      181246734   \n",
              "4           4  08-Jan-2010  5264.25  5276.75  5234.70  5244.75      201910800   \n",
              "\n",
              "   Turnover (Rs. Cr)  \n",
              "0            6531.61  \n",
              "1            7969.62  \n",
              "2            7892.60  \n",
              "3            6890.99  \n",
              "4            7777.04  "
            ],
            "text/html": [
              "\n",
              "  <div id=\"df-ed9ed6d1-03b2-496b-9765-885e4eaf8409\">\n",
              "    <div class=\"colab-df-container\">\n",
              "      <div>\n",
              "<style scoped>\n",
              "    .dataframe tbody tr th:only-of-type {\n",
              "        vertical-align: middle;\n",
              "    }\n",
              "\n",
              "    .dataframe tbody tr th {\n",
              "        vertical-align: top;\n",
              "    }\n",
              "\n",
              "    .dataframe thead th {\n",
              "        text-align: right;\n",
              "    }\n",
              "</style>\n",
              "<table border=\"1\" class=\"dataframe\">\n",
              "  <thead>\n",
              "    <tr style=\"text-align: right;\">\n",
              "      <th></th>\n",
              "      <th>Unnamed: 0</th>\n",
              "      <th>Date</th>\n",
              "      <th>Open</th>\n",
              "      <th>High</th>\n",
              "      <th>Low</th>\n",
              "      <th>Close</th>\n",
              "      <th>Shares Traded</th>\n",
              "      <th>Turnover (Rs. Cr)</th>\n",
              "    </tr>\n",
              "  </thead>\n",
              "  <tbody>\n",
              "    <tr>\n",
              "      <th>0</th>\n",
              "      <td>0</td>\n",
              "      <td>04-Jan-2010</td>\n",
              "      <td>5200.90</td>\n",
              "      <td>5238.45</td>\n",
              "      <td>5167.10</td>\n",
              "      <td>5232.20</td>\n",
              "      <td>148652424</td>\n",
              "      <td>6531.61</td>\n",
              "    </tr>\n",
              "    <tr>\n",
              "      <th>1</th>\n",
              "      <td>1</td>\n",
              "      <td>05-Jan-2010</td>\n",
              "      <td>5277.15</td>\n",
              "      <td>5288.35</td>\n",
              "      <td>5242.40</td>\n",
              "      <td>5277.90</td>\n",
              "      <td>240844424</td>\n",
              "      <td>7969.62</td>\n",
              "    </tr>\n",
              "    <tr>\n",
              "      <th>2</th>\n",
              "      <td>2</td>\n",
              "      <td>06-Jan-2010</td>\n",
              "      <td>5278.15</td>\n",
              "      <td>5310.85</td>\n",
              "      <td>5260.05</td>\n",
              "      <td>5281.80</td>\n",
              "      <td>216147837</td>\n",
              "      <td>7892.60</td>\n",
              "    </tr>\n",
              "    <tr>\n",
              "      <th>3</th>\n",
              "      <td>3</td>\n",
              "      <td>07-Jan-2010</td>\n",
              "      <td>5281.80</td>\n",
              "      <td>5302.55</td>\n",
              "      <td>5244.75</td>\n",
              "      <td>5263.10</td>\n",
              "      <td>181246734</td>\n",
              "      <td>6890.99</td>\n",
              "    </tr>\n",
              "    <tr>\n",
              "      <th>4</th>\n",
              "      <td>4</td>\n",
              "      <td>08-Jan-2010</td>\n",
              "      <td>5264.25</td>\n",
              "      <td>5276.75</td>\n",
              "      <td>5234.70</td>\n",
              "      <td>5244.75</td>\n",
              "      <td>201910800</td>\n",
              "      <td>7777.04</td>\n",
              "    </tr>\n",
              "  </tbody>\n",
              "</table>\n",
              "</div>\n",
              "      <button class=\"colab-df-convert\" onclick=\"convertToInteractive('df-ed9ed6d1-03b2-496b-9765-885e4eaf8409')\"\n",
              "              title=\"Convert this dataframe to an interactive table.\"\n",
              "              style=\"display:none;\">\n",
              "        \n",
              "  <svg xmlns=\"http://www.w3.org/2000/svg\" height=\"24px\"viewBox=\"0 0 24 24\"\n",
              "       width=\"24px\">\n",
              "    <path d=\"M0 0h24v24H0V0z\" fill=\"none\"/>\n",
              "    <path d=\"M18.56 5.44l.94 2.06.94-2.06 2.06-.94-2.06-.94-.94-2.06-.94 2.06-2.06.94zm-11 1L8.5 8.5l.94-2.06 2.06-.94-2.06-.94L8.5 2.5l-.94 2.06-2.06.94zm10 10l.94 2.06.94-2.06 2.06-.94-2.06-.94-.94-2.06-.94 2.06-2.06.94z\"/><path d=\"M17.41 7.96l-1.37-1.37c-.4-.4-.92-.59-1.43-.59-.52 0-1.04.2-1.43.59L10.3 9.45l-7.72 7.72c-.78.78-.78 2.05 0 2.83L4 21.41c.39.39.9.59 1.41.59.51 0 1.02-.2 1.41-.59l7.78-7.78 2.81-2.81c.8-.78.8-2.07 0-2.86zM5.41 20L4 18.59l7.72-7.72 1.47 1.35L5.41 20z\"/>\n",
              "  </svg>\n",
              "      </button>\n",
              "      \n",
              "  <style>\n",
              "    .colab-df-container {\n",
              "      display:flex;\n",
              "      flex-wrap:wrap;\n",
              "      gap: 12px;\n",
              "    }\n",
              "\n",
              "    .colab-df-convert {\n",
              "      background-color: #E8F0FE;\n",
              "      border: none;\n",
              "      border-radius: 50%;\n",
              "      cursor: pointer;\n",
              "      display: none;\n",
              "      fill: #1967D2;\n",
              "      height: 32px;\n",
              "      padding: 0 0 0 0;\n",
              "      width: 32px;\n",
              "    }\n",
              "\n",
              "    .colab-df-convert:hover {\n",
              "      background-color: #E2EBFA;\n",
              "      box-shadow: 0px 1px 2px rgba(60, 64, 67, 0.3), 0px 1px 3px 1px rgba(60, 64, 67, 0.15);\n",
              "      fill: #174EA6;\n",
              "    }\n",
              "\n",
              "    [theme=dark] .colab-df-convert {\n",
              "      background-color: #3B4455;\n",
              "      fill: #D2E3FC;\n",
              "    }\n",
              "\n",
              "    [theme=dark] .colab-df-convert:hover {\n",
              "      background-color: #434B5C;\n",
              "      box-shadow: 0px 1px 3px 1px rgba(0, 0, 0, 0.15);\n",
              "      filter: drop-shadow(0px 1px 2px rgba(0, 0, 0, 0.3));\n",
              "      fill: #FFFFFF;\n",
              "    }\n",
              "  </style>\n",
              "\n",
              "      <script>\n",
              "        const buttonEl =\n",
              "          document.querySelector('#df-ed9ed6d1-03b2-496b-9765-885e4eaf8409 button.colab-df-convert');\n",
              "        buttonEl.style.display =\n",
              "          google.colab.kernel.accessAllowed ? 'block' : 'none';\n",
              "\n",
              "        async function convertToInteractive(key) {\n",
              "          const element = document.querySelector('#df-ed9ed6d1-03b2-496b-9765-885e4eaf8409');\n",
              "          const dataTable =\n",
              "            await google.colab.kernel.invokeFunction('convertToInteractive',\n",
              "                                                     [key], {});\n",
              "          if (!dataTable) return;\n",
              "\n",
              "          const docLinkHtml = 'Like what you see? Visit the ' +\n",
              "            '<a target=\"_blank\" href=https://colab.research.google.com/notebooks/data_table.ipynb>data table notebook</a>'\n",
              "            + ' to learn more about interactive tables.';\n",
              "          element.innerHTML = '';\n",
              "          dataTable['output_type'] = 'display_data';\n",
              "          await google.colab.output.renderOutput(dataTable, element);\n",
              "          const docLink = document.createElement('div');\n",
              "          docLink.innerHTML = docLinkHtml;\n",
              "          element.appendChild(docLink);\n",
              "        }\n",
              "      </script>\n",
              "    </div>\n",
              "  </div>\n",
              "  "
            ]
          },
          "metadata": {},
          "execution_count": 7
        }
      ]
    },
    {
      "cell_type": "code",
      "source": [
        "df_nifty['Date']=pd.to_datetime(df_nifty['Date'])"
      ],
      "metadata": {
        "id": "wh6OXJSqF8U9"
      },
      "execution_count": null,
      "outputs": []
    },
    {
      "cell_type": "code",
      "source": [
        "df['Stocastic Oscilator']=tf.s"
      ],
      "metadata": {
        "id": "prhZ8feTgW_k"
      },
      "execution_count": null,
      "outputs": []
    },
    {
      "cell_type": "code",
      "source": [
        "print(df_nifty['Open'][2975])\n",
        "print(df_nifty.index)"
      ],
      "metadata": {
        "colab": {
          "base_uri": "https://localhost:8080/"
        },
        "id": "WdZU9QU8wJtf",
        "outputId": "b04fbeb3-4191-4128-bc7c-f44048a4ce9b"
      },
      "execution_count": null,
      "outputs": [
        {
          "output_type": "stream",
          "name": "stdout",
          "text": [
            "17220.1\n",
            "RangeIndex(start=0, stop=2978, step=1)\n"
          ]
        }
      ]
    },
    {
      "cell_type": "code",
      "source": [
        "financial_df['Date']=financial_df['Date'].apply(lambda x:x.tz_localize(None)) "
      ],
      "metadata": {
        "id": "OPyzWGUYFfZR",
        "colab": {
          "base_uri": "https://localhost:8080/"
        },
        "outputId": "25775821-817f-4d0b-95dc-f16e0e7cd8fb"
      },
      "execution_count": null,
      "outputs": [
        {
          "output_type": "stream",
          "name": "stderr",
          "text": [
            "/usr/local/lib/python3.7/dist-packages/ipykernel_launcher.py:1: SettingWithCopyWarning: \n",
            "A value is trying to be set on a copy of a slice from a DataFrame.\n",
            "Try using .loc[row_indexer,col_indexer] = value instead\n",
            "\n",
            "See the caveats in the documentation: https://pandas.pydata.org/pandas-docs/stable/user_guide/indexing.html#returning-a-view-versus-a-copy\n",
            "  \"\"\"Entry point for launching an IPython kernel.\n"
          ]
        }
      ]
    },
    {
      "cell_type": "code",
      "source": [
        "financial_df['Sentiment']=''"
      ],
      "metadata": {
        "id": "OaUFl9p74yzn",
        "colab": {
          "base_uri": "https://localhost:8080/"
        },
        "outputId": "8f7990a1-ea70-4935-ecae-55c91b129ee1"
      },
      "execution_count": null,
      "outputs": [
        {
          "output_type": "stream",
          "name": "stderr",
          "text": [
            "/usr/local/lib/python3.7/dist-packages/ipykernel_launcher.py:1: SettingWithCopyWarning: \n",
            "A value is trying to be set on a copy of a slice from a DataFrame.\n",
            "Try using .loc[row_indexer,col_indexer] = value instead\n",
            "\n",
            "See the caveats in the documentation: https://pandas.pydata.org/pandas-docs/stable/user_guide/indexing.html#returning-a-view-versus-a-copy\n",
            "  \"\"\"Entry point for launching an IPython kernel.\n"
          ]
        }
      ]
    },
    {
      "cell_type": "code",
      "source": [
        "df_final=pd.DataFrame()"
      ],
      "metadata": {
        "id": "MTKgrTqEJKUk"
      },
      "execution_count": null,
      "outputs": []
    },
    {
      "cell_type": "code",
      "source": [
        "sentiment=''\n",
        "for ind in range(len(df_nifty)-1):\n",
        "  pc=df_nifty['Close'][ind+1]-df_nifty['Close'][ind]\n",
        "  #pc=(c/df_nifty['Close'][ind])*100\n",
        "  if(pc>0):\n",
        "    sentiment=\"Positive\"\n",
        "  else:\n",
        "    sentiment=\"Negative\"\n",
        "  # elif(pc>-.5):\n",
        "  #   sentiment=\"Neutral\"\n",
        "  # elif(pc>-1.5):\n",
        "  #   sentiment=\"Negative\"\n",
        "  # else:\n",
        "  #   sentiment=\"Extreme Negative\"\n",
        "  df_temp = financial_df[(financial_df['Date'] < df_nifty['Date'][ind+1]) & (financial_df['Date'] >= df_nifty['Date'][ind])]\n",
        "  df_temp['Sentiment']=sentiment\n",
        "  df_final=pd.concat([df_final,df_temp],axis=0)\n"
      ],
      "metadata": {
        "id": "08Ac8hekT4zm",
        "colab": {
          "base_uri": "https://localhost:8080/"
        },
        "outputId": "95755d57-26bf-4a75-ae79-87548f4b341c"
      },
      "execution_count": null,
      "outputs": [
        {
          "output_type": "stream",
          "name": "stderr",
          "text": [
            "/usr/local/lib/python3.7/dist-packages/ipykernel_launcher.py:16: SettingWithCopyWarning: \n",
            "A value is trying to be set on a copy of a slice from a DataFrame.\n",
            "Try using .loc[row_indexer,col_indexer] = value instead\n",
            "\n",
            "See the caveats in the documentation: https://pandas.pydata.org/pandas-docs/stable/user_guide/indexing.html#returning-a-view-versus-a-copy\n",
            "  app.launch_new_instance()\n"
          ]
        }
      ]
    },
    {
      "cell_type": "code",
      "source": [
        "df_final.tail()"
      ],
      "metadata": {
        "id": "L9u6APx-KrSY"
      },
      "execution_count": null,
      "outputs": []
    },
    {
      "cell_type": "code",
      "source": [
        "#save labelled data\n",
        "with open('/content/drive/MyDrive/ir_project/binaries/labelled_news_binary_test', 'wb') as fileobj:\n",
        "  pickle.dump(df_final, fileobj)"
      ],
      "metadata": {
        "id": "dxzgDuuqIYPc"
      },
      "execution_count": null,
      "outputs": []
    },
    {
      "cell_type": "code",
      "source": [
        "temp=np.array(df_final['Sentiment'])"
      ],
      "metadata": {
        "id": "bfbVKa0VmNrG"
      },
      "execution_count": null,
      "outputs": []
    },
    {
      "cell_type": "code",
      "source": [
        "unique, counts = np.unique(temp, return_counts=True)\n",
        "dict(zip(unique, counts))"
      ],
      "metadata": {
        "colab": {
          "base_uri": "https://localhost:8080/"
        },
        "id": "IoYx_f_0mPpN",
        "outputId": "1a59767d-a7ae-4ad0-d799-a9cbc345c3dd"
      },
      "execution_count": null,
      "outputs": [
        {
          "output_type": "execute_result",
          "data": {
            "text/plain": [
              "{'Negative': 175845, 'Positive': 203254}"
            ]
          },
          "metadata": {},
          "execution_count": 19
        }
      ]
    },
    {
      "cell_type": "code",
      "source": [
        "#get labelled data\n",
        "with open('/content/drive/MyDrive/ir_project/binaries/labelled_news', 'rb') as fileobj:\n",
        "  df_labelled= pickle.load(fileobj)"
      ],
      "metadata": {
        "id": "45J1mfmELZfN"
      },
      "execution_count": null,
      "outputs": []
    },
    {
      "cell_type": "code",
      "source": [
        "#get labelled data\n",
        "with open('/content/drive/MyDrive/ir_project/binaries/stock_data_with_indicators', 'rb') as fileobj:\n",
        "  df_technical_indicators= pickle.load(fileobj)\n"
      ],
      "metadata": {
        "id": "0tQfJ9yLU-Xk"
      },
      "execution_count": null,
      "outputs": []
    },
    {
      "cell_type": "code",
      "source": [
        "df_technical_indicators"
      ],
      "metadata": {
        "colab": {
          "base_uri": "https://localhost:8080/",
          "height": 658
        },
        "id": "rt2YddofVM9Z",
        "outputId": "80b6e6a2-04a1-49d5-ad8d-1882f2916d0d"
      },
      "execution_count": null,
      "outputs": [
        {
          "output_type": "execute_result",
          "data": {
            "text/plain": [
              "      Unnamed: 0       Date      Open      High       Low     Close  \\\n",
              "0              0 2010-01-04   5200.90   5238.45   5167.10   5232.20   \n",
              "1              1 2010-01-05   5277.15   5288.35   5242.40   5277.90   \n",
              "2              2 2010-01-06   5278.15   5310.85   5260.05   5281.80   \n",
              "3              3 2010-01-07   5281.80   5302.55   5244.75   5263.10   \n",
              "4              4 2010-01-08   5264.25   5276.75   5234.70   5244.75   \n",
              "...          ...        ...       ...       ...       ...       ...   \n",
              "2973         243 2021-12-27  16937.75  17112.05  16833.20  17086.25   \n",
              "2974         244 2021-12-28  17177.60  17250.25  17161.15  17233.25   \n",
              "2975         245 2021-12-29  17220.10  17285.95  17176.65  17213.60   \n",
              "2976         246 2021-12-30  17201.45  17264.05  17146.35  17203.95   \n",
              "2977         247 2021-12-31  17244.50  17400.80  17238.50  17354.05   \n",
              "\n",
              "      Shares Traded  Turnover (Rs. Cr)  Sochastic oscillator index  \\\n",
              "0         148652424            6531.61                    0.000000   \n",
              "1         240844424            7969.62                    0.000000   \n",
              "2         216147837            7892.60                    0.000000   \n",
              "3         181246734            6890.99                    0.000000   \n",
              "4         201910800            7777.04                    0.000000   \n",
              "...             ...                ...                         ...   \n",
              "2973      144777457           12567.03                   76.136044   \n",
              "2974      176026100           14553.76                   97.976311   \n",
              "2975      161679423           14320.79                   87.895265   \n",
              "2976      320831676           21929.19                   82.420409   \n",
              "2977      167025720           14588.54                   91.763566   \n",
              "\n",
              "      William index  Relative Strength Index  \n",
              "0          0.000000                 0.000000  \n",
              "1          0.000000               100.000000  \n",
              "2          0.000000               100.000000  \n",
              "3          0.000000                92.725757  \n",
              "4          0.000000                85.597397  \n",
              "...             ...                      ...  \n",
              "2973     -23.863956                50.045939  \n",
              "2974      -2.023689                57.402618  \n",
              "2975     -12.104735                56.113855  \n",
              "2976     -17.579591                55.401212  \n",
              "2977      -8.236434                63.754483  \n",
              "\n",
              "[2978 rows x 11 columns]"
            ],
            "text/html": [
              "\n",
              "  <div id=\"df-823020a9-1c21-4e66-86d9-f7f75ce0c04e\">\n",
              "    <div class=\"colab-df-container\">\n",
              "      <div>\n",
              "<style scoped>\n",
              "    .dataframe tbody tr th:only-of-type {\n",
              "        vertical-align: middle;\n",
              "    }\n",
              "\n",
              "    .dataframe tbody tr th {\n",
              "        vertical-align: top;\n",
              "    }\n",
              "\n",
              "    .dataframe thead th {\n",
              "        text-align: right;\n",
              "    }\n",
              "</style>\n",
              "<table border=\"1\" class=\"dataframe\">\n",
              "  <thead>\n",
              "    <tr style=\"text-align: right;\">\n",
              "      <th></th>\n",
              "      <th>Unnamed: 0</th>\n",
              "      <th>Date</th>\n",
              "      <th>Open</th>\n",
              "      <th>High</th>\n",
              "      <th>Low</th>\n",
              "      <th>Close</th>\n",
              "      <th>Shares Traded</th>\n",
              "      <th>Turnover (Rs. Cr)</th>\n",
              "      <th>Sochastic oscillator index</th>\n",
              "      <th>William index</th>\n",
              "      <th>Relative Strength Index</th>\n",
              "    </tr>\n",
              "  </thead>\n",
              "  <tbody>\n",
              "    <tr>\n",
              "      <th>0</th>\n",
              "      <td>0</td>\n",
              "      <td>2010-01-04</td>\n",
              "      <td>5200.90</td>\n",
              "      <td>5238.45</td>\n",
              "      <td>5167.10</td>\n",
              "      <td>5232.20</td>\n",
              "      <td>148652424</td>\n",
              "      <td>6531.61</td>\n",
              "      <td>0.000000</td>\n",
              "      <td>0.000000</td>\n",
              "      <td>0.000000</td>\n",
              "    </tr>\n",
              "    <tr>\n",
              "      <th>1</th>\n",
              "      <td>1</td>\n",
              "      <td>2010-01-05</td>\n",
              "      <td>5277.15</td>\n",
              "      <td>5288.35</td>\n",
              "      <td>5242.40</td>\n",
              "      <td>5277.90</td>\n",
              "      <td>240844424</td>\n",
              "      <td>7969.62</td>\n",
              "      <td>0.000000</td>\n",
              "      <td>0.000000</td>\n",
              "      <td>100.000000</td>\n",
              "    </tr>\n",
              "    <tr>\n",
              "      <th>2</th>\n",
              "      <td>2</td>\n",
              "      <td>2010-01-06</td>\n",
              "      <td>5278.15</td>\n",
              "      <td>5310.85</td>\n",
              "      <td>5260.05</td>\n",
              "      <td>5281.80</td>\n",
              "      <td>216147837</td>\n",
              "      <td>7892.60</td>\n",
              "      <td>0.000000</td>\n",
              "      <td>0.000000</td>\n",
              "      <td>100.000000</td>\n",
              "    </tr>\n",
              "    <tr>\n",
              "      <th>3</th>\n",
              "      <td>3</td>\n",
              "      <td>2010-01-07</td>\n",
              "      <td>5281.80</td>\n",
              "      <td>5302.55</td>\n",
              "      <td>5244.75</td>\n",
              "      <td>5263.10</td>\n",
              "      <td>181246734</td>\n",
              "      <td>6890.99</td>\n",
              "      <td>0.000000</td>\n",
              "      <td>0.000000</td>\n",
              "      <td>92.725757</td>\n",
              "    </tr>\n",
              "    <tr>\n",
              "      <th>4</th>\n",
              "      <td>4</td>\n",
              "      <td>2010-01-08</td>\n",
              "      <td>5264.25</td>\n",
              "      <td>5276.75</td>\n",
              "      <td>5234.70</td>\n",
              "      <td>5244.75</td>\n",
              "      <td>201910800</td>\n",
              "      <td>7777.04</td>\n",
              "      <td>0.000000</td>\n",
              "      <td>0.000000</td>\n",
              "      <td>85.597397</td>\n",
              "    </tr>\n",
              "    <tr>\n",
              "      <th>...</th>\n",
              "      <td>...</td>\n",
              "      <td>...</td>\n",
              "      <td>...</td>\n",
              "      <td>...</td>\n",
              "      <td>...</td>\n",
              "      <td>...</td>\n",
              "      <td>...</td>\n",
              "      <td>...</td>\n",
              "      <td>...</td>\n",
              "      <td>...</td>\n",
              "      <td>...</td>\n",
              "    </tr>\n",
              "    <tr>\n",
              "      <th>2973</th>\n",
              "      <td>243</td>\n",
              "      <td>2021-12-27</td>\n",
              "      <td>16937.75</td>\n",
              "      <td>17112.05</td>\n",
              "      <td>16833.20</td>\n",
              "      <td>17086.25</td>\n",
              "      <td>144777457</td>\n",
              "      <td>12567.03</td>\n",
              "      <td>76.136044</td>\n",
              "      <td>-23.863956</td>\n",
              "      <td>50.045939</td>\n",
              "    </tr>\n",
              "    <tr>\n",
              "      <th>2974</th>\n",
              "      <td>244</td>\n",
              "      <td>2021-12-28</td>\n",
              "      <td>17177.60</td>\n",
              "      <td>17250.25</td>\n",
              "      <td>17161.15</td>\n",
              "      <td>17233.25</td>\n",
              "      <td>176026100</td>\n",
              "      <td>14553.76</td>\n",
              "      <td>97.976311</td>\n",
              "      <td>-2.023689</td>\n",
              "      <td>57.402618</td>\n",
              "    </tr>\n",
              "    <tr>\n",
              "      <th>2975</th>\n",
              "      <td>245</td>\n",
              "      <td>2021-12-29</td>\n",
              "      <td>17220.10</td>\n",
              "      <td>17285.95</td>\n",
              "      <td>17176.65</td>\n",
              "      <td>17213.60</td>\n",
              "      <td>161679423</td>\n",
              "      <td>14320.79</td>\n",
              "      <td>87.895265</td>\n",
              "      <td>-12.104735</td>\n",
              "      <td>56.113855</td>\n",
              "    </tr>\n",
              "    <tr>\n",
              "      <th>2976</th>\n",
              "      <td>246</td>\n",
              "      <td>2021-12-30</td>\n",
              "      <td>17201.45</td>\n",
              "      <td>17264.05</td>\n",
              "      <td>17146.35</td>\n",
              "      <td>17203.95</td>\n",
              "      <td>320831676</td>\n",
              "      <td>21929.19</td>\n",
              "      <td>82.420409</td>\n",
              "      <td>-17.579591</td>\n",
              "      <td>55.401212</td>\n",
              "    </tr>\n",
              "    <tr>\n",
              "      <th>2977</th>\n",
              "      <td>247</td>\n",
              "      <td>2021-12-31</td>\n",
              "      <td>17244.50</td>\n",
              "      <td>17400.80</td>\n",
              "      <td>17238.50</td>\n",
              "      <td>17354.05</td>\n",
              "      <td>167025720</td>\n",
              "      <td>14588.54</td>\n",
              "      <td>91.763566</td>\n",
              "      <td>-8.236434</td>\n",
              "      <td>63.754483</td>\n",
              "    </tr>\n",
              "  </tbody>\n",
              "</table>\n",
              "<p>2978 rows × 11 columns</p>\n",
              "</div>\n",
              "      <button class=\"colab-df-convert\" onclick=\"convertToInteractive('df-823020a9-1c21-4e66-86d9-f7f75ce0c04e')\"\n",
              "              title=\"Convert this dataframe to an interactive table.\"\n",
              "              style=\"display:none;\">\n",
              "        \n",
              "  <svg xmlns=\"http://www.w3.org/2000/svg\" height=\"24px\"viewBox=\"0 0 24 24\"\n",
              "       width=\"24px\">\n",
              "    <path d=\"M0 0h24v24H0V0z\" fill=\"none\"/>\n",
              "    <path d=\"M18.56 5.44l.94 2.06.94-2.06 2.06-.94-2.06-.94-.94-2.06-.94 2.06-2.06.94zm-11 1L8.5 8.5l.94-2.06 2.06-.94-2.06-.94L8.5 2.5l-.94 2.06-2.06.94zm10 10l.94 2.06.94-2.06 2.06-.94-2.06-.94-.94-2.06-.94 2.06-2.06.94z\"/><path d=\"M17.41 7.96l-1.37-1.37c-.4-.4-.92-.59-1.43-.59-.52 0-1.04.2-1.43.59L10.3 9.45l-7.72 7.72c-.78.78-.78 2.05 0 2.83L4 21.41c.39.39.9.59 1.41.59.51 0 1.02-.2 1.41-.59l7.78-7.78 2.81-2.81c.8-.78.8-2.07 0-2.86zM5.41 20L4 18.59l7.72-7.72 1.47 1.35L5.41 20z\"/>\n",
              "  </svg>\n",
              "      </button>\n",
              "      \n",
              "  <style>\n",
              "    .colab-df-container {\n",
              "      display:flex;\n",
              "      flex-wrap:wrap;\n",
              "      gap: 12px;\n",
              "    }\n",
              "\n",
              "    .colab-df-convert {\n",
              "      background-color: #E8F0FE;\n",
              "      border: none;\n",
              "      border-radius: 50%;\n",
              "      cursor: pointer;\n",
              "      display: none;\n",
              "      fill: #1967D2;\n",
              "      height: 32px;\n",
              "      padding: 0 0 0 0;\n",
              "      width: 32px;\n",
              "    }\n",
              "\n",
              "    .colab-df-convert:hover {\n",
              "      background-color: #E2EBFA;\n",
              "      box-shadow: 0px 1px 2px rgba(60, 64, 67, 0.3), 0px 1px 3px 1px rgba(60, 64, 67, 0.15);\n",
              "      fill: #174EA6;\n",
              "    }\n",
              "\n",
              "    [theme=dark] .colab-df-convert {\n",
              "      background-color: #3B4455;\n",
              "      fill: #D2E3FC;\n",
              "    }\n",
              "\n",
              "    [theme=dark] .colab-df-convert:hover {\n",
              "      background-color: #434B5C;\n",
              "      box-shadow: 0px 1px 3px 1px rgba(0, 0, 0, 0.15);\n",
              "      filter: drop-shadow(0px 1px 2px rgba(0, 0, 0, 0.3));\n",
              "      fill: #FFFFFF;\n",
              "    }\n",
              "  </style>\n",
              "\n",
              "      <script>\n",
              "        const buttonEl =\n",
              "          document.querySelector('#df-823020a9-1c21-4e66-86d9-f7f75ce0c04e button.colab-df-convert');\n",
              "        buttonEl.style.display =\n",
              "          google.colab.kernel.accessAllowed ? 'block' : 'none';\n",
              "\n",
              "        async function convertToInteractive(key) {\n",
              "          const element = document.querySelector('#df-823020a9-1c21-4e66-86d9-f7f75ce0c04e');\n",
              "          const dataTable =\n",
              "            await google.colab.kernel.invokeFunction('convertToInteractive',\n",
              "                                                     [key], {});\n",
              "          if (!dataTable) return;\n",
              "\n",
              "          const docLinkHtml = 'Like what you see? Visit the ' +\n",
              "            '<a target=\"_blank\" href=https://colab.research.google.com/notebooks/data_table.ipynb>data table notebook</a>'\n",
              "            + ' to learn more about interactive tables.';\n",
              "          element.innerHTML = '';\n",
              "          dataTable['output_type'] = 'display_data';\n",
              "          await google.colab.output.renderOutput(dataTable, element);\n",
              "          const docLink = document.createElement('div');\n",
              "          docLink.innerHTML = docLinkHtml;\n",
              "          element.appendChild(docLink);\n",
              "        }\n",
              "      </script>\n",
              "    </div>\n",
              "  </div>\n",
              "  "
            ]
          },
          "metadata": {},
          "execution_count": 3
        }
      ]
    },
    {
      "cell_type": "markdown",
      "source": [
        "#Sentiment Ananlsis using CNN"
      ],
      "metadata": {
        "id": "MVN_DTNv-mrR"
      }
    },
    {
      "cell_type": "code",
      "source": [
        "!pip install --upgrade gensim"
      ],
      "metadata": {
        "colab": {
          "base_uri": "https://localhost:8080/"
        },
        "id": "XwtF4lR9EKQC",
        "outputId": "ee4dd87e-f978-47d3-82de-f42cd2591890"
      },
      "execution_count": null,
      "outputs": [
        {
          "output_type": "stream",
          "name": "stdout",
          "text": [
            "Requirement already satisfied: gensim in /usr/local/lib/python3.7/dist-packages (3.6.0)\n",
            "Collecting gensim\n",
            "  Downloading gensim-4.1.2-cp37-cp37m-manylinux_2_12_x86_64.manylinux2010_x86_64.whl (24.1 MB)\n",
            "\u001b[K     |████████████████████████████████| 24.1 MB 1.6 MB/s \n",
            "\u001b[?25hRequirement already satisfied: smart-open>=1.8.1 in /usr/local/lib/python3.7/dist-packages (from gensim) (5.2.1)\n",
            "Requirement already satisfied: numpy>=1.17.0 in /usr/local/lib/python3.7/dist-packages (from gensim) (1.21.6)\n",
            "Requirement already satisfied: scipy>=0.18.1 in /usr/local/lib/python3.7/dist-packages (from gensim) (1.4.1)\n",
            "Installing collected packages: gensim\n",
            "  Attempting uninstall: gensim\n",
            "    Found existing installation: gensim 3.6.0\n",
            "    Uninstalling gensim-3.6.0:\n",
            "      Successfully uninstalled gensim-3.6.0\n",
            "Successfully installed gensim-4.1.2\n"
          ]
        }
      ]
    },
    {
      "cell_type": "code",
      "source": [
        "#import all library : \n",
        "import keras\n",
        "import tensorflow as tf\n",
        "from keras.models import Sequential\n",
        "from keras.layers import Dense, Dropout, Flatten\n",
        "from keras.layers import Conv2D, MaxPooling2D\n",
        "import numpy as np\n",
        "from tensorflow.keras.datasets import cifar10\n",
        "from tensorflow.keras.datasets import mnist\n",
        "import matplotlib.pyplot as plt\n",
        "from google.colab.patches import cv2_imshow\n",
        "import pandas as pd\n",
        "from sklearn.model_selection import train_test_split\n",
        "import cv2\n",
        "import numpy as np\n",
        "import matplotlib.pyplot as plt\n",
        "from matplotlib.pyplot import hist\n",
        "from google.colab.patches import cv2_imshow\n",
        "from PIL import Image,ImageOps\n",
        "import PIL\n",
        "from skimage.util import random_noise\n",
        "import sys\n",
        "import os\n",
        "from gensim.models import Word2Vec"
      ],
      "metadata": {
        "id": "WLPeso_W-mFx"
      },
      "execution_count": null,
      "outputs": []
    },
    {
      "cell_type": "code",
      "source": [
        "with open('/content/drive/MyDrive/ir_project/binaries/pre_processed_headlines', 'wb') as fileobj:\n",
        "  pickle.dump(pre_processed_headlines, fileobj)"
      ],
      "metadata": {
        "id": "QhId7rUHGBm3"
      },
      "execution_count": null,
      "outputs": []
    },
    {
      "cell_type": "code",
      "source": [
        "with open('/content/drive/MyDrive/ir_project/binaries/pre_processed_headlines', 'rb') as fileobj:\n",
        "  pre_processed_headlines= pickle.load(fileobj)\n"
      ],
      "metadata": {
        "colab": {
          "base_uri": "https://localhost:8080/",
          "height": 182
        },
        "id": "YKTOF_OKGGHr",
        "outputId": "f2a28955-b362-456a-ce6d-b8aa33b87ad5"
      },
      "execution_count": null,
      "outputs": [
        {
          "output_type": "error",
          "ename": "NameError",
          "evalue": "ignored",
          "traceback": [
            "\u001b[0;31m---------------------------------------------------------------------------\u001b[0m",
            "\u001b[0;31mNameError\u001b[0m                                 Traceback (most recent call last)",
            "\u001b[0;32m<ipython-input-1-77fe7f3970f5>\u001b[0m in \u001b[0;36m<module>\u001b[0;34m()\u001b[0m\n\u001b[1;32m      1\u001b[0m \u001b[0;32mwith\u001b[0m \u001b[0mopen\u001b[0m\u001b[0;34m(\u001b[0m\u001b[0;34m'/content/drive/MyDrive/ir_project/binaries/pre_processed_headlines'\u001b[0m\u001b[0;34m,\u001b[0m \u001b[0;34m'rb'\u001b[0m\u001b[0;34m)\u001b[0m \u001b[0;32mas\u001b[0m \u001b[0mfileobj\u001b[0m\u001b[0;34m:\u001b[0m\u001b[0;34m\u001b[0m\u001b[0;34m\u001b[0m\u001b[0m\n\u001b[0;32m----> 2\u001b[0;31m   \u001b[0mpre_processed_headlines\u001b[0m\u001b[0;34m=\u001b[0m \u001b[0mpickle\u001b[0m\u001b[0;34m.\u001b[0m\u001b[0mload\u001b[0m\u001b[0;34m(\u001b[0m\u001b[0mfileobj\u001b[0m\u001b[0;34m)\u001b[0m\u001b[0;34m\u001b[0m\u001b[0;34m\u001b[0m\u001b[0m\n\u001b[0m",
            "\u001b[0;31mNameError\u001b[0m: name 'pickle' is not defined"
          ]
        }
      ]
    },
    {
      "cell_type": "code",
      "source": [
        "len(pre_processed_headlines)"
      ],
      "metadata": {
        "id": "W-TcsYPvGR2I"
      },
      "execution_count": null,
      "outputs": []
    },
    {
      "cell_type": "code",
      "source": [
        "news_headlines=[]\n",
        "for i in range(len(pre_processed_headlines)):\n",
        "  str1=' '.join([str(elem) for elem in pre_processed_headlines[i]])\n",
        "  news_headlines.append(str1)"
      ],
      "metadata": {
        "id": "Sug0N_5dHuTp"
      },
      "execution_count": null,
      "outputs": []
    },
    {
      "cell_type": "code",
      "source": [
        "with open('/content/drive/MyDrive/ir_project/binaries/labelled_news', 'rb') as fileobj:\n",
        "  labelled_news= pickle.load(fileobj)\n"
      ],
      "metadata": {
        "id": "nccJFCN0Irr5"
      },
      "execution_count": null,
      "outputs": []
    },
    {
      "cell_type": "code",
      "source": [
        "labelled_news_list=[]\n",
        "labelled_news_list=labelled_news['Article']"
      ],
      "metadata": {
        "id": "AsJDbKmUZMEM",
        "colab": {
          "base_uri": "https://localhost:8080/",
          "height": 182
        },
        "outputId": "a32013f7-7a42-4655-cd43-ccdb22141ccb"
      },
      "execution_count": null,
      "outputs": [
        {
          "output_type": "error",
          "ename": "NameError",
          "evalue": "ignored",
          "traceback": [
            "\u001b[0;31m---------------------------------------------------------------------------\u001b[0m",
            "\u001b[0;31mNameError\u001b[0m                                 Traceback (most recent call last)",
            "\u001b[0;32m<ipython-input-7-9612c3fc53c0>\u001b[0m in \u001b[0;36m<module>\u001b[0;34m()\u001b[0m\n\u001b[1;32m      1\u001b[0m \u001b[0mlabelled_news_list\u001b[0m\u001b[0;34m=\u001b[0m\u001b[0;34m[\u001b[0m\u001b[0;34m]\u001b[0m\u001b[0;34m\u001b[0m\u001b[0;34m\u001b[0m\u001b[0m\n\u001b[0;32m----> 2\u001b[0;31m \u001b[0mlabelled_news_list\u001b[0m\u001b[0;34m=\u001b[0m\u001b[0mlabelled_news\u001b[0m\u001b[0;34m[\u001b[0m\u001b[0;34m'Article'\u001b[0m\u001b[0;34m]\u001b[0m\u001b[0;34m\u001b[0m\u001b[0;34m\u001b[0m\u001b[0m\n\u001b[0m",
            "\u001b[0;31mNameError\u001b[0m: name 'labelled_news' is not defined"
          ]
        }
      ]
    },
    {
      "cell_type": "code",
      "source": [
        "word2vec_model = Word2Vec(sentences=labelled_news_list, vector_size=20, window=5, min_count=1, workers=4, sg=1)"
      ],
      "metadata": {
        "id": "Bg4dPDmVEabm"
      },
      "execution_count": null,
      "outputs": []
    },
    {
      "cell_type": "code",
      "source": [
        "with open('/content/drive/MyDrive/ir_project/binaries/word2vec_model', 'wb') as fileobj:\n",
        "  pickle.dump(word2vec_model, fileobj)"
      ],
      "metadata": {
        "id": "d24QyvNtZxND"
      },
      "execution_count": null,
      "outputs": []
    },
    {
      "cell_type": "code",
      "source": [
        "with open('/content/drive/MyDrive/ir_project/binaries/word2vec_model', 'rb') as fileobj:\n",
        "  word2vec_model= pickle.load(fileobj)\n"
      ],
      "metadata": {
        "id": "gvhBCUKb42A0"
      },
      "execution_count": null,
      "outputs": []
    },
    {
      "cell_type": "code",
      "source": [
        "def gen_embedding(lst):\n",
        "  result = []\n",
        "  for sentence in lst:\n",
        "    vector = np.zeros((20,))\n",
        "    words = sentence.split()\n",
        "    count = 0\n",
        "    for word in words:\n",
        "      try:\n",
        "        vector += word2vec_model.wv.get_vector(word)\n",
        "        count += 1\n",
        "      except:\n",
        "        pass\n",
        "    \n",
        "    if count > 0:\n",
        "      result.append(vector/count)\n",
        "    else:\n",
        "      result.append(vector)\n",
        "  return result"
      ],
      "metadata": {
        "id": "EI0DaoRQHKrE"
      },
      "execution_count": null,
      "outputs": []
    },
    {
      "cell_type": "code",
      "source": [
        "news_headlines = gen_embedding(labelled_news_list)"
      ],
      "metadata": {
        "id": "1VSYeJRbHPvs"
      },
      "execution_count": null,
      "outputs": []
    },
    {
      "cell_type": "code",
      "source": [
        "news_headlines"
      ],
      "metadata": {
        "id": "MbsqqsDs_s-p"
      },
      "execution_count": null,
      "outputs": []
    },
    {
      "cell_type": "code",
      "source": [
        "labelled_news.head()"
      ],
      "metadata": {
        "colab": {
          "base_uri": "https://localhost:8080/",
          "height": 424
        },
        "id": "wPqxNhp4IPEy",
        "outputId": "f350e0fd-333b-400d-a2b8-db98ab25ff94"
      },
      "execution_count": null,
      "outputs": [
        {
          "output_type": "execute_result",
          "data": {
            "text/plain": [
              "                                  _id                Date  \\\n",
              "197  7ead28fb9f37e2bfd45f14be4fcc1a96 2010-01-04 00:35:00   \n",
              "198  4ade1816abd1a174e77c33613c2dbb22 2010-01-04 00:40:00   \n",
              "199  5c6bb6fcfe3aa6a411881c960515b49c 2010-01-04 00:42:00   \n",
              "200  ecc15c4a58383b385578927646a1ca74 2010-01-04 00:46:00   \n",
              "202  1aab1cae901738671d5b3d3b0b194c60 2010-01-04 00:48:00   \n",
              "\n",
              "                                                 Title  \\\n",
              "197         Steel sales jump 50% in Dec on firm demand   \n",
              "198                 Petrobras to exit ONGC’s gas block   \n",
              "199            PE entry to help Himadri fund expansion   \n",
              "200  India Inc’s top bosses help themselves with Es...   \n",
              "202  Infosys results may not make an impact on open...   \n",
              "\n",
              "                                               Article  \\\n",
              "197  NEW DELHI: India’s top steelmakers led by Stee...   \n",
              "198  NEW DELHI: Brazil’s Petrobras had decided to q...   \n",
              "199  MUMBAI: Private equity Bain Capital has bought...   \n",
              "200  NEW DELHI: The three months leading to Decembe...   \n",
              "202  MUMBAI: It’s a tradition that has been followe...   \n",
              "\n",
              "                                                  Link Sentiment  \n",
              "197  https://economictimes.indiatimes.com/industry/...  Positive  \n",
              "198  https://economictimes.indiatimes.com/industry/...  Positive  \n",
              "199  https://economictimes.indiatimes.com/markets/s...  Positive  \n",
              "200  https://economictimes.indiatimes.com/markets/s...  Positive  \n",
              "202  https://economictimes.indiatimes.com/markets/s...  Positive  "
            ],
            "text/html": [
              "\n",
              "  <div id=\"df-411fce0c-3c7c-428e-b9f7-5d6e8d187b0e\">\n",
              "    <div class=\"colab-df-container\">\n",
              "      <div>\n",
              "<style scoped>\n",
              "    .dataframe tbody tr th:only-of-type {\n",
              "        vertical-align: middle;\n",
              "    }\n",
              "\n",
              "    .dataframe tbody tr th {\n",
              "        vertical-align: top;\n",
              "    }\n",
              "\n",
              "    .dataframe thead th {\n",
              "        text-align: right;\n",
              "    }\n",
              "</style>\n",
              "<table border=\"1\" class=\"dataframe\">\n",
              "  <thead>\n",
              "    <tr style=\"text-align: right;\">\n",
              "      <th></th>\n",
              "      <th>_id</th>\n",
              "      <th>Date</th>\n",
              "      <th>Title</th>\n",
              "      <th>Article</th>\n",
              "      <th>Link</th>\n",
              "      <th>Sentiment</th>\n",
              "    </tr>\n",
              "  </thead>\n",
              "  <tbody>\n",
              "    <tr>\n",
              "      <th>197</th>\n",
              "      <td>7ead28fb9f37e2bfd45f14be4fcc1a96</td>\n",
              "      <td>2010-01-04 00:35:00</td>\n",
              "      <td>Steel sales jump 50% in Dec on firm demand</td>\n",
              "      <td>NEW DELHI: India’s top steelmakers led by Stee...</td>\n",
              "      <td>https://economictimes.indiatimes.com/industry/...</td>\n",
              "      <td>Positive</td>\n",
              "    </tr>\n",
              "    <tr>\n",
              "      <th>198</th>\n",
              "      <td>4ade1816abd1a174e77c33613c2dbb22</td>\n",
              "      <td>2010-01-04 00:40:00</td>\n",
              "      <td>Petrobras to exit ONGC’s gas block</td>\n",
              "      <td>NEW DELHI: Brazil’s Petrobras had decided to q...</td>\n",
              "      <td>https://economictimes.indiatimes.com/industry/...</td>\n",
              "      <td>Positive</td>\n",
              "    </tr>\n",
              "    <tr>\n",
              "      <th>199</th>\n",
              "      <td>5c6bb6fcfe3aa6a411881c960515b49c</td>\n",
              "      <td>2010-01-04 00:42:00</td>\n",
              "      <td>PE entry to help Himadri fund expansion</td>\n",
              "      <td>MUMBAI: Private equity Bain Capital has bought...</td>\n",
              "      <td>https://economictimes.indiatimes.com/markets/s...</td>\n",
              "      <td>Positive</td>\n",
              "    </tr>\n",
              "    <tr>\n",
              "      <th>200</th>\n",
              "      <td>ecc15c4a58383b385578927646a1ca74</td>\n",
              "      <td>2010-01-04 00:46:00</td>\n",
              "      <td>India Inc’s top bosses help themselves with Es...</td>\n",
              "      <td>NEW DELHI: The three months leading to Decembe...</td>\n",
              "      <td>https://economictimes.indiatimes.com/markets/s...</td>\n",
              "      <td>Positive</td>\n",
              "    </tr>\n",
              "    <tr>\n",
              "      <th>202</th>\n",
              "      <td>1aab1cae901738671d5b3d3b0b194c60</td>\n",
              "      <td>2010-01-04 00:48:00</td>\n",
              "      <td>Infosys results may not make an impact on open...</td>\n",
              "      <td>MUMBAI: It’s a tradition that has been followe...</td>\n",
              "      <td>https://economictimes.indiatimes.com/markets/s...</td>\n",
              "      <td>Positive</td>\n",
              "    </tr>\n",
              "  </tbody>\n",
              "</table>\n",
              "</div>\n",
              "      <button class=\"colab-df-convert\" onclick=\"convertToInteractive('df-411fce0c-3c7c-428e-b9f7-5d6e8d187b0e')\"\n",
              "              title=\"Convert this dataframe to an interactive table.\"\n",
              "              style=\"display:none;\">\n",
              "        \n",
              "  <svg xmlns=\"http://www.w3.org/2000/svg\" height=\"24px\"viewBox=\"0 0 24 24\"\n",
              "       width=\"24px\">\n",
              "    <path d=\"M0 0h24v24H0V0z\" fill=\"none\"/>\n",
              "    <path d=\"M18.56 5.44l.94 2.06.94-2.06 2.06-.94-2.06-.94-.94-2.06-.94 2.06-2.06.94zm-11 1L8.5 8.5l.94-2.06 2.06-.94-2.06-.94L8.5 2.5l-.94 2.06-2.06.94zm10 10l.94 2.06.94-2.06 2.06-.94-2.06-.94-.94-2.06-.94 2.06-2.06.94z\"/><path d=\"M17.41 7.96l-1.37-1.37c-.4-.4-.92-.59-1.43-.59-.52 0-1.04.2-1.43.59L10.3 9.45l-7.72 7.72c-.78.78-.78 2.05 0 2.83L4 21.41c.39.39.9.59 1.41.59.51 0 1.02-.2 1.41-.59l7.78-7.78 2.81-2.81c.8-.78.8-2.07 0-2.86zM5.41 20L4 18.59l7.72-7.72 1.47 1.35L5.41 20z\"/>\n",
              "  </svg>\n",
              "      </button>\n",
              "      \n",
              "  <style>\n",
              "    .colab-df-container {\n",
              "      display:flex;\n",
              "      flex-wrap:wrap;\n",
              "      gap: 12px;\n",
              "    }\n",
              "\n",
              "    .colab-df-convert {\n",
              "      background-color: #E8F0FE;\n",
              "      border: none;\n",
              "      border-radius: 50%;\n",
              "      cursor: pointer;\n",
              "      display: none;\n",
              "      fill: #1967D2;\n",
              "      height: 32px;\n",
              "      padding: 0 0 0 0;\n",
              "      width: 32px;\n",
              "    }\n",
              "\n",
              "    .colab-df-convert:hover {\n",
              "      background-color: #E2EBFA;\n",
              "      box-shadow: 0px 1px 2px rgba(60, 64, 67, 0.3), 0px 1px 3px 1px rgba(60, 64, 67, 0.15);\n",
              "      fill: #174EA6;\n",
              "    }\n",
              "\n",
              "    [theme=dark] .colab-df-convert {\n",
              "      background-color: #3B4455;\n",
              "      fill: #D2E3FC;\n",
              "    }\n",
              "\n",
              "    [theme=dark] .colab-df-convert:hover {\n",
              "      background-color: #434B5C;\n",
              "      box-shadow: 0px 1px 3px 1px rgba(0, 0, 0, 0.15);\n",
              "      filter: drop-shadow(0px 1px 2px rgba(0, 0, 0, 0.3));\n",
              "      fill: #FFFFFF;\n",
              "    }\n",
              "  </style>\n",
              "\n",
              "      <script>\n",
              "        const buttonEl =\n",
              "          document.querySelector('#df-411fce0c-3c7c-428e-b9f7-5d6e8d187b0e button.colab-df-convert');\n",
              "        buttonEl.style.display =\n",
              "          google.colab.kernel.accessAllowed ? 'block' : 'none';\n",
              "\n",
              "        async function convertToInteractive(key) {\n",
              "          const element = document.querySelector('#df-411fce0c-3c7c-428e-b9f7-5d6e8d187b0e');\n",
              "          const dataTable =\n",
              "            await google.colab.kernel.invokeFunction('convertToInteractive',\n",
              "                                                     [key], {});\n",
              "          if (!dataTable) return;\n",
              "\n",
              "          const docLinkHtml = 'Like what you see? Visit the ' +\n",
              "            '<a target=\"_blank\" href=https://colab.research.google.com/notebooks/data_table.ipynb>data table notebook</a>'\n",
              "            + ' to learn more about interactive tables.';\n",
              "          element.innerHTML = '';\n",
              "          dataTable['output_type'] = 'display_data';\n",
              "          await google.colab.output.renderOutput(dataTable, element);\n",
              "          const docLink = document.createElement('div');\n",
              "          docLink.innerHTML = docLinkHtml;\n",
              "          element.appendChild(docLink);\n",
              "        }\n",
              "      </script>\n",
              "    </div>\n",
              "  </div>\n",
              "  "
            ]
          },
          "metadata": {},
          "execution_count": 25
        }
      ]
    },
    {
      "cell_type": "code",
      "source": [
        "from sklearn.preprocessing import LabelEncoder\n",
        "from sklearn.preprocessing import OneHotEncoder"
      ],
      "metadata": {
        "id": "wrqINVYI_L2K"
      },
      "execution_count": null,
      "outputs": []
    },
    {
      "cell_type": "code",
      "source": [
        "label_encoder = LabelEncoder()\n",
        "integer_encoded = label_encoder.fit_transform(labelled_news['Sentiment'])"
      ],
      "metadata": {
        "id": "-_fLQABZJEiY"
      },
      "execution_count": null,
      "outputs": []
    },
    {
      "cell_type": "code",
      "source": [
        "integer_encoded = integer_encoded.reshape(len(integer_encoded), 1)\n",
        "onehot_encoder = OneHotEncoder(sparse=False)\n",
        "onehot_encoded = onehot_encoder.fit_transform(integer_encoded)\n"
      ],
      "metadata": {
        "id": "f-a-6hDB_QL5"
      },
      "execution_count": null,
      "outputs": []
    },
    {
      "cell_type": "code",
      "source": [
        "onehot_encoded[1000]"
      ],
      "metadata": {
        "colab": {
          "base_uri": "https://localhost:8080/"
        },
        "id": "pn-jq7NG_WFD",
        "outputId": "8e4ec2ef-affc-4cbb-bfb0-d026f50ca288"
      },
      "execution_count": null,
      "outputs": [
        {
          "output_type": "execute_result",
          "data": {
            "text/plain": [
              "array([0., 0., 1., 0., 0.])"
            ]
          },
          "metadata": {},
          "execution_count": 35
        }
      ]
    },
    {
      "cell_type": "code",
      "source": [
        "labelled_news[\"Sentiment\"] = labelled_news[\"Sentiment\"].astype('category')"
      ],
      "metadata": {
        "id": "SzsL3aLPEzyx"
      },
      "execution_count": null,
      "outputs": []
    },
    {
      "cell_type": "code",
      "source": [
        "labelled_news[\"Sentiment_encoded\"] = labelled_news[\"Sentiment\"].cat.codes"
      ],
      "metadata": {
        "id": "0ZyxOqwfFCPp"
      },
      "execution_count": null,
      "outputs": []
    },
    {
      "cell_type": "code",
      "source": [
        "y=[]\n",
        "y=labelled_news['Sentiment_encoded']"
      ],
      "metadata": {
        "id": "yc7VSpYPIhZM"
      },
      "execution_count": null,
      "outputs": []
    },
    {
      "cell_type": "code",
      "source": [
        "x=np.array(news_headlines)"
      ],
      "metadata": {
        "id": "wswXPG9wI_ob"
      },
      "execution_count": null,
      "outputs": []
    },
    {
      "cell_type": "code",
      "source": [
        "x.shape"
      ],
      "metadata": {
        "colab": {
          "base_uri": "https://localhost:8080/"
        },
        "id": "Q4Mhn5J5OFjc",
        "outputId": "99501167-62c9-4e70-9b89-319c9bedf2ce"
      },
      "execution_count": null,
      "outputs": [
        {
          "output_type": "execute_result",
          "data": {
            "text/plain": [
              "(379099, 20)"
            ]
          },
          "metadata": {},
          "execution_count": 57
        }
      ]
    },
    {
      "cell_type": "code",
      "source": [
        "model.compile(loss='categorical_crossentropy', metrics=['accuracy'], optimizer='adam')\n",
        "#model.fit(X_train,y_train,epochs=15)\n",
        "history = model.fit(\n",
        "    X_train, \n",
        "    y_train, \n",
        "    epochs=10, \n",
        "    batch_size=64,\n",
        "    validation_data = (X_test,y_test)\n",
        ")"
      ],
      "metadata": {
        "colab": {
          "base_uri": "https://localhost:8080/"
        },
        "id": "drwBvQZ8DfWr",
        "outputId": "43dff08c-4689-40a1-cf0c-c23ef0a38130"
      },
      "execution_count": null,
      "outputs": [
        {
          "output_type": "stream",
          "name": "stdout",
          "text": [
            "Epoch 1/10\n",
            "3555/3555 [==============================] - 52s 14ms/step - loss: 1.4058 - accuracy: 0.4294 - val_loss: 1.4026 - val_accuracy: 0.4282\n",
            "Epoch 2/10\n",
            "3555/3555 [==============================] - 50s 14ms/step - loss: 1.4031 - accuracy: 0.4294 - val_loss: 1.4025 - val_accuracy: 0.4282\n",
            "Epoch 3/10\n",
            "3555/3555 [==============================] - 49s 14ms/step - loss: 1.4027 - accuracy: 0.4294 - val_loss: 1.4029 - val_accuracy: 0.4282\n",
            "Epoch 4/10\n",
            "3555/3555 [==============================] - 51s 14ms/step - loss: 1.4025 - accuracy: 0.4294 - val_loss: 1.4026 - val_accuracy: 0.4282\n",
            "Epoch 5/10\n",
            "3555/3555 [==============================] - 49s 14ms/step - loss: 1.4026 - accuracy: 0.4294 - val_loss: 1.4026 - val_accuracy: 0.4282\n",
            "Epoch 6/10\n",
            "3555/3555 [==============================] - 49s 14ms/step - loss: 1.4024 - accuracy: 0.4294 - val_loss: 1.4025 - val_accuracy: 0.4282\n",
            "Epoch 7/10\n",
            "3555/3555 [==============================] - 50s 14ms/step - loss: 1.4023 - accuracy: 0.4294 - val_loss: 1.4026 - val_accuracy: 0.4282\n",
            "Epoch 8/10\n",
            "3555/3555 [==============================] - 48s 14ms/step - loss: 1.4023 - accuracy: 0.4294 - val_loss: 1.4027 - val_accuracy: 0.4282\n",
            "Epoch 9/10\n",
            "3555/3555 [==============================] - 47s 13ms/step - loss: 1.4022 - accuracy: 0.4294 - val_loss: 1.4028 - val_accuracy: 0.4282\n",
            "Epoch 10/10\n",
            "3555/3555 [==============================] - 49s 14ms/step - loss: 1.4022 - accuracy: 0.4294 - val_loss: 1.4025 - val_accuracy: 0.4282\n"
          ]
        }
      ]
    },
    {
      "cell_type": "code",
      "source": [
        "def plot_history(history, key):\n",
        "  plt.plot(history.history[key])\n",
        "  plt.plot(history.history['val_'+key])\n",
        "  plt.xlabel(\"Epochs\")\n",
        "  plt.ylabel(key)\n",
        "  plt.legend([key, 'val_'+key])\n",
        "  plt.show()\n",
        "# Plot the history\n",
        "plot_history(history, 'accuracy')\n",
        "plot_history(history,'loss')"
      ],
      "metadata": {
        "colab": {
          "base_uri": "https://localhost:8080/",
          "height": 544
        },
        "id": "fuNpLjZWJwGY",
        "outputId": "87949c98-ecc9-4ba2-d0bd-2c2b9c101fb8"
      },
      "execution_count": null,
      "outputs": [
        {
          "output_type": "display_data",
          "data": {
            "text/plain": [
              "<Figure size 432x288 with 1 Axes>"
            ],
            "image/png": "[encoded data removed]"
          },
          "metadata": {
            "needs_background": "light"
          }
        },
        {
          "output_type": "display_data",
          "data": {
            "text/plain": [
              "<Figure size 432x288 with 1 Axes>"
            ],
            "image/png": "[encoded data removed]"
          },
          "metadata": {
            "needs_background": "light"
          }
        }
      ]
    },
    {
      "cell_type": "markdown",
      "source": [
        "#CNN and Word2Vec for Sentiment Analysis"
      ],
      "metadata": {
        "id": "dFO0QQEAhvJ8"
      }
    },
    {
      "cell_type": "code",
      "source": [
        "!pip install tensorflow"
      ],
      "metadata": {
        "colab": {
          "base_uri": "https://localhost:8080/"
        },
        "id": "EU3dzG1ViWY4",
        "outputId": "7b8dfcf8-7259-4043-8a43-a765ed5b141a"
      },
      "execution_count": null,
      "outputs": [
        {
          "output_type": "stream",
          "name": "stdout",
          "text": [
            "Requirement already satisfied: tensorflow in /usr/local/lib/python3.7/dist-packages (2.8.0)\n",
            "Requirement already satisfied: tensorboard<2.9,>=2.8 in /usr/local/lib/python3.7/dist-packages (from tensorflow) (2.8.0)\n",
            "Requirement already satisfied: flatbuffers>=1.12 in /usr/local/lib/python3.7/dist-packages (from tensorflow) (2.0)\n",
            "Requirement already satisfied: absl-py>=0.4.0 in /usr/local/lib/python3.7/dist-packages (from tensorflow) (1.0.0)\n",
            "Collecting tf-estimator-nightly==2.8.0.dev2021122109\n",
            "  Downloading tf_estimator_nightly-2.8.0.dev2021122109-py2.py3-none-any.whl (462 kB)\n",
            "\u001b[K     |████████████████████████████████| 462 kB 5.6 MB/s \n",
            "\u001b[?25hRequirement already satisfied: opt-einsum>=2.3.2 in /usr/local/lib/python3.7/dist-packages (from tensorflow) (3.3.0)\n",
            "Requirement already satisfied: six>=1.12.0 in /usr/local/lib/python3.7/dist-packages (from tensorflow) (1.15.0)\n",
            "Requirement already satisfied: libclang>=9.0.1 in /usr/local/lib/python3.7/dist-packages (from tensorflow) (13.0.0)\n",
            "Requirement already satisfied: typing-extensions>=3.6.6 in /usr/local/lib/python3.7/dist-packages (from tensorflow) (4.1.1)\n",
            "Requirement already satisfied: tensorflow-io-gcs-filesystem>=0.23.1 in /usr/local/lib/python3.7/dist-packages (from tensorflow) (0.24.0)\n",
            "Requirement already satisfied: keras<2.9,>=2.8.0rc0 in /usr/local/lib/python3.7/dist-packages (from tensorflow) (2.8.0)\n",
            "Requirement already satisfied: numpy>=1.20 in /usr/local/lib/python3.7/dist-packages (from tensorflow) (1.21.6)\n",
            "Requirement already satisfied: google-pasta>=0.1.1 in /usr/local/lib/python3.7/dist-packages (from tensorflow) (0.2.0)\n",
            "Requirement already satisfied: astunparse>=1.6.0 in /usr/local/lib/python3.7/dist-packages (from tensorflow) (1.6.3)\n",
            "Requirement already satisfied: keras-preprocessing>=1.1.1 in /usr/local/lib/python3.7/dist-packages (from tensorflow) (1.1.2)\n",
            "Requirement already satisfied: h5py>=2.9.0 in /usr/local/lib/python3.7/dist-packages (from tensorflow) (3.1.0)\n",
            "Requirement already satisfied: protobuf>=3.9.2 in /usr/local/lib/python3.7/dist-packages (from tensorflow) (3.17.3)\n",
            "Requirement already satisfied: termcolor>=1.1.0 in /usr/local/lib/python3.7/dist-packages (from tensorflow) (1.1.0)\n",
            "Requirement already satisfied: grpcio<2.0,>=1.24.3 in /usr/local/lib/python3.7/dist-packages (from tensorflow) (1.44.0)\n",
            "Requirement already satisfied: setuptools in /usr/local/lib/python3.7/dist-packages (from tensorflow) (57.4.0)\n",
            "Requirement already satisfied: wrapt>=1.11.0 in /usr/local/lib/python3.7/dist-packages (from tensorflow) (1.14.0)\n",
            "Requirement already satisfied: gast>=0.2.1 in /usr/local/lib/python3.7/dist-packages (from tensorflow) (0.5.3)\n",
            "Requirement already satisfied: wheel<1.0,>=0.23.0 in /usr/local/lib/python3.7/dist-packages (from astunparse>=1.6.0->tensorflow) (0.37.1)\n",
            "Requirement already satisfied: cached-property in /usr/local/lib/python3.7/dist-packages (from h5py>=2.9.0->tensorflow) (1.5.2)\n",
            "Requirement already satisfied: google-auth<3,>=1.6.3 in /usr/local/lib/python3.7/dist-packages (from tensorboard<2.9,>=2.8->tensorflow) (1.35.0)\n",
            "Requirement already satisfied: tensorboard-data-server<0.7.0,>=0.6.0 in /usr/local/lib/python3.7/dist-packages (from tensorboard<2.9,>=2.8->tensorflow) (0.6.1)\n",
            "Requirement already satisfied: tensorboard-plugin-wit>=1.6.0 in /usr/local/lib/python3.7/dist-packages (from tensorboard<2.9,>=2.8->tensorflow) (1.8.1)\n",
            "Requirement already satisfied: werkzeug>=0.11.15 in /usr/local/lib/python3.7/dist-packages (from tensorboard<2.9,>=2.8->tensorflow) (1.0.1)\n",
            "Requirement already satisfied: requests<3,>=2.21.0 in /usr/local/lib/python3.7/dist-packages (from tensorboard<2.9,>=2.8->tensorflow) (2.23.0)\n",
            "Requirement already satisfied: google-auth-oauthlib<0.5,>=0.4.1 in /usr/local/lib/python3.7/dist-packages (from tensorboard<2.9,>=2.8->tensorflow) (0.4.6)\n",
            "Requirement already satisfied: markdown>=2.6.8 in /usr/local/lib/python3.7/dist-packages (from tensorboard<2.9,>=2.8->tensorflow) (3.3.6)\n",
            "Requirement already satisfied: cachetools<5.0,>=2.0.0 in /usr/local/lib/python3.7/dist-packages (from google-auth<3,>=1.6.3->tensorboard<2.9,>=2.8->tensorflow) (4.2.4)\n",
            "Requirement already satisfied: pyasn1-modules>=0.2.1 in /usr/local/lib/python3.7/dist-packages (from google-auth<3,>=1.6.3->tensorboard<2.9,>=2.8->tensorflow) (0.2.8)\n",
            "Requirement already satisfied: rsa<5,>=3.1.4 in /usr/local/lib/python3.7/dist-packages (from google-auth<3,>=1.6.3->tensorboard<2.9,>=2.8->tensorflow) (4.8)\n",
            "Requirement already satisfied: requests-oauthlib>=0.7.0 in /usr/local/lib/python3.7/dist-packages (from google-auth-oauthlib<0.5,>=0.4.1->tensorboard<2.9,>=2.8->tensorflow) (1.3.1)\n",
            "Requirement already satisfied: importlib-metadata>=4.4 in /usr/local/lib/python3.7/dist-packages (from markdown>=2.6.8->tensorboard<2.9,>=2.8->tensorflow) (4.11.3)\n",
            "Requirement already satisfied: zipp>=0.5 in /usr/local/lib/python3.7/dist-packages (from importlib-metadata>=4.4->markdown>=2.6.8->tensorboard<2.9,>=2.8->tensorflow) (3.8.0)\n",
            "Requirement already satisfied: pyasn1<0.5.0,>=0.4.6 in /usr/local/lib/python3.7/dist-packages (from pyasn1-modules>=0.2.1->google-auth<3,>=1.6.3->tensorboard<2.9,>=2.8->tensorflow) (0.4.8)\n",
            "Requirement already satisfied: certifi>=2017.4.17 in /usr/local/lib/python3.7/dist-packages (from requests<3,>=2.21.0->tensorboard<2.9,>=2.8->tensorflow) (2021.10.8)\n",
            "Requirement already satisfied: chardet<4,>=3.0.2 in /usr/local/lib/python3.7/dist-packages (from requests<3,>=2.21.0->tensorboard<2.9,>=2.8->tensorflow) (3.0.4)\n",
            "Requirement already satisfied: urllib3!=1.25.0,!=1.25.1,<1.26,>=1.21.1 in /usr/local/lib/python3.7/dist-packages (from requests<3,>=2.21.0->tensorboard<2.9,>=2.8->tensorflow) (1.24.3)\n",
            "Requirement already satisfied: idna<3,>=2.5 in /usr/local/lib/python3.7/dist-packages (from requests<3,>=2.21.0->tensorboard<2.9,>=2.8->tensorflow) (2.10)\n",
            "Requirement already satisfied: oauthlib>=3.0.0 in /usr/local/lib/python3.7/dist-packages (from requests-oauthlib>=0.7.0->google-auth-oauthlib<0.5,>=0.4.1->tensorboard<2.9,>=2.8->tensorflow) (3.2.0)\n",
            "Installing collected packages: tf-estimator-nightly\n",
            "Successfully installed tf-estimator-nightly-2.8.0.dev2021122109\n"
          ]
        }
      ]
    },
    {
      "cell_type": "code",
      "source": [
        "import numpy as np\n",
        "import pandas as pd\n",
        "from gensim.models.word2vec import Word2Vec\n",
        "from sklearn.model_selection import train_test_split\n",
        "from tensorflow.keras.utils import to_categorical\n",
        "from keras.layers import Dense, Dropout, Conv1D, MaxPool1D, GlobalMaxPool1D, Embedding, Activation\n",
        "from keras.preprocessing.text import Tokenizer\n",
        "from keras.preprocessing.sequence import pad_sequences\n",
        "from keras.models import Sequential\n",
        "import re\n",
        "import nltk\n",
        "from nltk.corpus import stopwords\n",
        "from nltk.stem.snowball import PorterStemmer\n",
        "from sklearn import preprocessing\n",
        "import datetime"
      ],
      "metadata": {
        "id": "MYqT2xesh0zp"
      },
      "execution_count": null,
      "outputs": []
    },
    {
      "cell_type": "code",
      "source": [
        "def preprocess_text(sen):\n",
        "    # Remove punctuations and numbers\n",
        "    sentence = re.sub('[^a-zA-Z]', ' ', sen)\n",
        "\n",
        "    # Single character removal\n",
        "    sentence = re.sub(r\"\\s+[a-zA-Z]\\s+\", ' ', sentence)\n",
        "\n",
        "    # Removing multiple spaces\n",
        "    sentence = re.sub(r'\\s+', ' ', sentence)\n",
        "    \n",
        "    stops = stopwords.words('english')\n",
        "    #print(stops)\n",
        "    porter = PorterStemmer()\n",
        "    for word in sentence.split():\n",
        "        if word in stops:\n",
        "            sentence = sentence.replace(word, '')\n",
        "        sentence = sentence.replace(word, porter.stem(word))\n",
        "    return sentence.lower()"
      ],
      "metadata": {
        "id": "pKtMBrD3ifsq"
      },
      "execution_count": null,
      "outputs": []
    },
    {
      "cell_type": "code",
      "source": [
        "with open('/content/drive/MyDrive/ir_project/binaries/labelled_news_binary_new', 'rb') as fileobj:\n",
        "  labelled_news= pickle.load(fileobj)\n"
      ],
      "metadata": {
        "id": "E1wz9sTDiuAa"
      },
      "execution_count": null,
      "outputs": []
    },
    {
      "cell_type": "code",
      "source": [
        "labelled_news=df_final"
      ],
      "metadata": {
        "id": "X7mhoy7fmc6n"
      },
      "execution_count": null,
      "outputs": []
    },
    {
      "cell_type": "code",
      "source": [
        "labelled_news.head(10)"
      ],
      "metadata": {
        "colab": {
          "base_uri": "https://localhost:8080/",
          "height": 737
        },
        "id": "cuTTgvfpi3lI",
        "outputId": "be88aec4-5920-4c73-b14a-25aec2f806b5"
      },
      "execution_count": null,
      "outputs": [
        {
          "output_type": "execute_result",
          "data": {
            "text/plain": [
              "                                  _id                Date  \\\n",
              "197  7ead28fb9f37e2bfd45f14be4fcc1a96 2010-01-04 00:35:00   \n",
              "198  4ade1816abd1a174e77c33613c2dbb22 2010-01-04 00:40:00   \n",
              "199  5c6bb6fcfe3aa6a411881c960515b49c 2010-01-04 00:42:00   \n",
              "200  ecc15c4a58383b385578927646a1ca74 2010-01-04 00:46:00   \n",
              "202  1aab1cae901738671d5b3d3b0b194c60 2010-01-04 00:48:00   \n",
              "203  c2c1b154f9a18d4ab5ac177adb17c4e9 2010-01-04 01:04:00   \n",
              "206  035587192ae60e6c00e423cc332e3dfe 2010-01-04 01:19:00   \n",
              "207  98505d34ac6bbbc17886ad131f38c0bd 2010-01-04 01:23:00   \n",
              "214  37a5150021ad1b2974d1b54794772699 2010-01-04 02:28:00   \n",
              "215  05a03605a79eccfcd0c69490e250fb64 2010-01-04 02:33:00   \n",
              "\n",
              "                                                 Title  \\\n",
              "197         Steel sales jump 50% in Dec on firm demand   \n",
              "198                 Petrobras to exit ONGC’s gas block   \n",
              "199            PE entry to help Himadri fund expansion   \n",
              "200  India Inc’s top bosses help themselves with Es...   \n",
              "202  Infosys results may not make an impact on open...   \n",
              "203     Today's Bet: 5100-5300 level crucial for Nifty   \n",
              "206          Rise in lead price likely to dent profits   \n",
              "207               Sectors may not match cos’ solo show   \n",
              "214  Rupee seen at 46.55-46.80 today: Basix Forex &...   \n",
              "215  Bond yields to remain range bound: Fixed Incom...   \n",
              "\n",
              "                                               Article  \\\n",
              "197  NEW DELHI: India’s top steelmakers led by Stee...   \n",
              "198  NEW DELHI: Brazil’s Petrobras had decided to q...   \n",
              "199  MUMBAI: Private equity Bain Capital has bought...   \n",
              "200  NEW DELHI: The three months leading to Decembe...   \n",
              "202  MUMBAI: It’s a tradition that has been followe...   \n",
              "203  The Nifty opened the week on a positive note a...   \n",
              "206  One of the main factors that fuelled the marke...   \n",
              "207  As the new decade dawns, it may be pertinent t...   \n",
              "214  The rupee may remain in the 46.55-46.80 range ...   \n",
              "215  Bond yields will remain range-bound with a tra...   \n",
              "\n",
              "                                                  Link Sentiment  \n",
              "197  https://economictimes.indiatimes.com/industry/...  Positive  \n",
              "198  https://economictimes.indiatimes.com/industry/...  Positive  \n",
              "199  https://economictimes.indiatimes.com/markets/s...  Positive  \n",
              "200  https://economictimes.indiatimes.com/markets/s...  Positive  \n",
              "202  https://economictimes.indiatimes.com/markets/s...  Positive  \n",
              "203  https://economictimes.indiatimes.com/markets/s...  Positive  \n",
              "206  https://economictimes.indiatimes.com/markets/s...  Positive  \n",
              "207  https://economictimes.indiatimes.com/markets/s...  Positive  \n",
              "214  https://economictimes.indiatimes.com/markets/s...  Positive  \n",
              "215  https://economictimes.indiatimes.com/markets/s...  Positive  "
            ],
            "text/html": [
              "\n",
              "  <div id=\"df-c2439998-826e-453d-8c81-8a9e828cfb37\">\n",
              "    <div class=\"colab-df-container\">\n",
              "      <div>\n",
              "<style scoped>\n",
              "    .dataframe tbody tr th:only-of-type {\n",
              "        vertical-align: middle;\n",
              "    }\n",
              "\n",
              "    .dataframe tbody tr th {\n",
              "        vertical-align: top;\n",
              "    }\n",
              "\n",
              "    .dataframe thead th {\n",
              "        text-align: right;\n",
              "    }\n",
              "</style>\n",
              "<table border=\"1\" class=\"dataframe\">\n",
              "  <thead>\n",
              "    <tr style=\"text-align: right;\">\n",
              "      <th></th>\n",
              "      <th>_id</th>\n",
              "      <th>Date</th>\n",
              "      <th>Title</th>\n",
              "      <th>Article</th>\n",
              "      <th>Link</th>\n",
              "      <th>Sentiment</th>\n",
              "    </tr>\n",
              "  </thead>\n",
              "  <tbody>\n",
              "    <tr>\n",
              "      <th>197</th>\n",
              "      <td>7ead28fb9f37e2bfd45f14be4fcc1a96</td>\n",
              "      <td>2010-01-04 00:35:00</td>\n",
              "      <td>Steel sales jump 50% in Dec on firm demand</td>\n",
              "      <td>NEW DELHI: India’s top steelmakers led by Stee...</td>\n",
              "      <td>https://economictimes.indiatimes.com/industry/...</td>\n",
              "      <td>Positive</td>\n",
              "    </tr>\n",
              "    <tr>\n",
              "      <th>198</th>\n",
              "      <td>4ade1816abd1a174e77c33613c2dbb22</td>\n",
              "      <td>2010-01-04 00:40:00</td>\n",
              "      <td>Petrobras to exit ONGC’s gas block</td>\n",
              "      <td>NEW DELHI: Brazil’s Petrobras had decided to q...</td>\n",
              "      <td>https://economictimes.indiatimes.com/industry/...</td>\n",
              "      <td>Positive</td>\n",
              "    </tr>\n",
              "    <tr>\n",
              "      <th>199</th>\n",
              "      <td>5c6bb6fcfe3aa6a411881c960515b49c</td>\n",
              "      <td>2010-01-04 00:42:00</td>\n",
              "      <td>PE entry to help Himadri fund expansion</td>\n",
              "      <td>MUMBAI: Private equity Bain Capital has bought...</td>\n",
              "      <td>https://economictimes.indiatimes.com/markets/s...</td>\n",
              "      <td>Positive</td>\n",
              "    </tr>\n",
              "    <tr>\n",
              "      <th>200</th>\n",
              "      <td>ecc15c4a58383b385578927646a1ca74</td>\n",
              "      <td>2010-01-04 00:46:00</td>\n",
              "      <td>India Inc’s top bosses help themselves with Es...</td>\n",
              "      <td>NEW DELHI: The three months leading to Decembe...</td>\n",
              "      <td>https://economictimes.indiatimes.com/markets/s...</td>\n",
              "      <td>Positive</td>\n",
              "    </tr>\n",
              "    <tr>\n",
              "      <th>202</th>\n",
              "      <td>1aab1cae901738671d5b3d3b0b194c60</td>\n",
              "      <td>2010-01-04 00:48:00</td>\n",
              "      <td>Infosys results may not make an impact on open...</td>\n",
              "      <td>MUMBAI: It’s a tradition that has been followe...</td>\n",
              "      <td>https://economictimes.indiatimes.com/markets/s...</td>\n",
              "      <td>Positive</td>\n",
              "    </tr>\n",
              "    <tr>\n",
              "      <th>203</th>\n",
              "      <td>c2c1b154f9a18d4ab5ac177adb17c4e9</td>\n",
              "      <td>2010-01-04 01:04:00</td>\n",
              "      <td>Today's Bet: 5100-5300 level crucial for Nifty</td>\n",
              "      <td>The Nifty opened the week on a positive note a...</td>\n",
              "      <td>https://economictimes.indiatimes.com/markets/s...</td>\n",
              "      <td>Positive</td>\n",
              "    </tr>\n",
              "    <tr>\n",
              "      <th>206</th>\n",
              "      <td>035587192ae60e6c00e423cc332e3dfe</td>\n",
              "      <td>2010-01-04 01:19:00</td>\n",
              "      <td>Rise in lead price likely to dent profits</td>\n",
              "      <td>One of the main factors that fuelled the marke...</td>\n",
              "      <td>https://economictimes.indiatimes.com/markets/s...</td>\n",
              "      <td>Positive</td>\n",
              "    </tr>\n",
              "    <tr>\n",
              "      <th>207</th>\n",
              "      <td>98505d34ac6bbbc17886ad131f38c0bd</td>\n",
              "      <td>2010-01-04 01:23:00</td>\n",
              "      <td>Sectors may not match cos’ solo show</td>\n",
              "      <td>As the new decade dawns, it may be pertinent t...</td>\n",
              "      <td>https://economictimes.indiatimes.com/markets/s...</td>\n",
              "      <td>Positive</td>\n",
              "    </tr>\n",
              "    <tr>\n",
              "      <th>214</th>\n",
              "      <td>37a5150021ad1b2974d1b54794772699</td>\n",
              "      <td>2010-01-04 02:28:00</td>\n",
              "      <td>Rupee seen at 46.55-46.80 today: Basix Forex &amp;...</td>\n",
              "      <td>The rupee may remain in the 46.55-46.80 range ...</td>\n",
              "      <td>https://economictimes.indiatimes.com/markets/s...</td>\n",
              "      <td>Positive</td>\n",
              "    </tr>\n",
              "    <tr>\n",
              "      <th>215</th>\n",
              "      <td>05a03605a79eccfcd0c69490e250fb64</td>\n",
              "      <td>2010-01-04 02:33:00</td>\n",
              "      <td>Bond yields to remain range bound: Fixed Incom...</td>\n",
              "      <td>Bond yields will remain range-bound with a tra...</td>\n",
              "      <td>https://economictimes.indiatimes.com/markets/s...</td>\n",
              "      <td>Positive</td>\n",
              "    </tr>\n",
              "  </tbody>\n",
              "</table>\n",
              "</div>\n",
              "      <button class=\"colab-df-convert\" onclick=\"convertToInteractive('df-c2439998-826e-453d-8c81-8a9e828cfb37')\"\n",
              "              title=\"Convert this dataframe to an interactive table.\"\n",
              "              style=\"display:none;\">\n",
              "        \n",
              "  <svg xmlns=\"http://www.w3.org/2000/svg\" height=\"24px\"viewBox=\"0 0 24 24\"\n",
              "       width=\"24px\">\n",
              "    <path d=\"M0 0h24v24H0V0z\" fill=\"none\"/>\n",
              "    <path d=\"M18.56 5.44l.94 2.06.94-2.06 2.06-.94-2.06-.94-.94-2.06-.94 2.06-2.06.94zm-11 1L8.5 8.5l.94-2.06 2.06-.94-2.06-.94L8.5 2.5l-.94 2.06-2.06.94zm10 10l.94 2.06.94-2.06 2.06-.94-2.06-.94-.94-2.06-.94 2.06-2.06.94z\"/><path d=\"M17.41 7.96l-1.37-1.37c-.4-.4-.92-.59-1.43-.59-.52 0-1.04.2-1.43.59L10.3 9.45l-7.72 7.72c-.78.78-.78 2.05 0 2.83L4 21.41c.39.39.9.59 1.41.59.51 0 1.02-.2 1.41-.59l7.78-7.78 2.81-2.81c.8-.78.8-2.07 0-2.86zM5.41 20L4 18.59l7.72-7.72 1.47 1.35L5.41 20z\"/>\n",
              "  </svg>\n",
              "      </button>\n",
              "      \n",
              "  <style>\n",
              "    .colab-df-container {\n",
              "      display:flex;\n",
              "      flex-wrap:wrap;\n",
              "      gap: 12px;\n",
              "    }\n",
              "\n",
              "    .colab-df-convert {\n",
              "      background-color: #E8F0FE;\n",
              "      border: none;\n",
              "      border-radius: 50%;\n",
              "      cursor: pointer;\n",
              "      display: none;\n",
              "      fill: #1967D2;\n",
              "      height: 32px;\n",
              "      padding: 0 0 0 0;\n",
              "      width: 32px;\n",
              "    }\n",
              "\n",
              "    .colab-df-convert:hover {\n",
              "      background-color: #E2EBFA;\n",
              "      box-shadow: 0px 1px 2px rgba(60, 64, 67, 0.3), 0px 1px 3px 1px rgba(60, 64, 67, 0.15);\n",
              "      fill: #174EA6;\n",
              "    }\n",
              "\n",
              "    [theme=dark] .colab-df-convert {\n",
              "      background-color: #3B4455;\n",
              "      fill: #D2E3FC;\n",
              "    }\n",
              "\n",
              "    [theme=dark] .colab-df-convert:hover {\n",
              "      background-color: #434B5C;\n",
              "      box-shadow: 0px 1px 3px 1px rgba(0, 0, 0, 0.15);\n",
              "      filter: drop-shadow(0px 1px 2px rgba(0, 0, 0, 0.3));\n",
              "      fill: #FFFFFF;\n",
              "    }\n",
              "  </style>\n",
              "\n",
              "      <script>\n",
              "        const buttonEl =\n",
              "          document.querySelector('#df-c2439998-826e-453d-8c81-8a9e828cfb37 button.colab-df-convert');\n",
              "        buttonEl.style.display =\n",
              "          google.colab.kernel.accessAllowed ? 'block' : 'none';\n",
              "\n",
              "        async function convertToInteractive(key) {\n",
              "          const element = document.querySelector('#df-c2439998-826e-453d-8c81-8a9e828cfb37');\n",
              "          const dataTable =\n",
              "            await google.colab.kernel.invokeFunction('convertToInteractive',\n",
              "                                                     [key], {});\n",
              "          if (!dataTable) return;\n",
              "\n",
              "          const docLinkHtml = 'Like what you see? Visit the ' +\n",
              "            '<a target=\"_blank\" href=https://colab.research.google.com/notebooks/data_table.ipynb>data table notebook</a>'\n",
              "            + ' to learn more about interactive tables.';\n",
              "          element.innerHTML = '';\n",
              "          dataTable['output_type'] = 'display_data';\n",
              "          await google.colab.output.renderOutput(dataTable, element);\n",
              "          const docLink = document.createElement('div');\n",
              "          docLink.innerHTML = docLinkHtml;\n",
              "          element.appendChild(docLink);\n",
              "        }\n",
              "      </script>\n",
              "    </div>\n",
              "  </div>\n",
              "  "
            ]
          },
          "metadata": {},
          "execution_count": 14
        }
      ]
    },
    {
      "cell_type": "code",
      "source": [
        "labelled_news['Title'] = labelled_news['Title'].apply(preprocess_text)\n",
        "labelled_news.head(10)"
      ],
      "metadata": {
        "colab": {
          "base_uri": "https://localhost:8080/",
          "height": 737
        },
        "id": "cxYNz_k6incn",
        "outputId": "bd48f5d9-c4f5-41d1-9b5c-ea6022fc1321"
      },
      "execution_count": null,
      "outputs": [
        {
          "output_type": "execute_result",
          "data": {
            "text/plain": [
              "                                  _id                Date  \\\n",
              "197  7ead28fb9f37e2bfd45f14be4fcc1a96 2010-01-04 00:35:00   \n",
              "198  4ade1816abd1a174e77c33613c2dbb22 2010-01-04 00:40:00   \n",
              "199  5c6bb6fcfe3aa6a411881c960515b49c 2010-01-04 00:42:00   \n",
              "200  ecc15c4a58383b385578927646a1ca74 2010-01-04 00:46:00   \n",
              "202  1aab1cae901738671d5b3d3b0b194c60 2010-01-04 00:48:00   \n",
              "203  c2c1b154f9a18d4ab5ac177adb17c4e9 2010-01-04 01:04:00   \n",
              "206  035587192ae60e6c00e423cc332e3dfe 2010-01-04 01:19:00   \n",
              "207  98505d34ac6bbbc17886ad131f38c0bd 2010-01-04 01:23:00   \n",
              "214  37a5150021ad1b2974d1b54794772699 2010-01-04 02:28:00   \n",
              "215  05a03605a79eccfcd0c69490e250fb64 2010-01-04 02:33:00   \n",
              "\n",
              "                                                 Title  \\\n",
              "197                  steel sale jump  dec  firm demand   \n",
              "198                       petrobra  exit ongc ga block   \n",
              "199                 pe entri  help himadri fund expans   \n",
              "200                india inc top boss help   esop sale   \n",
              "202         infosi result may  make  impact  open bell   \n",
              "203                     today bet level crucial  nifti   \n",
              "206                 rise  lead price like  dent profit   \n",
              "207                     sector may  match co solo show   \n",
              "214         rupe seen  today basix forex financi solut   \n",
              "215  bond yield  remain rang bound fix incom canara...   \n",
              "\n",
              "                                               Article  \\\n",
              "197  NEW DELHI: India’s top steelmakers led by Stee...   \n",
              "198  NEW DELHI: Brazil’s Petrobras had decided to q...   \n",
              "199  MUMBAI: Private equity Bain Capital has bought...   \n",
              "200  NEW DELHI: The three months leading to Decembe...   \n",
              "202  MUMBAI: It’s a tradition that has been followe...   \n",
              "203  The Nifty opened the week on a positive note a...   \n",
              "206  One of the main factors that fuelled the marke...   \n",
              "207  As the new decade dawns, it may be pertinent t...   \n",
              "214  The rupee may remain in the 46.55-46.80 range ...   \n",
              "215  Bond yields will remain range-bound with a tra...   \n",
              "\n",
              "                                                  Link Sentiment  \n",
              "197  https://economictimes.indiatimes.com/industry/...  Positive  \n",
              "198  https://economictimes.indiatimes.com/industry/...  Positive  \n",
              "199  https://economictimes.indiatimes.com/markets/s...  Positive  \n",
              "200  https://economictimes.indiatimes.com/markets/s...  Positive  \n",
              "202  https://economictimes.indiatimes.com/markets/s...  Positive  \n",
              "203  https://economictimes.indiatimes.com/markets/s...  Positive  \n",
              "206  https://economictimes.indiatimes.com/markets/s...  Positive  \n",
              "207  https://economictimes.indiatimes.com/markets/s...  Positive  \n",
              "214  https://economictimes.indiatimes.com/markets/s...  Positive  \n",
              "215  https://economictimes.indiatimes.com/markets/s...  Positive  "
            ],
            "text/html": [
              "\n",
              "  <div id=\"df-3fbf92e2-e2f4-41ad-9483-68010d9ee740\">\n",
              "    <div class=\"colab-df-container\">\n",
              "      <div>\n",
              "<style scoped>\n",
              "    .dataframe tbody tr th:only-of-type {\n",
              "        vertical-align: middle;\n",
              "    }\n",
              "\n",
              "    .dataframe tbody tr th {\n",
              "        vertical-align: top;\n",
              "    }\n",
              "\n",
              "    .dataframe thead th {\n",
              "        text-align: right;\n",
              "    }\n",
              "</style>\n",
              "<table border=\"1\" class=\"dataframe\">\n",
              "  <thead>\n",
              "    <tr style=\"text-align: right;\">\n",
              "      <th></th>\n",
              "      <th>_id</th>\n",
              "      <th>Date</th>\n",
              "      <th>Title</th>\n",
              "      <th>Article</th>\n",
              "      <th>Link</th>\n",
              "      <th>Sentiment</th>\n",
              "    </tr>\n",
              "  </thead>\n",
              "  <tbody>\n",
              "    <tr>\n",
              "      <th>197</th>\n",
              "      <td>7ead28fb9f37e2bfd45f14be4fcc1a96</td>\n",
              "      <td>2010-01-04 00:35:00</td>\n",
              "      <td>steel sale jump  dec  firm demand</td>\n",
              "      <td>NEW DELHI: India’s top steelmakers led by Stee...</td>\n",
              "      <td>https://economictimes.indiatimes.com/industry/...</td>\n",
              "      <td>Positive</td>\n",
              "    </tr>\n",
              "    <tr>\n",
              "      <th>198</th>\n",
              "      <td>4ade1816abd1a174e77c33613c2dbb22</td>\n",
              "      <td>2010-01-04 00:40:00</td>\n",
              "      <td>petrobra  exit ongc ga block</td>\n",
              "      <td>NEW DELHI: Brazil’s Petrobras had decided to q...</td>\n",
              "      <td>https://economictimes.indiatimes.com/industry/...</td>\n",
              "      <td>Positive</td>\n",
              "    </tr>\n",
              "    <tr>\n",
              "      <th>199</th>\n",
              "      <td>5c6bb6fcfe3aa6a411881c960515b49c</td>\n",
              "      <td>2010-01-04 00:42:00</td>\n",
              "      <td>pe entri  help himadri fund expans</td>\n",
              "      <td>MUMBAI: Private equity Bain Capital has bought...</td>\n",
              "      <td>https://economictimes.indiatimes.com/markets/s...</td>\n",
              "      <td>Positive</td>\n",
              "    </tr>\n",
              "    <tr>\n",
              "      <th>200</th>\n",
              "      <td>ecc15c4a58383b385578927646a1ca74</td>\n",
              "      <td>2010-01-04 00:46:00</td>\n",
              "      <td>india inc top boss help   esop sale</td>\n",
              "      <td>NEW DELHI: The three months leading to Decembe...</td>\n",
              "      <td>https://economictimes.indiatimes.com/markets/s...</td>\n",
              "      <td>Positive</td>\n",
              "    </tr>\n",
              "    <tr>\n",
              "      <th>202</th>\n",
              "      <td>1aab1cae901738671d5b3d3b0b194c60</td>\n",
              "      <td>2010-01-04 00:48:00</td>\n",
              "      <td>infosi result may  make  impact  open bell</td>\n",
              "      <td>MUMBAI: It’s a tradition that has been followe...</td>\n",
              "      <td>https://economictimes.indiatimes.com/markets/s...</td>\n",
              "      <td>Positive</td>\n",
              "    </tr>\n",
              "    <tr>\n",
              "      <th>203</th>\n",
              "      <td>c2c1b154f9a18d4ab5ac177adb17c4e9</td>\n",
              "      <td>2010-01-04 01:04:00</td>\n",
              "      <td>today bet level crucial  nifti</td>\n",
              "      <td>The Nifty opened the week on a positive note a...</td>\n",
              "      <td>https://economictimes.indiatimes.com/markets/s...</td>\n",
              "      <td>Positive</td>\n",
              "    </tr>\n",
              "    <tr>\n",
              "      <th>206</th>\n",
              "      <td>035587192ae60e6c00e423cc332e3dfe</td>\n",
              "      <td>2010-01-04 01:19:00</td>\n",
              "      <td>rise  lead price like  dent profit</td>\n",
              "      <td>One of the main factors that fuelled the marke...</td>\n",
              "      <td>https://economictimes.indiatimes.com/markets/s...</td>\n",
              "      <td>Positive</td>\n",
              "    </tr>\n",
              "    <tr>\n",
              "      <th>207</th>\n",
              "      <td>98505d34ac6bbbc17886ad131f38c0bd</td>\n",
              "      <td>2010-01-04 01:23:00</td>\n",
              "      <td>sector may  match co solo show</td>\n",
              "      <td>As the new decade dawns, it may be pertinent t...</td>\n",
              "      <td>https://economictimes.indiatimes.com/markets/s...</td>\n",
              "      <td>Positive</td>\n",
              "    </tr>\n",
              "    <tr>\n",
              "      <th>214</th>\n",
              "      <td>37a5150021ad1b2974d1b54794772699</td>\n",
              "      <td>2010-01-04 02:28:00</td>\n",
              "      <td>rupe seen  today basix forex financi solut</td>\n",
              "      <td>The rupee may remain in the 46.55-46.80 range ...</td>\n",
              "      <td>https://economictimes.indiatimes.com/markets/s...</td>\n",
              "      <td>Positive</td>\n",
              "    </tr>\n",
              "    <tr>\n",
              "      <th>215</th>\n",
              "      <td>05a03605a79eccfcd0c69490e250fb64</td>\n",
              "      <td>2010-01-04 02:33:00</td>\n",
              "      <td>bond yield  remain rang bound fix incom canara...</td>\n",
              "      <td>Bond yields will remain range-bound with a tra...</td>\n",
              "      <td>https://economictimes.indiatimes.com/markets/s...</td>\n",
              "      <td>Positive</td>\n",
              "    </tr>\n",
              "  </tbody>\n",
              "</table>\n",
              "</div>\n",
              "      <button class=\"colab-df-convert\" onclick=\"convertToInteractive('df-3fbf92e2-e2f4-41ad-9483-68010d9ee740')\"\n",
              "              title=\"Convert this dataframe to an interactive table.\"\n",
              "              style=\"display:none;\">\n",
              "        \n",
              "  <svg xmlns=\"http://www.w3.org/2000/svg\" height=\"24px\"viewBox=\"0 0 24 24\"\n",
              "       width=\"24px\">\n",
              "    <path d=\"M0 0h24v24H0V0z\" fill=\"none\"/>\n",
              "    <path d=\"M18.56 5.44l.94 2.06.94-2.06 2.06-.94-2.06-.94-.94-2.06-.94 2.06-2.06.94zm-11 1L8.5 8.5l.94-2.06 2.06-.94-2.06-.94L8.5 2.5l-.94 2.06-2.06.94zm10 10l.94 2.06.94-2.06 2.06-.94-2.06-.94-.94-2.06-.94 2.06-2.06.94z\"/><path d=\"M17.41 7.96l-1.37-1.37c-.4-.4-.92-.59-1.43-.59-.52 0-1.04.2-1.43.59L10.3 9.45l-7.72 7.72c-.78.78-.78 2.05 0 2.83L4 21.41c.39.39.9.59 1.41.59.51 0 1.02-.2 1.41-.59l7.78-7.78 2.81-2.81c.8-.78.8-2.07 0-2.86zM5.41 20L4 18.59l7.72-7.72 1.47 1.35L5.41 20z\"/>\n",
              "  </svg>\n",
              "      </button>\n",
              "      \n",
              "  <style>\n",
              "    .colab-df-container {\n",
              "      display:flex;\n",
              "      flex-wrap:wrap;\n",
              "      gap: 12px;\n",
              "    }\n",
              "\n",
              "    .colab-df-convert {\n",
              "      background-color: #E8F0FE;\n",
              "      border: none;\n",
              "      border-radius: 50%;\n",
              "      cursor: pointer;\n",
              "      display: none;\n",
              "      fill: #1967D2;\n",
              "      height: 32px;\n",
              "      padding: 0 0 0 0;\n",
              "      width: 32px;\n",
              "    }\n",
              "\n",
              "    .colab-df-convert:hover {\n",
              "      background-color: #E2EBFA;\n",
              "      box-shadow: 0px 1px 2px rgba(60, 64, 67, 0.3), 0px 1px 3px 1px rgba(60, 64, 67, 0.15);\n",
              "      fill: #174EA6;\n",
              "    }\n",
              "\n",
              "    [theme=dark] .colab-df-convert {\n",
              "      background-color: #3B4455;\n",
              "      fill: #D2E3FC;\n",
              "    }\n",
              "\n",
              "    [theme=dark] .colab-df-convert:hover {\n",
              "      background-color: #434B5C;\n",
              "      box-shadow: 0px 1px 3px 1px rgba(0, 0, 0, 0.15);\n",
              "      filter: drop-shadow(0px 1px 2px rgba(0, 0, 0, 0.3));\n",
              "      fill: #FFFFFF;\n",
              "    }\n",
              "  </style>\n",
              "\n",
              "      <script>\n",
              "        const buttonEl =\n",
              "          document.querySelector('#df-3fbf92e2-e2f4-41ad-9483-68010d9ee740 button.colab-df-convert');\n",
              "        buttonEl.style.display =\n",
              "          google.colab.kernel.accessAllowed ? 'block' : 'none';\n",
              "\n",
              "        async function convertToInteractive(key) {\n",
              "          const element = document.querySelector('#df-3fbf92e2-e2f4-41ad-9483-68010d9ee740');\n",
              "          const dataTable =\n",
              "            await google.colab.kernel.invokeFunction('convertToInteractive',\n",
              "                                                     [key], {});\n",
              "          if (!dataTable) return;\n",
              "\n",
              "          const docLinkHtml = 'Like what you see? Visit the ' +\n",
              "            '<a target=\"_blank\" href=https://colab.research.google.com/notebooks/data_table.ipynb>data table notebook</a>'\n",
              "            + ' to learn more about interactive tables.';\n",
              "          element.innerHTML = '';\n",
              "          dataTable['output_type'] = 'display_data';\n",
              "          await google.colab.output.renderOutput(dataTable, element);\n",
              "          const docLink = document.createElement('div');\n",
              "          docLink.innerHTML = docLinkHtml;\n",
              "          element.appendChild(docLink);\n",
              "        }\n",
              "      </script>\n",
              "    </div>\n",
              "  </div>\n",
              "  "
            ]
          },
          "metadata": {},
          "execution_count": 9
        }
      ]
    },
    {
      "cell_type": "code",
      "source": [
        "temp=np.array(labelled_news['Sentiment'])"
      ],
      "metadata": {
        "id": "CvqSYavteh7o"
      },
      "execution_count": null,
      "outputs": []
    },
    {
      "cell_type": "code",
      "source": [
        "unique, counts = np.unique(temp, return_counts=True)\n",
        "dict(zip(unique, counts))"
      ],
      "metadata": {
        "colab": {
          "base_uri": "https://localhost:8080/"
        },
        "id": "4h-YpaK0eoQS",
        "outputId": "9a8fbcf6-9d36-469c-d120-f5f53274e6b8"
      },
      "execution_count": null,
      "outputs": [
        {
          "output_type": "execute_result",
          "data": {
            "text/plain": [
              "{'Negative': 128040, 'Positive': 251059}"
            ]
          },
          "metadata": {},
          "execution_count": 18
        }
      ]
    },
    {
      "cell_type": "code",
      "source": [
        "unique, counts = np.unique(temp, return_counts=True)\n",
        "dict(zip(unique, counts))"
      ],
      "metadata": {
        "colab": {
          "base_uri": "https://localhost:8080/"
        },
        "id": "jguBRbiQfDux",
        "outputId": "e6df506d-d772-45fb-c8d0-67462081cb90"
      },
      "execution_count": null,
      "outputs": [
        {
          "output_type": "execute_result",
          "data": {
            "text/plain": [
              "{'Negative': 157723, 'Positive': 221376}"
            ]
          },
          "metadata": {},
          "execution_count": 21
        }
      ]
    },
    {
      "cell_type": "code",
      "source": [
        "mes = []\n",
        "for i in labelled_news['Title']:\n",
        "    mes.append(i.split())\n",
        "print(mes[:2])"
      ],
      "metadata": {
        "colab": {
          "base_uri": "https://localhost:8080/"
        },
        "id": "hl_x6Gj9jQ2x",
        "outputId": "bc7057ca-bac6-4b7c-853d-a9cd1874eee4"
      },
      "execution_count": null,
      "outputs": [
        {
          "output_type": "stream",
          "name": "stdout",
          "text": [
            "[['Steel', 'sales', 'jump', '50%', 'in', 'Dec', 'on', 'firm', 'demand'], ['Petrobras', 'to', 'exit', 'ONGC’s', 'gas', 'block']]\n"
          ]
        }
      ]
    },
    {
      "cell_type": "code",
      "source": [
        "word2vec_model = Word2Vec(mes, size=300, window=3, min_count=1, workers=16)\n",
        "print(word2vec_model)"
      ],
      "metadata": {
        "colab": {
          "base_uri": "https://localhost:8080/"
        },
        "id": "vOCx-u1Oj5vr",
        "outputId": "6ca985e8-0b51-48bd-d2c1-51b2185ad74e"
      },
      "execution_count": null,
      "outputs": [
        {
          "output_type": "stream",
          "name": "stdout",
          "text": [
            "Word2Vec(vocab=127610, size=300, alpha=0.025)\n"
          ]
        }
      ]
    },
    {
      "cell_type": "code",
      "source": [
        "token = Tokenizer(127610)\n",
        "token.fit_on_texts(labelled_news['Title'])\n",
        "text = token.texts_to_sequences(labelled_news['Title'])\n",
        "text = pad_sequences(text, 30,padding='post')\n",
        "print(text[:2])"
      ],
      "metadata": {
        "colab": {
          "base_uri": "https://localhost:8080/"
        },
        "id": "TvtipglGkBe8",
        "outputId": "57df9e73-f1ec-4c7b-f892-10d774b05010"
      },
      "execution_count": null,
      "outputs": [
        {
          "output_type": "stream",
          "name": "stdout",
          "text": [
            "[[   65   338   414   193     2  1271     5   250    42     0     0     0\n",
            "      0     0     0     0     0     0     0     0     0     0     0     0\n",
            "      0     0     0     0     0     0]\n",
            " [19310     1   731  9685   127   702     0     0     0     0     0     0\n",
            "      0     0     0     0     0     0     0     0     0     0     0     0\n",
            "      0     0     0     0     0     0]]\n"
          ]
        }
      ]
    },
    {
      "cell_type": "code",
      "source": [
        "le = preprocessing.LabelEncoder()\n",
        "y = le.fit_transform(labelled_news['Sentiment'])\n",
        "y = to_categorical(y)\n",
        "y[:2]"
      ],
      "metadata": {
        "colab": {
          "base_uri": "https://localhost:8080/"
        },
        "id": "_oXUY_snktBz",
        "outputId": "9970f9df-9257-46da-dedf-b4194de27ff8"
      },
      "execution_count": null,
      "outputs": [
        {
          "output_type": "execute_result",
          "data": {
            "text/plain": [
              "array([[0., 1.],\n",
              "       [0., 1.]], dtype=float32)"
            ]
          },
          "metadata": {},
          "execution_count": 26
        }
      ]
    },
    {
      "cell_type": "code",
      "source": [
        "with open('/content/drive/MyDrive/ir_project/binaries/text', 'rb') as fileobj:\n",
        "  text= pickle.load(fileobj)\n"
      ],
      "metadata": {
        "id": "3YVhM_5i69_a"
      },
      "execution_count": null,
      "outputs": []
    },
    {
      "cell_type": "code",
      "source": [
        "with open('/content/drive/MyDrive/ir_project/binaries/y', 'rb') as fileobj:\n",
        "  y= pickle.load(fileobj)\n"
      ],
      "metadata": {
        "id": "SPEFmhQz7D2C"
      },
      "execution_count": null,
      "outputs": []
    },
    {
      "cell_type": "code",
      "source": [
        "with open('/content/drive/MyDrive/ir_project/binaries/word2vec_model_new', 'rb') as fileobj:\n",
        "  word2vec_model= pickle.load(fileobj)\n"
      ],
      "metadata": {
        "id": "pUznQj1c7SgQ"
      },
      "execution_count": null,
      "outputs": []
    },
    {
      "cell_type": "code",
      "source": [
        "x_train, x_test, y_train, y_test = train_test_split(np.array(text), y, test_size=0.2, stratify=y)"
      ],
      "metadata": {
        "id": "_h4D3WCvk0Or"
      },
      "execution_count": null,
      "outputs": []
    },
    {
      "cell_type": "code",
      "source": [
        "keras_model = Sequential()\n",
        "keras_model.add(word2vec_model.wv.get_keras_embedding(True))\n",
        "#keras_model.add(Dropout(0.2))\n",
        "keras_model.add(Conv1D(300, 3, activation='tanh', padding='same', strides=1))\n",
        "keras_model.add(Conv1D(300, 3, activation='tanh', padding='same', strides=1))\n",
        "keras_model.add(MaxPool1D())\n",
        "keras_model.add(Dropout(0.2))\n",
        "keras_model.add(Conv1D(200, 3, activation='tanh', padding='same', strides=1))\n",
        "keras_model.add(Conv1D(200, 3, activation='tanh', padding='same', strides=1))\n",
        "keras_model.add(MaxPool1D())\n",
        "keras_model.add(Dropout(0.2))\n",
        "keras_model.add(Conv1D(100, 3, activation='tanh', padding='same', strides=1))\n",
        "keras_model.add(Conv1D(100, 3, activation='tanh', padding='same', strides=1))\n",
        "keras_model.add(GlobalMaxPool1D())\n",
        "keras_model.add(Dropout(0.2))\n",
        "keras_model.add(Dense(100))\n",
        "keras_model.add(Activation('tanh'))\n",
        "keras_model.add(Dropout(0.2))\n",
        "keras_model.add(Dense(2))\n",
        "keras_model.add(Activation('softmax'))"
      ],
      "metadata": {
        "id": "Xew1YtKwlAux"
      },
      "execution_count": null,
      "outputs": []
    },
    {
      "cell_type": "code",
      "source": [
        "opt = tf.optimizers.Adam()\n",
        "keras_model.compile(loss='binary_crossentropy', metrics=['acc'], optimizer=opt)\n",
        "\n",
        "for i in range(15):\n",
        "#keras_model.fit(x_train, y_train, batch_size=16, epochs=3, validation_data=(x_test, y_test))\n",
        "  history = keras_model.fit(\n",
        "      x_train, \n",
        "      y_train, \n",
        "      epochs=3, \n",
        "      batch_size=32,\n",
        "      validation_data = (x_test,y_test)\n",
        "  )\n",
        "  with open('/content/drive/MyDrive/ir_project/binaries/keras_model4', 'wb') as fileobj:\n",
        "    pickle.dump(keras_model, fileobj)"
      ],
      "metadata": {
        "colab": {
          "base_uri": "https://localhost:8080/",
          "height": 234
        },
        "id": "9ykpAQx3lPcZ",
        "outputId": "1b591482-dfa7-48bf-f624-a277d0063820"
      },
      "execution_count": null,
      "outputs": [
        {
          "output_type": "error",
          "ename": "NameError",
          "evalue": "ignored",
          "traceback": [
            "\u001b[0;31m---------------------------------------------------------------------------\u001b[0m",
            "\u001b[0;31mNameError\u001b[0m                                 Traceback (most recent call last)",
            "\u001b[0;32m<ipython-input-12-736a663e301f>\u001b[0m in \u001b[0;36m<module>\u001b[0;34m()\u001b[0m\n\u001b[1;32m      1\u001b[0m \u001b[0mopt\u001b[0m \u001b[0;34m=\u001b[0m \u001b[0mtf\u001b[0m\u001b[0;34m.\u001b[0m\u001b[0moptimizers\u001b[0m\u001b[0;34m.\u001b[0m\u001b[0mAdam\u001b[0m\u001b[0;34m(\u001b[0m\u001b[0;34m)\u001b[0m\u001b[0;34m\u001b[0m\u001b[0;34m\u001b[0m\u001b[0m\n\u001b[0;32m----> 2\u001b[0;31m \u001b[0mkeras_model\u001b[0m\u001b[0;34m.\u001b[0m\u001b[0mcompile\u001b[0m\u001b[0;34m(\u001b[0m\u001b[0mloss\u001b[0m\u001b[0;34m=\u001b[0m\u001b[0;34m'binary_crossentropy'\u001b[0m\u001b[0;34m,\u001b[0m \u001b[0mmetrics\u001b[0m\u001b[0;34m=\u001b[0m\u001b[0;34m[\u001b[0m\u001b[0;34m'acc'\u001b[0m\u001b[0;34m]\u001b[0m\u001b[0;34m,\u001b[0m \u001b[0moptimizer\u001b[0m\u001b[0;34m=\u001b[0m\u001b[0mopt\u001b[0m\u001b[0;34m)\u001b[0m\u001b[0;34m\u001b[0m\u001b[0;34m\u001b[0m\u001b[0m\n\u001b[0m\u001b[1;32m      3\u001b[0m \u001b[0;34m\u001b[0m\u001b[0m\n\u001b[1;32m      4\u001b[0m \u001b[0;32mfor\u001b[0m \u001b[0mi\u001b[0m \u001b[0;32min\u001b[0m \u001b[0mrange\u001b[0m\u001b[0;34m(\u001b[0m\u001b[0;36m15\u001b[0m\u001b[0;34m)\u001b[0m\u001b[0;34m:\u001b[0m\u001b[0;34m\u001b[0m\u001b[0;34m\u001b[0m\u001b[0m\n\u001b[1;32m      5\u001b[0m \u001b[0;31m#keras_model.fit(x_train, y_train, batch_size=16, epochs=3, validation_data=(x_test, y_test))\u001b[0m\u001b[0;34m\u001b[0m\u001b[0;34m\u001b[0m\u001b[0;34m\u001b[0m\u001b[0m\n",
            "\u001b[0;31mNameError\u001b[0m: name 'keras_model' is not defined"
          ]
        }
      ]
    },
    {
      "cell_type": "code",
      "source": [
        "y_p=keras_model.predict(x_test)"
      ],
      "metadata": {
        "id": "Lkxgz-dCsovy"
      },
      "execution_count": null,
      "outputs": []
    },
    {
      "cell_type": "code",
      "source": [
        "c=0\n",
        "for i in range(len(y_p)):\n",
        "  if(y_p[i][0]>y_p[i][1]):\n",
        "    c+=1\n",
        "print(c,len(x_test)-c)"
      ],
      "metadata": {
        "colab": {
          "base_uri": "https://localhost:8080/"
        },
        "id": "a_QxKIUItRJj",
        "outputId": "af0519bf-cb87-412e-f655-b94f1d67a0e0"
      },
      "execution_count": null,
      "outputs": [
        {
          "output_type": "stream",
          "name": "stdout",
          "text": [
            "587 75233\n"
          ]
        }
      ]
    },
    {
      "cell_type": "markdown",
      "source": [
        "#LSTM for Nifty50 Prediction"
      ],
      "metadata": {
        "id": "tDGcdtEzRpHl"
      }
    },
    {
      "cell_type": "code",
      "source": [
        "with open('/content/drive/MyDrive/ir_project/binaries/labelled_news_binary_new', 'rb') as fileobj:\n",
        "  labelled_news= pickle.load(fileobj)"
      ],
      "metadata": {
        "id": "iBtQUDatRmV_"
      },
      "execution_count": null,
      "outputs": []
    },
    {
      "cell_type": "code",
      "source": [
        "#get labelled data\n",
        "with open('/content/drive/MyDrive/ir_project/binaries/stock_data_with_indicators', 'rb') as fileobj:\n",
        "  df_technical_indicators= pickle.load(fileobj)"
      ],
      "metadata": {
        "id": "lt2v0PSmPNIt"
      },
      "execution_count": null,
      "outputs": []
    },
    {
      "cell_type": "code",
      "source": [
        "df_technical_indicators['Sentiment']=0"
      ],
      "metadata": {
        "id": "WInViOPePY10"
      },
      "execution_count": null,
      "outputs": []
    },
    {
      "cell_type": "code",
      "source": [
        "df_technical_indicators.head()"
      ],
      "metadata": {
        "colab": {
          "base_uri": "https://localhost:8080/",
          "height": 354
        },
        "id": "ABEaSdbUPgvV",
        "outputId": "084f27cb-bb2b-4971-8cee-9bf49b8f9761"
      },
      "execution_count": null,
      "outputs": [
        {
          "output_type": "execute_result",
          "data": {
            "text/plain": [
              "   Unnamed: 0       Date     Open     High      Low    Close  Shares Traded  \\\n",
              "0           0 2010-01-04  5200.90  5238.45  5167.10  5232.20      148652424   \n",
              "1           1 2010-01-05  5277.15  5288.35  5242.40  5277.90      240844424   \n",
              "2           2 2010-01-06  5278.15  5310.85  5260.05  5281.80      216147837   \n",
              "3           3 2010-01-07  5281.80  5302.55  5244.75  5263.10      181246734   \n",
              "4           4 2010-01-08  5264.25  5276.75  5234.70  5244.75      201910800   \n",
              "\n",
              "   Turnover (Rs. Cr)  Sochastic oscillator index  William index  \\\n",
              "0            6531.61                         0.0            0.0   \n",
              "1            7969.62                         0.0            0.0   \n",
              "2            7892.60                         0.0            0.0   \n",
              "3            6890.99                         0.0            0.0   \n",
              "4            7777.04                         0.0            0.0   \n",
              "\n",
              "   Relative Strength Index  Sentiment  \n",
              "0                 0.000000          0  \n",
              "1               100.000000          0  \n",
              "2               100.000000          0  \n",
              "3                92.725757          0  \n",
              "4                85.597397          0  "
            ],
            "text/html": [
              "\n",
              "  <div id=\"df-97a3e0a4-8929-4d52-bf62-482726e8f32a\">\n",
              "    <div class=\"colab-df-container\">\n",
              "      <div>\n",
              "<style scoped>\n",
              "    .dataframe tbody tr th:only-of-type {\n",
              "        vertical-align: middle;\n",
              "    }\n",
              "\n",
              "    .dataframe tbody tr th {\n",
              "        vertical-align: top;\n",
              "    }\n",
              "\n",
              "    .dataframe thead th {\n",
              "        text-align: right;\n",
              "    }\n",
              "</style>\n",
              "<table border=\"1\" class=\"dataframe\">\n",
              "  <thead>\n",
              "    <tr style=\"text-align: right;\">\n",
              "      <th></th>\n",
              "      <th>Unnamed: 0</th>\n",
              "      <th>Date</th>\n",
              "      <th>Open</th>\n",
              "      <th>High</th>\n",
              "      <th>Low</th>\n",
              "      <th>Close</th>\n",
              "      <th>Shares Traded</th>\n",
              "      <th>Turnover (Rs. Cr)</th>\n",
              "      <th>Sochastic oscillator index</th>\n",
              "      <th>William index</th>\n",
              "      <th>Relative Strength Index</th>\n",
              "      <th>Sentiment</th>\n",
              "    </tr>\n",
              "  </thead>\n",
              "  <tbody>\n",
              "    <tr>\n",
              "      <th>0</th>\n",
              "      <td>0</td>\n",
              "      <td>2010-01-04</td>\n",
              "      <td>5200.90</td>\n",
              "      <td>5238.45</td>\n",
              "      <td>5167.10</td>\n",
              "      <td>5232.20</td>\n",
              "      <td>148652424</td>\n",
              "      <td>6531.61</td>\n",
              "      <td>0.0</td>\n",
              "      <td>0.0</td>\n",
              "      <td>0.000000</td>\n",
              "      <td>0</td>\n",
              "    </tr>\n",
              "    <tr>\n",
              "      <th>1</th>\n",
              "      <td>1</td>\n",
              "      <td>2010-01-05</td>\n",
              "      <td>5277.15</td>\n",
              "      <td>5288.35</td>\n",
              "      <td>5242.40</td>\n",
              "      <td>5277.90</td>\n",
              "      <td>240844424</td>\n",
              "      <td>7969.62</td>\n",
              "      <td>0.0</td>\n",
              "      <td>0.0</td>\n",
              "      <td>100.000000</td>\n",
              "      <td>0</td>\n",
              "    </tr>\n",
              "    <tr>\n",
              "      <th>2</th>\n",
              "      <td>2</td>\n",
              "      <td>2010-01-06</td>\n",
              "      <td>5278.15</td>\n",
              "      <td>5310.85</td>\n",
              "      <td>5260.05</td>\n",
              "      <td>5281.80</td>\n",
              "      <td>216147837</td>\n",
              "      <td>7892.60</td>\n",
              "      <td>0.0</td>\n",
              "      <td>0.0</td>\n",
              "      <td>100.000000</td>\n",
              "      <td>0</td>\n",
              "    </tr>\n",
              "    <tr>\n",
              "      <th>3</th>\n",
              "      <td>3</td>\n",
              "      <td>2010-01-07</td>\n",
              "      <td>5281.80</td>\n",
              "      <td>5302.55</td>\n",
              "      <td>5244.75</td>\n",
              "      <td>5263.10</td>\n",
              "      <td>181246734</td>\n",
              "      <td>6890.99</td>\n",
              "      <td>0.0</td>\n",
              "      <td>0.0</td>\n",
              "      <td>92.725757</td>\n",
              "      <td>0</td>\n",
              "    </tr>\n",
              "    <tr>\n",
              "      <th>4</th>\n",
              "      <td>4</td>\n",
              "      <td>2010-01-08</td>\n",
              "      <td>5264.25</td>\n",
              "      <td>5276.75</td>\n",
              "      <td>5234.70</td>\n",
              "      <td>5244.75</td>\n",
              "      <td>201910800</td>\n",
              "      <td>7777.04</td>\n",
              "      <td>0.0</td>\n",
              "      <td>0.0</td>\n",
              "      <td>85.597397</td>\n",
              "      <td>0</td>\n",
              "    </tr>\n",
              "  </tbody>\n",
              "</table>\n",
              "</div>\n",
              "      <button class=\"colab-df-convert\" onclick=\"convertToInteractive('df-97a3e0a4-8929-4d52-bf62-482726e8f32a')\"\n",
              "              title=\"Convert this dataframe to an interactive table.\"\n",
              "              style=\"display:none;\">\n",
              "        \n",
              "  <svg xmlns=\"http://www.w3.org/2000/svg\" height=\"24px\"viewBox=\"0 0 24 24\"\n",
              "       width=\"24px\">\n",
              "    <path d=\"M0 0h24v24H0V0z\" fill=\"none\"/>\n",
              "    <path d=\"M18.56 5.44l.94 2.06.94-2.06 2.06-.94-2.06-.94-.94-2.06-.94 2.06-2.06.94zm-11 1L8.5 8.5l.94-2.06 2.06-.94-2.06-.94L8.5 2.5l-.94 2.06-2.06.94zm10 10l.94 2.06.94-2.06 2.06-.94-2.06-.94-.94-2.06-.94 2.06-2.06.94z\"/><path d=\"M17.41 7.96l-1.37-1.37c-.4-.4-.92-.59-1.43-.59-.52 0-1.04.2-1.43.59L10.3 9.45l-7.72 7.72c-.78.78-.78 2.05 0 2.83L4 21.41c.39.39.9.59 1.41.59.51 0 1.02-.2 1.41-.59l7.78-7.78 2.81-2.81c.8-.78.8-2.07 0-2.86zM5.41 20L4 18.59l7.72-7.72 1.47 1.35L5.41 20z\"/>\n",
              "  </svg>\n",
              "      </button>\n",
              "      \n",
              "  <style>\n",
              "    .colab-df-container {\n",
              "      display:flex;\n",
              "      flex-wrap:wrap;\n",
              "      gap: 12px;\n",
              "    }\n",
              "\n",
              "    .colab-df-convert {\n",
              "      background-color: #E8F0FE;\n",
              "      border: none;\n",
              "      border-radius: 50%;\n",
              "      cursor: pointer;\n",
              "      display: none;\n",
              "      fill: #1967D2;\n",
              "      height: 32px;\n",
              "      padding: 0 0 0 0;\n",
              "      width: 32px;\n",
              "    }\n",
              "\n",
              "    .colab-df-convert:hover {\n",
              "      background-color: #E2EBFA;\n",
              "      box-shadow: 0px 1px 2px rgba(60, 64, 67, 0.3), 0px 1px 3px 1px rgba(60, 64, 67, 0.15);\n",
              "      fill: #174EA6;\n",
              "    }\n",
              "\n",
              "    [theme=dark] .colab-df-convert {\n",
              "      background-color: #3B4455;\n",
              "      fill: #D2E3FC;\n",
              "    }\n",
              "\n",
              "    [theme=dark] .colab-df-convert:hover {\n",
              "      background-color: #434B5C;\n",
              "      box-shadow: 0px 1px 3px 1px rgba(0, 0, 0, 0.15);\n",
              "      filter: drop-shadow(0px 1px 2px rgba(0, 0, 0, 0.3));\n",
              "      fill: #FFFFFF;\n",
              "    }\n",
              "  </style>\n",
              "\n",
              "      <script>\n",
              "        const buttonEl =\n",
              "          document.querySelector('#df-97a3e0a4-8929-4d52-bf62-482726e8f32a button.colab-df-convert');\n",
              "        buttonEl.style.display =\n",
              "          google.colab.kernel.accessAllowed ? 'block' : 'none';\n",
              "\n",
              "        async function convertToInteractive(key) {\n",
              "          const element = document.querySelector('#df-97a3e0a4-8929-4d52-bf62-482726e8f32a');\n",
              "          const dataTable =\n",
              "            await google.colab.kernel.invokeFunction('convertToInteractive',\n",
              "                                                     [key], {});\n",
              "          if (!dataTable) return;\n",
              "\n",
              "          const docLinkHtml = 'Like what you see? Visit the ' +\n",
              "            '<a target=\"_blank\" href=https://colab.research.google.com/notebooks/data_table.ipynb>data table notebook</a>'\n",
              "            + ' to learn more about interactive tables.';\n",
              "          element.innerHTML = '';\n",
              "          dataTable['output_type'] = 'display_data';\n",
              "          await google.colab.output.renderOutput(dataTable, element);\n",
              "          const docLink = document.createElement('div');\n",
              "          docLink.innerHTML = docLinkHtml;\n",
              "          element.appendChild(docLink);\n",
              "        }\n",
              "      </script>\n",
              "    </div>\n",
              "  </div>\n",
              "  "
            ]
          },
          "metadata": {},
          "execution_count": 10
        }
      ]
    },
    {
      "cell_type": "code",
      "source": [
        "sentiment=''\n",
        "for ind in range(len(df_technical_indicators)):\n",
        "  #pc=df_nifty['Close'][ind+1]-df_nifty['Close'][ind]\n",
        "  #pc=(c/df_nifty['Close'][ind])*100\n",
        "  #if(pc>0):\n",
        "  #  sentiment=\"Positive\"\n",
        "  #else:\n",
        "  #  sentiment=\"Negative\"\n",
        "  # elif(pc>-.5):\n",
        "  #   sentiment=\"Neutral\"\n",
        "  # elif(pc>-1.5):\n",
        "  #   sentiment=\"Negative\"\n",
        "  # else:\n",
        "  #   sentiment=\"Extreme Negative\"\n",
        "  df_temp = labelled_news[(df_technical_indicators['Date'][ind] >= labelled_news['Date'])&(df_technical_indicators['Date'][ind] < labelled_news['Date']+datetime.timedelta(days=1))]\n",
        "  np=0\n",
        "  nn=0\n",
        "  print(len(df_temp))\n",
        "  if len(df_temp)!=0:\n",
        "    for i in range(len(df_temp)):\n",
        "      if df_temp['Sentiment'][i]=='Positive':\n",
        "        np+=1\n",
        "      else:\n",
        "        nn+=1\n",
        "    df_technical_indicators['Sentiment'][ind]=(np-nn)/(np+nn)"
      ],
      "metadata": {
        "colab": {
          "base_uri": "https://localhost:8080/",
          "height": 536
        },
        "id": "nSrUIs-TPmGX",
        "outputId": "3ff10a0e-3624-4af9-e8dd-7793b2f35c9d"
      },
      "execution_count": null,
      "outputs": [
        {
          "output_type": "stream",
          "name": "stdout",
          "text": [
            "0\n",
            "50\n"
          ]
        },
        {
          "output_type": "error",
          "ename": "KeyError",
          "evalue": "ignored",
          "traceback": [
            "\u001b[0;31m---------------------------------------------------------------------------\u001b[0m",
            "\u001b[0;31mKeyError\u001b[0m                                  Traceback (most recent call last)",
            "\u001b[0;32m/usr/local/lib/python3.7/dist-packages/pandas/core/indexes/base.py\u001b[0m in \u001b[0;36mget_loc\u001b[0;34m(self, key, method, tolerance)\u001b[0m\n\u001b[1;32m   3360\u001b[0m             \u001b[0;32mtry\u001b[0m\u001b[0;34m:\u001b[0m\u001b[0;34m\u001b[0m\u001b[0;34m\u001b[0m\u001b[0m\n\u001b[0;32m-> 3361\u001b[0;31m                 \u001b[0;32mreturn\u001b[0m \u001b[0mself\u001b[0m\u001b[0;34m.\u001b[0m\u001b[0m_engine\u001b[0m\u001b[0;34m.\u001b[0m\u001b[0mget_loc\u001b[0m\u001b[0;34m(\u001b[0m\u001b[0mcasted_key\u001b[0m\u001b[0;34m)\u001b[0m\u001b[0;34m\u001b[0m\u001b[0;34m\u001b[0m\u001b[0m\n\u001b[0m\u001b[1;32m   3362\u001b[0m             \u001b[0;32mexcept\u001b[0m \u001b[0mKeyError\u001b[0m \u001b[0;32mas\u001b[0m \u001b[0merr\u001b[0m\u001b[0;34m:\u001b[0m\u001b[0;34m\u001b[0m\u001b[0;34m\u001b[0m\u001b[0m\n",
            "\u001b[0;32m/usr/local/lib/python3.7/dist-packages/pandas/_libs/index.pyx\u001b[0m in \u001b[0;36mpandas._libs.index.IndexEngine.get_loc\u001b[0;34m()\u001b[0m\n",
            "\u001b[0;32m/usr/local/lib/python3.7/dist-packages/pandas/_libs/index.pyx\u001b[0m in \u001b[0;36mpandas._libs.index.IndexEngine.get_loc\u001b[0;34m()\u001b[0m\n",
            "\u001b[0;32mpandas/_libs/hashtable_class_helper.pxi\u001b[0m in \u001b[0;36mpandas._libs.hashtable.Int64HashTable.get_item\u001b[0;34m()\u001b[0m\n",
            "\u001b[0;32mpandas/_libs/hashtable_class_helper.pxi\u001b[0m in \u001b[0;36mpandas._libs.hashtable.Int64HashTable.get_item\u001b[0;34m()\u001b[0m\n",
            "\u001b[0;31mKeyError\u001b[0m: 0",
            "\nThe above exception was the direct cause of the following exception:\n",
            "\u001b[0;31mKeyError\u001b[0m                                  Traceback (most recent call last)",
            "\u001b[0;32m<ipython-input-30-4e440ab9a988>\u001b[0m in \u001b[0;36m<module>\u001b[0;34m()\u001b[0m\n\u001b[1;32m     19\u001b[0m   \u001b[0;32mif\u001b[0m \u001b[0mlen\u001b[0m\u001b[0;34m(\u001b[0m\u001b[0mdf_temp\u001b[0m\u001b[0;34m)\u001b[0m\u001b[0;34m!=\u001b[0m\u001b[0;36m0\u001b[0m\u001b[0;34m:\u001b[0m\u001b[0;34m\u001b[0m\u001b[0;34m\u001b[0m\u001b[0m\n\u001b[1;32m     20\u001b[0m     \u001b[0;32mfor\u001b[0m \u001b[0mi\u001b[0m \u001b[0;32min\u001b[0m \u001b[0mrange\u001b[0m\u001b[0;34m(\u001b[0m\u001b[0mlen\u001b[0m\u001b[0;34m(\u001b[0m\u001b[0mdf_temp\u001b[0m\u001b[0;34m)\u001b[0m\u001b[0;34m)\u001b[0m\u001b[0;34m:\u001b[0m\u001b[0;34m\u001b[0m\u001b[0;34m\u001b[0m\u001b[0m\n\u001b[0;32m---> 21\u001b[0;31m       \u001b[0;32mif\u001b[0m \u001b[0mdf_temp\u001b[0m\u001b[0;34m[\u001b[0m\u001b[0;34m'Sentiment'\u001b[0m\u001b[0;34m]\u001b[0m\u001b[0;34m[\u001b[0m\u001b[0mi\u001b[0m\u001b[0;34m]\u001b[0m\u001b[0;34m==\u001b[0m\u001b[0;34m'Positive'\u001b[0m\u001b[0;34m:\u001b[0m\u001b[0;34m\u001b[0m\u001b[0;34m\u001b[0m\u001b[0m\n\u001b[0m\u001b[1;32m     22\u001b[0m         \u001b[0mnp\u001b[0m\u001b[0;34m+=\u001b[0m\u001b[0;36m1\u001b[0m\u001b[0;34m\u001b[0m\u001b[0;34m\u001b[0m\u001b[0m\n\u001b[1;32m     23\u001b[0m       \u001b[0;32melse\u001b[0m\u001b[0;34m:\u001b[0m\u001b[0;34m\u001b[0m\u001b[0;34m\u001b[0m\u001b[0m\n",
            "\u001b[0;32m/usr/local/lib/python3.7/dist-packages/pandas/core/series.py\u001b[0m in \u001b[0;36m__getitem__\u001b[0;34m(self, key)\u001b[0m\n\u001b[1;32m    940\u001b[0m \u001b[0;34m\u001b[0m\u001b[0m\n\u001b[1;32m    941\u001b[0m         \u001b[0;32melif\u001b[0m \u001b[0mkey_is_scalar\u001b[0m\u001b[0;34m:\u001b[0m\u001b[0;34m\u001b[0m\u001b[0;34m\u001b[0m\u001b[0m\n\u001b[0;32m--> 942\u001b[0;31m             \u001b[0;32mreturn\u001b[0m \u001b[0mself\u001b[0m\u001b[0;34m.\u001b[0m\u001b[0m_get_value\u001b[0m\u001b[0;34m(\u001b[0m\u001b[0mkey\u001b[0m\u001b[0;34m)\u001b[0m\u001b[0;34m\u001b[0m\u001b[0;34m\u001b[0m\u001b[0m\n\u001b[0m\u001b[1;32m    943\u001b[0m \u001b[0;34m\u001b[0m\u001b[0m\n\u001b[1;32m    944\u001b[0m         \u001b[0;32mif\u001b[0m \u001b[0mis_hashable\u001b[0m\u001b[0;34m(\u001b[0m\u001b[0mkey\u001b[0m\u001b[0;34m)\u001b[0m\u001b[0;34m:\u001b[0m\u001b[0;34m\u001b[0m\u001b[0;34m\u001b[0m\u001b[0m\n",
            "\u001b[0;32m/usr/local/lib/python3.7/dist-packages/pandas/core/series.py\u001b[0m in \u001b[0;36m_get_value\u001b[0;34m(self, label, takeable)\u001b[0m\n\u001b[1;32m   1049\u001b[0m \u001b[0;34m\u001b[0m\u001b[0m\n\u001b[1;32m   1050\u001b[0m         \u001b[0;31m# Similar to Index.get_value, but we do not fall back to positional\u001b[0m\u001b[0;34m\u001b[0m\u001b[0;34m\u001b[0m\u001b[0;34m\u001b[0m\u001b[0m\n\u001b[0;32m-> 1051\u001b[0;31m         \u001b[0mloc\u001b[0m \u001b[0;34m=\u001b[0m \u001b[0mself\u001b[0m\u001b[0;34m.\u001b[0m\u001b[0mindex\u001b[0m\u001b[0;34m.\u001b[0m\u001b[0mget_loc\u001b[0m\u001b[0;34m(\u001b[0m\u001b[0mlabel\u001b[0m\u001b[0;34m)\u001b[0m\u001b[0;34m\u001b[0m\u001b[0;34m\u001b[0m\u001b[0m\n\u001b[0m\u001b[1;32m   1052\u001b[0m         \u001b[0;32mreturn\u001b[0m \u001b[0mself\u001b[0m\u001b[0;34m.\u001b[0m\u001b[0mindex\u001b[0m\u001b[0;34m.\u001b[0m\u001b[0m_get_values_for_loc\u001b[0m\u001b[0;34m(\u001b[0m\u001b[0mself\u001b[0m\u001b[0;34m,\u001b[0m \u001b[0mloc\u001b[0m\u001b[0;34m,\u001b[0m \u001b[0mlabel\u001b[0m\u001b[0;34m)\u001b[0m\u001b[0;34m\u001b[0m\u001b[0;34m\u001b[0m\u001b[0m\n\u001b[1;32m   1053\u001b[0m \u001b[0;34m\u001b[0m\u001b[0m\n",
            "\u001b[0;32m/usr/local/lib/python3.7/dist-packages/pandas/core/indexes/base.py\u001b[0m in \u001b[0;36mget_loc\u001b[0;34m(self, key, method, tolerance)\u001b[0m\n\u001b[1;32m   3361\u001b[0m                 \u001b[0;32mreturn\u001b[0m \u001b[0mself\u001b[0m\u001b[0;34m.\u001b[0m\u001b[0m_engine\u001b[0m\u001b[0;34m.\u001b[0m\u001b[0mget_loc\u001b[0m\u001b[0;34m(\u001b[0m\u001b[0mcasted_key\u001b[0m\u001b[0;34m)\u001b[0m\u001b[0;34m\u001b[0m\u001b[0;34m\u001b[0m\u001b[0m\n\u001b[1;32m   3362\u001b[0m             \u001b[0;32mexcept\u001b[0m \u001b[0mKeyError\u001b[0m \u001b[0;32mas\u001b[0m \u001b[0merr\u001b[0m\u001b[0;34m:\u001b[0m\u001b[0;34m\u001b[0m\u001b[0;34m\u001b[0m\u001b[0m\n\u001b[0;32m-> 3363\u001b[0;31m                 \u001b[0;32mraise\u001b[0m \u001b[0mKeyError\u001b[0m\u001b[0;34m(\u001b[0m\u001b[0mkey\u001b[0m\u001b[0;34m)\u001b[0m \u001b[0;32mfrom\u001b[0m \u001b[0merr\u001b[0m\u001b[0;34m\u001b[0m\u001b[0;34m\u001b[0m\u001b[0m\n\u001b[0m\u001b[1;32m   3364\u001b[0m \u001b[0;34m\u001b[0m\u001b[0m\n\u001b[1;32m   3365\u001b[0m         \u001b[0;32mif\u001b[0m \u001b[0mis_scalar\u001b[0m\u001b[0;34m(\u001b[0m\u001b[0mkey\u001b[0m\u001b[0;34m)\u001b[0m \u001b[0;32mand\u001b[0m \u001b[0misna\u001b[0m\u001b[0;34m(\u001b[0m\u001b[0mkey\u001b[0m\u001b[0;34m)\u001b[0m \u001b[0;32mand\u001b[0m \u001b[0;32mnot\u001b[0m \u001b[0mself\u001b[0m\u001b[0;34m.\u001b[0m\u001b[0mhasnans\u001b[0m\u001b[0;34m:\u001b[0m\u001b[0;34m\u001b[0m\u001b[0;34m\u001b[0m\u001b[0m\n",
            "\u001b[0;31mKeyError\u001b[0m: 0"
          ]
        }
      ]
    },
    {
      "cell_type": "code",
      "source": [
        "df_temp = labelled_news[(df_technical_indicators['Date'][3] >= labelled_news['Date'])&(df_technical_indicators['Date'][3] < labelled_news['Date']+datetime.timedelta(days=1))]"
      ],
      "metadata": {
        "id": "CbOhFW-xamAi"
      },
      "execution_count": null,
      "outputs": []
    },
    {
      "cell_type": "code",
      "source": [
        "np=0\n",
        "nn=0\n",
        "for i in df_temp.index:\n",
        "      if df_temp['Sentiment'][i]=='Positive':\n",
        "        np+=1\n",
        "      else:\n",
        "        nn+=1"
      ],
      "metadata": {
        "id": "OcPo8YVJeQ7C"
      },
      "execution_count": null,
      "outputs": []
    },
    {
      "cell_type": "code",
      "source": [
        "nn"
      ],
      "metadata": {
        "colab": {
          "base_uri": "https://localhost:8080/"
        },
        "id": "tAcrFD0Le5bi",
        "outputId": "7239b253-a1d0-4fa6-aaf6-5ce956d8248b"
      },
      "execution_count": null,
      "outputs": [
        {
          "output_type": "execute_result",
          "data": {
            "text/plain": [
              "47"
            ]
          },
          "metadata": {},
          "execution_count": 40
        }
      ]
    },
    {
      "cell_type": "code",
      "source": [
        "len(df_temp)"
      ],
      "metadata": {
        "colab": {
          "base_uri": "https://localhost:8080/"
        },
        "id": "8DqyZo9fenlH",
        "outputId": "96227417-0b41-4d52-9ba2-270730b7a74b"
      },
      "execution_count": null,
      "outputs": [
        {
          "output_type": "execute_result",
          "data": {
            "text/plain": [
              "47"
            ]
          },
          "metadata": {},
          "execution_count": 36
        }
      ]
    },
    {
      "cell_type": "code",
      "source": [
        "df_temp['Sentiment']"
      ],
      "metadata": {
        "colab": {
          "base_uri": "https://localhost:8080/",
          "height": 502
        },
        "id": "ohjpw-E5eeHe",
        "outputId": "8e63a88a-68a9-4f8f-d593-794bfec15432"
      },
      "execution_count": null,
      "outputs": [
        {
          "output_type": "error",
          "ename": "KeyError",
          "evalue": "ignored",
          "traceback": [
            "\u001b[0;31m---------------------------------------------------------------------------\u001b[0m",
            "\u001b[0;31mKeyError\u001b[0m                                  Traceback (most recent call last)",
            "\u001b[0;32m/usr/local/lib/python3.7/dist-packages/pandas/core/indexes/base.py\u001b[0m in \u001b[0;36mget_loc\u001b[0;34m(self, key, method, tolerance)\u001b[0m\n\u001b[1;32m   3360\u001b[0m             \u001b[0;32mtry\u001b[0m\u001b[0;34m:\u001b[0m\u001b[0;34m\u001b[0m\u001b[0;34m\u001b[0m\u001b[0m\n\u001b[0;32m-> 3361\u001b[0;31m                 \u001b[0;32mreturn\u001b[0m \u001b[0mself\u001b[0m\u001b[0;34m.\u001b[0m\u001b[0m_engine\u001b[0m\u001b[0;34m.\u001b[0m\u001b[0mget_loc\u001b[0m\u001b[0;34m(\u001b[0m\u001b[0mcasted_key\u001b[0m\u001b[0;34m)\u001b[0m\u001b[0;34m\u001b[0m\u001b[0;34m\u001b[0m\u001b[0m\n\u001b[0m\u001b[1;32m   3362\u001b[0m             \u001b[0;32mexcept\u001b[0m \u001b[0mKeyError\u001b[0m \u001b[0;32mas\u001b[0m \u001b[0merr\u001b[0m\u001b[0;34m:\u001b[0m\u001b[0;34m\u001b[0m\u001b[0;34m\u001b[0m\u001b[0m\n",
            "\u001b[0;32m/usr/local/lib/python3.7/dist-packages/pandas/_libs/index.pyx\u001b[0m in \u001b[0;36mpandas._libs.index.IndexEngine.get_loc\u001b[0;34m()\u001b[0m\n",
            "\u001b[0;32m/usr/local/lib/python3.7/dist-packages/pandas/_libs/index.pyx\u001b[0m in \u001b[0;36mpandas._libs.index.IndexEngine.get_loc\u001b[0;34m()\u001b[0m\n",
            "\u001b[0;32mpandas/_libs/hashtable_class_helper.pxi\u001b[0m in \u001b[0;36mpandas._libs.hashtable.Int64HashTable.get_item\u001b[0;34m()\u001b[0m\n",
            "\u001b[0;32mpandas/_libs/hashtable_class_helper.pxi\u001b[0m in \u001b[0;36mpandas._libs.hashtable.Int64HashTable.get_item\u001b[0;34m()\u001b[0m\n",
            "\u001b[0;31mKeyError\u001b[0m: 0",
            "\nThe above exception was the direct cause of the following exception:\n",
            "\u001b[0;31mKeyError\u001b[0m                                  Traceback (most recent call last)",
            "\u001b[0;32m<ipython-input-37-0f69ff9f3419>\u001b[0m in \u001b[0;36m<module>\u001b[0;34m()\u001b[0m\n\u001b[0;32m----> 1\u001b[0;31m \u001b[0mdf_temp\u001b[0m\u001b[0;34m[\u001b[0m\u001b[0;34m'Sentiment'\u001b[0m\u001b[0;34m]\u001b[0m\u001b[0;34m[\u001b[0m\u001b[0;36m0\u001b[0m\u001b[0;34m]\u001b[0m\u001b[0;34m\u001b[0m\u001b[0;34m\u001b[0m\u001b[0m\n\u001b[0m",
            "\u001b[0;32m/usr/local/lib/python3.7/dist-packages/pandas/core/series.py\u001b[0m in \u001b[0;36m__getitem__\u001b[0;34m(self, key)\u001b[0m\n\u001b[1;32m    940\u001b[0m \u001b[0;34m\u001b[0m\u001b[0m\n\u001b[1;32m    941\u001b[0m         \u001b[0;32melif\u001b[0m \u001b[0mkey_is_scalar\u001b[0m\u001b[0;34m:\u001b[0m\u001b[0;34m\u001b[0m\u001b[0;34m\u001b[0m\u001b[0m\n\u001b[0;32m--> 942\u001b[0;31m             \u001b[0;32mreturn\u001b[0m \u001b[0mself\u001b[0m\u001b[0;34m.\u001b[0m\u001b[0m_get_value\u001b[0m\u001b[0;34m(\u001b[0m\u001b[0mkey\u001b[0m\u001b[0;34m)\u001b[0m\u001b[0;34m\u001b[0m\u001b[0;34m\u001b[0m\u001b[0m\n\u001b[0m\u001b[1;32m    943\u001b[0m \u001b[0;34m\u001b[0m\u001b[0m\n\u001b[1;32m    944\u001b[0m         \u001b[0;32mif\u001b[0m \u001b[0mis_hashable\u001b[0m\u001b[0;34m(\u001b[0m\u001b[0mkey\u001b[0m\u001b[0;34m)\u001b[0m\u001b[0;34m:\u001b[0m\u001b[0;34m\u001b[0m\u001b[0;34m\u001b[0m\u001b[0m\n",
            "\u001b[0;32m/usr/local/lib/python3.7/dist-packages/pandas/core/series.py\u001b[0m in \u001b[0;36m_get_value\u001b[0;34m(self, label, takeable)\u001b[0m\n\u001b[1;32m   1049\u001b[0m \u001b[0;34m\u001b[0m\u001b[0m\n\u001b[1;32m   1050\u001b[0m         \u001b[0;31m# Similar to Index.get_value, but we do not fall back to positional\u001b[0m\u001b[0;34m\u001b[0m\u001b[0;34m\u001b[0m\u001b[0;34m\u001b[0m\u001b[0m\n\u001b[0;32m-> 1051\u001b[0;31m         \u001b[0mloc\u001b[0m \u001b[0;34m=\u001b[0m \u001b[0mself\u001b[0m\u001b[0;34m.\u001b[0m\u001b[0mindex\u001b[0m\u001b[0;34m.\u001b[0m\u001b[0mget_loc\u001b[0m\u001b[0;34m(\u001b[0m\u001b[0mlabel\u001b[0m\u001b[0;34m)\u001b[0m\u001b[0;34m\u001b[0m\u001b[0;34m\u001b[0m\u001b[0m\n\u001b[0m\u001b[1;32m   1052\u001b[0m         \u001b[0;32mreturn\u001b[0m \u001b[0mself\u001b[0m\u001b[0;34m.\u001b[0m\u001b[0mindex\u001b[0m\u001b[0;34m.\u001b[0m\u001b[0m_get_values_for_loc\u001b[0m\u001b[0;34m(\u001b[0m\u001b[0mself\u001b[0m\u001b[0;34m,\u001b[0m \u001b[0mloc\u001b[0m\u001b[0;34m,\u001b[0m \u001b[0mlabel\u001b[0m\u001b[0;34m)\u001b[0m\u001b[0;34m\u001b[0m\u001b[0;34m\u001b[0m\u001b[0m\n\u001b[1;32m   1053\u001b[0m \u001b[0;34m\u001b[0m\u001b[0m\n",
            "\u001b[0;32m/usr/local/lib/python3.7/dist-packages/pandas/core/indexes/base.py\u001b[0m in \u001b[0;36mget_loc\u001b[0;34m(self, key, method, tolerance)\u001b[0m\n\u001b[1;32m   3361\u001b[0m                 \u001b[0;32mreturn\u001b[0m \u001b[0mself\u001b[0m\u001b[0;34m.\u001b[0m\u001b[0m_engine\u001b[0m\u001b[0;34m.\u001b[0m\u001b[0mget_loc\u001b[0m\u001b[0;34m(\u001b[0m\u001b[0mcasted_key\u001b[0m\u001b[0;34m)\u001b[0m\u001b[0;34m\u001b[0m\u001b[0;34m\u001b[0m\u001b[0m\n\u001b[1;32m   3362\u001b[0m             \u001b[0;32mexcept\u001b[0m \u001b[0mKeyError\u001b[0m \u001b[0;32mas\u001b[0m \u001b[0merr\u001b[0m\u001b[0;34m:\u001b[0m\u001b[0;34m\u001b[0m\u001b[0;34m\u001b[0m\u001b[0m\n\u001b[0;32m-> 3363\u001b[0;31m                 \u001b[0;32mraise\u001b[0m \u001b[0mKeyError\u001b[0m\u001b[0;34m(\u001b[0m\u001b[0mkey\u001b[0m\u001b[0;34m)\u001b[0m \u001b[0;32mfrom\u001b[0m \u001b[0merr\u001b[0m\u001b[0;34m\u001b[0m\u001b[0;34m\u001b[0m\u001b[0m\n\u001b[0m\u001b[1;32m   3364\u001b[0m \u001b[0;34m\u001b[0m\u001b[0m\n\u001b[1;32m   3365\u001b[0m         \u001b[0;32mif\u001b[0m \u001b[0mis_scalar\u001b[0m\u001b[0;34m(\u001b[0m\u001b[0mkey\u001b[0m\u001b[0;34m)\u001b[0m \u001b[0;32mand\u001b[0m \u001b[0misna\u001b[0m\u001b[0;34m(\u001b[0m\u001b[0mkey\u001b[0m\u001b[0;34m)\u001b[0m \u001b[0;32mand\u001b[0m \u001b[0;32mnot\u001b[0m \u001b[0mself\u001b[0m\u001b[0;34m.\u001b[0m\u001b[0mhasnans\u001b[0m\u001b[0;34m:\u001b[0m\u001b[0;34m\u001b[0m\u001b[0;34m\u001b[0m\u001b[0m\n",
            "\u001b[0;31mKeyError\u001b[0m: 0"
          ]
        }
      ]
    },
    {
      "cell_type": "markdown",
      "source": [
        "#Sentiment Analysis using Flair"
      ],
      "metadata": {
        "id": "ZKTwI9oJ3mrV"
      }
    },
    {
      "cell_type": "code",
      "source": [
        "!pip install flair"
      ],
      "metadata": {
        "id": "gZv3PGZzqLEQ"
      },
      "execution_count": null,
      "outputs": []
    },
    {
      "cell_type": "code",
      "source": [
        "import flair\n",
        "sentiment_model = flair.models.TextClassifier.load('en-sentiment')"
      ],
      "metadata": {
        "colab": {
          "base_uri": "https://localhost:8080/",
          "height": 252,
          "referenced_widgets": [
            "cee1a780d2d349e2854252a09a41d278",
            "528675a59f984f4e9f9da58f21d57f6e",
            "9337875fd6a14755b7e18fb6fe1ff268",
            "16223f896b1d435b94c2b8a99fafb2ed",
            "32f9dec6f9c94029863d665422dd7b44",
            "2dc92eb6137b46c281dfc0ac7cc58071",
            "f01d7ac0709444d297e6dfb620e61199",
            "1ef0a15d9a15406dae0786de1aa5bec0",
            "5e1aaf28ad4b485fa7e914bf36daa4fb",
            "b19994bceeba47c48425cdd1f79b154d",
            "99d0492428f442baa622c47129d302d7",
            "93e393ccd58b4101984819ad5de17d8b",
            "7052136164b94cb49388fd708170e416",
            "fa6922a4525b42f8b1674b169846fc64",
            "bfb285c3fee1409a88665a847cec2c24",
            "35fe04bd6c7a42ff99b5961d36db10c7",
            "d2805b6ac6d44341812cba58252db2d6",
            "5c5d9e4e13e145c9a654ce9c9b178f71",
            "6b00e8c1f91c4f4cb80794c2ea3a0bf7",
            "cf49ab907a5046c0b0ef8a6c3cccfd6f",
            "c93e7259e035453d916460bcecd5b3ab",
            "ffe11fee2d1c4e1d92003619a8dde173",
            "74bdfa59e2f94e1e9522ef67760b6b52",
            "f1ca76d5a70040ddb740cd0c46fc5b55",
            "c27899fce78d4a7695dd6721bd8f84d7",
            "93ce2598def14e868b81033b3a65429b",
            "54b1c4fc98af473f8becf0e969ab89ea",
            "f5506ae2ecbc4d94be05e00da51791a9",
            "fb52697dfdb44c16b14500ebe3e9bae2",
            "5e2c28f2bd39406691acc245e1762b3e",
            "6ca2bbbc2c9845cebc2ca1a62678d100",
            "cbeaa8aa38ad4584b951c672ff859352",
            "eeee85e139124f5594cf04b6e5020f6d",
            "64843e032c3d46ff844bacf9bf45f4fb",
            "3c55a893ff4647f2a4fde929b109f79d",
            "43fe589912b441809d744041a056c3b5",
            "13146b59c3494fe28a002660f8c1653e",
            "087c800d420b4fed97d689280c10b872",
            "007e1f4ee66849c1bef8d69f70d31088",
            "3989329d05b84785b55969b5a4fb48bf",
            "25e14084693646b78f8ead006a82c00c",
            "fa674cf617ed4ade8ca6622dcad9fbb5",
            "6c84f23258ed4707b71815c018793e86",
            "9a077cb4ca394c6bb4658c810da6a19a"
          ]
        },
        "id": "gaYnDj06qJch",
        "outputId": "fa1bfe87-cd15-4c06-838c-80a9bf50f7bf"
      },
      "execution_count": null,
      "outputs": [
        {
          "output_type": "stream",
          "name": "stdout",
          "text": [
            "2022-04-27 10:57:52,206 https://nlp.informatik.hu-berlin.de/resources/models/sentiment-curated-distilbert/sentiment-en-mix-distillbert_4.pt not found in cache, downloading to /tmp/tmppg35rtuz\n"
          ]
        },
        {
          "output_type": "stream",
          "name": "stderr",
          "text": [
            "100%|██████████| 265512723/265512723 [00:17<00:00, 15529130.46B/s]"
          ]
        },
        {
          "output_type": "stream",
          "name": "stdout",
          "text": [
            "2022-04-27 10:58:09,838 copying /tmp/tmppg35rtuz to cache at /root/.flair/models/sentiment-en-mix-distillbert_4.pt\n"
          ]
        },
        {
          "output_type": "stream",
          "name": "stderr",
          "text": [
            "\n"
          ]
        },
        {
          "output_type": "stream",
          "name": "stdout",
          "text": [
            "2022-04-27 10:58:10,789 removing temp file /tmp/tmppg35rtuz\n",
            "2022-04-27 10:58:10,853 loading file /root/.flair/models/sentiment-en-mix-distillbert_4.pt\n"
          ]
        },
        {
          "output_type": "display_data",
          "data": {
            "text/plain": [
              "Downloading:   0%|          | 0.00/28.0 [00:00<?, ?B/s]"
            ],
            "application/vnd.jupyter.widget-view+json": {
              "version_major": 2,
              "version_minor": 0,
              "model_id": "cee1a780d2d349e2854252a09a41d278"
            }
          },
          "metadata": {}
        },
        {
          "output_type": "display_data",
          "data": {
            "text/plain": [
              "Downloading:   0%|          | 0.00/483 [00:00<?, ?B/s]"
            ],
            "application/vnd.jupyter.widget-view+json": {
              "version_major": 2,
              "version_minor": 0,
              "model_id": "93e393ccd58b4101984819ad5de17d8b"
            }
          },
          "metadata": {}
        },
        {
          "output_type": "display_data",
          "data": {
            "text/plain": [
              "Downloading:   0%|          | 0.00/226k [00:00<?, ?B/s]"
            ],
            "application/vnd.jupyter.widget-view+json": {
              "version_major": 2,
              "version_minor": 0,
              "model_id": "74bdfa59e2f94e1e9522ef67760b6b52"
            }
          },
          "metadata": {}
        },
        {
          "output_type": "display_data",
          "data": {
            "text/plain": [
              "Downloading:   0%|          | 0.00/455k [00:00<?, ?B/s]"
            ],
            "application/vnd.jupyter.widget-view+json": {
              "version_major": 2,
              "version_minor": 0,
              "model_id": "64843e032c3d46ff844bacf9bf45f4fb"
            }
          },
          "metadata": {}
        }
      ]
    },
    {
      "cell_type": "code",
      "source": [
        "labelled_news['probability']=0\n",
        "labelled_news['predicted_sentiment']=''"
      ],
      "metadata": {
        "id": "dxmgiMLEqcaB"
      },
      "execution_count": null,
      "outputs": []
    },
    {
      "cell_type": "code",
      "source": [
        "# we will append probability and sentiment preds later\n",
        "probs = []\n",
        "sentiments = []\n",
        "\n",
        "# use regex expressions (in clean function) to clean tweets\n",
        "\n",
        "i=0\n",
        "for tweet in labelled_news['Title'].to_list():\n",
        "    # make prediction\n",
        "    sentence = flair.data.Sentence(tweet)\n",
        "    sentiment_model.predict(sentence)\n",
        "    # extract sentiment prediction\n",
        "    probs.append(sentence.labels[0].score)  # numerical score 0-1\n",
        "    sentiments.append(sentence.labels[0].value)  # 'POSITIVE' or 'NEGATIVE'\n",
        "    i+=1\n",
        "    if i%1000==0:\n",
        "      print(i)\n",
        "\n",
        "# add probability and sentiment predictions to tweets dataframe\n",
        "labelled_news['probability'] = probs\n",
        "labelled_news['predicted_sentiment'] = sentiments"
      ],
      "metadata": {
        "id": "QenkP5Mdpoxa"
      },
      "execution_count": null,
      "outputs": []
    },
    {
      "cell_type": "code",
      "source": [
        "with open('/content/drive/MyDrive/ir_project/binaries/news_with_sentiments', 'wb') as fileobj:\n",
        "    pickle.dump(labelled_news, fileobj)"
      ],
      "metadata": {
        "id": "wDGdAsWerVaj"
      },
      "execution_count": null,
      "outputs": []
    },
    {
      "cell_type": "code",
      "source": [
        "labelled_news.head()"
      ],
      "metadata": {
        "colab": {
          "base_uri": "https://localhost:8080/",
          "height": 704
        },
        "id": "Txt_16qG2ENe",
        "outputId": "9e7eb893-90c1-4f5c-94ac-acd7f1221ce4"
      },
      "execution_count": null,
      "outputs": [
        {
          "output_type": "execute_result",
          "data": {
            "text/plain": [
              "                                  _id                Date  \\\n",
              "197  7ead28fb9f37e2bfd45f14be4fcc1a96 2010-01-04 00:35:00   \n",
              "198  4ade1816abd1a174e77c33613c2dbb22 2010-01-04 00:40:00   \n",
              "199  5c6bb6fcfe3aa6a411881c960515b49c 2010-01-04 00:42:00   \n",
              "200  ecc15c4a58383b385578927646a1ca74 2010-01-04 00:46:00   \n",
              "202  1aab1cae901738671d5b3d3b0b194c60 2010-01-04 00:48:00   \n",
              "\n",
              "                                                 Title  \\\n",
              "197         Steel sales jump 50% in Dec on firm demand   \n",
              "198                 Petrobras to exit ONGC’s gas block   \n",
              "199            PE entry to help Himadri fund expansion   \n",
              "200  India Inc’s top bosses help themselves with Es...   \n",
              "202  Infosys results may not make an impact on open...   \n",
              "\n",
              "                                               Article  \\\n",
              "197  NEW DELHI: India’s top steelmakers led by Stee...   \n",
              "198  NEW DELHI: Brazil’s Petrobras had decided to q...   \n",
              "199  MUMBAI: Private equity Bain Capital has bought...   \n",
              "200  NEW DELHI: The three months leading to Decembe...   \n",
              "202  MUMBAI: It’s a tradition that has been followe...   \n",
              "\n",
              "                                                  Link Sentiment  probability  \\\n",
              "197  https://economictimes.indiatimes.com/industry/...  Positive     0.843574   \n",
              "198  https://economictimes.indiatimes.com/industry/...  Positive     0.998001   \n",
              "199  https://economictimes.indiatimes.com/markets/s...  Positive     0.981639   \n",
              "200  https://economictimes.indiatimes.com/markets/s...  Positive     0.957147   \n",
              "202  https://economictimes.indiatimes.com/markets/s...  Positive     0.999382   \n",
              "\n",
              "    predicted_sentiment  \n",
              "197            POSITIVE  \n",
              "198            NEGATIVE  \n",
              "199            POSITIVE  \n",
              "200            POSITIVE  \n",
              "202            NEGATIVE  "
            ],
            "text/html": [
              "\n",
              "  <div id=\"df-b7378340-a643-489d-96f9-347e59ca826c\">\n",
              "    <div class=\"colab-df-container\">\n",
              "      <div>\n",
              "<style scoped>\n",
              "    .dataframe tbody tr th:only-of-type {\n",
              "        vertical-align: middle;\n",
              "    }\n",
              "\n",
              "    .dataframe tbody tr th {\n",
              "        vertical-align: top;\n",
              "    }\n",
              "\n",
              "    .dataframe thead th {\n",
              "        text-align: right;\n",
              "    }\n",
              "</style>\n",
              "<table border=\"1\" class=\"dataframe\">\n",
              "  <thead>\n",
              "    <tr style=\"text-align: right;\">\n",
              "      <th></th>\n",
              "      <th>_id</th>\n",
              "      <th>Date</th>\n",
              "      <th>Title</th>\n",
              "      <th>Article</th>\n",
              "      <th>Link</th>\n",
              "      <th>Sentiment</th>\n",
              "      <th>probability</th>\n",
              "      <th>predicted_sentiment</th>\n",
              "    </tr>\n",
              "  </thead>\n",
              "  <tbody>\n",
              "    <tr>\n",
              "      <th>197</th>\n",
              "      <td>7ead28fb9f37e2bfd45f14be4fcc1a96</td>\n",
              "      <td>2010-01-04 00:35:00</td>\n",
              "      <td>Steel sales jump 50% in Dec on firm demand</td>\n",
              "      <td>NEW DELHI: India’s top steelmakers led by Stee...</td>\n",
              "      <td>https://economictimes.indiatimes.com/industry/...</td>\n",
              "      <td>Positive</td>\n",
              "      <td>0.843574</td>\n",
              "      <td>POSITIVE</td>\n",
              "    </tr>\n",
              "    <tr>\n",
              "      <th>198</th>\n",
              "      <td>4ade1816abd1a174e77c33613c2dbb22</td>\n",
              "      <td>2010-01-04 00:40:00</td>\n",
              "      <td>Petrobras to exit ONGC’s gas block</td>\n",
              "      <td>NEW DELHI: Brazil’s Petrobras had decided to q...</td>\n",
              "      <td>https://economictimes.indiatimes.com/industry/...</td>\n",
              "      <td>Positive</td>\n",
              "      <td>0.998001</td>\n",
              "      <td>NEGATIVE</td>\n",
              "    </tr>\n",
              "    <tr>\n",
              "      <th>199</th>\n",
              "      <td>5c6bb6fcfe3aa6a411881c960515b49c</td>\n",
              "      <td>2010-01-04 00:42:00</td>\n",
              "      <td>PE entry to help Himadri fund expansion</td>\n",
              "      <td>MUMBAI: Private equity Bain Capital has bought...</td>\n",
              "      <td>https://economictimes.indiatimes.com/markets/s...</td>\n",
              "      <td>Positive</td>\n",
              "      <td>0.981639</td>\n",
              "      <td>POSITIVE</td>\n",
              "    </tr>\n",
              "    <tr>\n",
              "      <th>200</th>\n",
              "      <td>ecc15c4a58383b385578927646a1ca74</td>\n",
              "      <td>2010-01-04 00:46:00</td>\n",
              "      <td>India Inc’s top bosses help themselves with Es...</td>\n",
              "      <td>NEW DELHI: The three months leading to Decembe...</td>\n",
              "      <td>https://economictimes.indiatimes.com/markets/s...</td>\n",
              "      <td>Positive</td>\n",
              "      <td>0.957147</td>\n",
              "      <td>POSITIVE</td>\n",
              "    </tr>\n",
              "    <tr>\n",
              "      <th>202</th>\n",
              "      <td>1aab1cae901738671d5b3d3b0b194c60</td>\n",
              "      <td>2010-01-04 00:48:00</td>\n",
              "      <td>Infosys results may not make an impact on open...</td>\n",
              "      <td>MUMBAI: It’s a tradition that has been followe...</td>\n",
              "      <td>https://economictimes.indiatimes.com/markets/s...</td>\n",
              "      <td>Positive</td>\n",
              "      <td>0.999382</td>\n",
              "      <td>NEGATIVE</td>\n",
              "    </tr>\n",
              "  </tbody>\n",
              "</table>\n",
              "</div>\n",
              "      <button class=\"colab-df-convert\" onclick=\"convertToInteractive('df-b7378340-a643-489d-96f9-347e59ca826c')\"\n",
              "              title=\"Convert this dataframe to an interactive table.\"\n",
              "              style=\"display:none;\">\n",
              "        \n",
              "  <svg xmlns=\"http://www.w3.org/2000/svg\" height=\"24px\"viewBox=\"0 0 24 24\"\n",
              "       width=\"24px\">\n",
              "    <path d=\"M0 0h24v24H0V0z\" fill=\"none\"/>\n",
              "    <path d=\"M18.56 5.44l.94 2.06.94-2.06 2.06-.94-2.06-.94-.94-2.06-.94 2.06-2.06.94zm-11 1L8.5 8.5l.94-2.06 2.06-.94-2.06-.94L8.5 2.5l-.94 2.06-2.06.94zm10 10l.94 2.06.94-2.06 2.06-.94-2.06-.94-.94-2.06-.94 2.06-2.06.94z\"/><path d=\"M17.41 7.96l-1.37-1.37c-.4-.4-.92-.59-1.43-.59-.52 0-1.04.2-1.43.59L10.3 9.45l-7.72 7.72c-.78.78-.78 2.05 0 2.83L4 21.41c.39.39.9.59 1.41.59.51 0 1.02-.2 1.41-.59l7.78-7.78 2.81-2.81c.8-.78.8-2.07 0-2.86zM5.41 20L4 18.59l7.72-7.72 1.47 1.35L5.41 20z\"/>\n",
              "  </svg>\n",
              "      </button>\n",
              "      \n",
              "  <style>\n",
              "    .colab-df-container {\n",
              "      display:flex;\n",
              "      flex-wrap:wrap;\n",
              "      gap: 12px;\n",
              "    }\n",
              "\n",
              "    .colab-df-convert {\n",
              "      background-color: #E8F0FE;\n",
              "      border: none;\n",
              "      border-radius: 50%;\n",
              "      cursor: pointer;\n",
              "      display: none;\n",
              "      fill: #1967D2;\n",
              "      height: 32px;\n",
              "      padding: 0 0 0 0;\n",
              "      width: 32px;\n",
              "    }\n",
              "\n",
              "    .colab-df-convert:hover {\n",
              "      background-color: #E2EBFA;\n",
              "      box-shadow: 0px 1px 2px rgba(60, 64, 67, 0.3), 0px 1px 3px 1px rgba(60, 64, 67, 0.15);\n",
              "      fill: #174EA6;\n",
              "    }\n",
              "\n",
              "    [theme=dark] .colab-df-convert {\n",
              "      background-color: #3B4455;\n",
              "      fill: #D2E3FC;\n",
              "    }\n",
              "\n",
              "    [theme=dark] .colab-df-convert:hover {\n",
              "      background-color: #434B5C;\n",
              "      box-shadow: 0px 1px 3px 1px rgba(0, 0, 0, 0.15);\n",
              "      filter: drop-shadow(0px 1px 2px rgba(0, 0, 0, 0.3));\n",
              "      fill: #FFFFFF;\n",
              "    }\n",
              "  </style>\n",
              "\n",
              "      <script>\n",
              "        const buttonEl =\n",
              "          document.querySelector('#df-b7378340-a643-489d-96f9-347e59ca826c button.colab-df-convert');\n",
              "        buttonEl.style.display =\n",
              "          google.colab.kernel.accessAllowed ? 'block' : 'none';\n",
              "\n",
              "        async function convertToInteractive(key) {\n",
              "          const element = document.querySelector('#df-b7378340-a643-489d-96f9-347e59ca826c');\n",
              "          const dataTable =\n",
              "            await google.colab.kernel.invokeFunction('convertToInteractive',\n",
              "                                                     [key], {});\n",
              "          if (!dataTable) return;\n",
              "\n",
              "          const docLinkHtml = 'Like what you see? Visit the ' +\n",
              "            '<a target=\"_blank\" href=https://colab.research.google.com/notebooks/data_table.ipynb>data table notebook</a>'\n",
              "            + ' to learn more about interactive tables.';\n",
              "          element.innerHTML = '';\n",
              "          dataTable['output_type'] = 'display_data';\n",
              "          await google.colab.output.renderOutput(dataTable, element);\n",
              "          const docLink = document.createElement('div');\n",
              "          docLink.innerHTML = docLinkHtml;\n",
              "          element.appendChild(docLink);\n",
              "        }\n",
              "      </script>\n",
              "    </div>\n",
              "  </div>\n",
              "  "
            ]
          },
          "metadata": {},
          "execution_count": 15
        }
      ]
    },
    {
      "cell_type": "code",
      "source": [
        "c=0\n",
        "for i in labelled_news.index:\n",
        "  if labelled_news['predicted_sentiment'][i]=='POSITIVE':\n",
        "    c+=1\n",
        "print(c,len(labelled_news)-c)"
      ],
      "metadata": {
        "colab": {
          "base_uri": "https://localhost:8080/"
        },
        "id": "35DYAMue2VdJ",
        "outputId": "492f3669-70c2-4543-82a3-018d616cf993"
      },
      "execution_count": null,
      "outputs": [
        {
          "output_type": "stream",
          "name": "stdout",
          "text": [
            "149027 230072\n"
          ]
        }
      ]
    },
    {
      "cell_type": "code",
      "source": [
        ""
      ],
      "metadata": {
        "id": "1LF-HSCW3ikX"
      },
      "execution_count": null,
      "outputs": []
    }
  ]
}